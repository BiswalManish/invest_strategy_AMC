{
 "cells": [
  {
   "attachments": {},
   "cell_type": "markdown",
   "id": "fa222d53",
   "metadata": {},
   "source": [
    "# Part 3: Analysis\n",
    "    \n",
    "    In this notebook we will do funding_type, country analysis, and sector-wise analysis.\n",
    "    The sector-wise analysis will require us to merge the mapping file with the master. \n",
    "    Hence we will do it at last.\n",
    "    Lets start with funding type analysis"
   ]
  },
  {
   "attachments": {},
   "cell_type": "markdown",
   "id": "469413a6",
   "metadata": {},
   "source": [
    "## 1. Funding analysis\n",
    "\n",
    "    In this we will look at the funding type and funding amount for each of the companies\n",
    "    We will also have a constraint of investment amount of 5-15 million USD.\n",
    "    So will look at the funding type with average amount in this range\n"
   ]
  },
  {
   "cell_type": "code",
   "execution_count": 1,
   "id": "34ec608d",
   "metadata": {},
   "outputs": [],
   "source": [
    "import numpy as np\n",
    "import pandas as pd\n",
    "import matplotlib.pyplot as plt\n",
    "import seaborn as sns\n",
    "\n",
    "import warnings\n",
    "warnings.filterwarnings('ignore')"
   ]
  },
  {
   "cell_type": "code",
   "execution_count": 2,
   "id": "ca54aa3a",
   "metadata": {},
   "outputs": [],
   "source": [
    "path = '/Users/manish/Documents/Projects/data_science/investment_strategy/data/clean_data/master_clean.csv'"
   ]
  },
  {
   "cell_type": "code",
   "execution_count": 3,
   "id": "2704d6f0",
   "metadata": {},
   "outputs": [
    {
     "data": {
      "text/html": [
       "<div>\n",
       "<style scoped>\n",
       "    .dataframe tbody tr th:only-of-type {\n",
       "        vertical-align: middle;\n",
       "    }\n",
       "\n",
       "    .dataframe tbody tr th {\n",
       "        vertical-align: top;\n",
       "    }\n",
       "\n",
       "    .dataframe thead th {\n",
       "        text-align: right;\n",
       "    }\n",
       "</style>\n",
       "<table border=\"1\" class=\"dataframe\">\n",
       "  <thead>\n",
       "    <tr style=\"text-align: right;\">\n",
       "      <th></th>\n",
       "      <th>permalink</th>\n",
       "      <th>name</th>\n",
       "      <th>category_list</th>\n",
       "      <th>status</th>\n",
       "      <th>country_code</th>\n",
       "      <th>funding_round_permalink</th>\n",
       "      <th>funding_round_type</th>\n",
       "      <th>funded_at</th>\n",
       "      <th>raised_amount_usd</th>\n",
       "    </tr>\n",
       "  </thead>\n",
       "  <tbody>\n",
       "    <tr>\n",
       "      <th>0</th>\n",
       "      <td>/organization/-fame</td>\n",
       "      <td>#fame</td>\n",
       "      <td>Media</td>\n",
       "      <td>operating</td>\n",
       "      <td>IND</td>\n",
       "      <td>/funding-round/9a01d05418af9f794eebff7ace91f638</td>\n",
       "      <td>venture</td>\n",
       "      <td>05-01-2015</td>\n",
       "      <td>10000000.0</td>\n",
       "    </tr>\n",
       "    <tr>\n",
       "      <th>1</th>\n",
       "      <td>/organization/-qounter</td>\n",
       "      <td>:Qounter</td>\n",
       "      <td>Application Platforms|Real Time|Social Network...</td>\n",
       "      <td>operating</td>\n",
       "      <td>USA</td>\n",
       "      <td>/funding-round/b44fbb94153f6cdef13083530bb48030</td>\n",
       "      <td>seed</td>\n",
       "      <td>01-03-2014</td>\n",
       "      <td>700000.0</td>\n",
       "    </tr>\n",
       "    <tr>\n",
       "      <th>2</th>\n",
       "      <td>/organization/0-6-com</td>\n",
       "      <td>0-6.com</td>\n",
       "      <td>Curated Web</td>\n",
       "      <td>operating</td>\n",
       "      <td>CHN</td>\n",
       "      <td>/funding-round/5727accaeaa57461bd22a9bdd945382d</td>\n",
       "      <td>venture</td>\n",
       "      <td>19-03-2008</td>\n",
       "      <td>2000000.0</td>\n",
       "    </tr>\n",
       "    <tr>\n",
       "      <th>3</th>\n",
       "      <td>/organization/01games-technology</td>\n",
       "      <td>01Games Technology</td>\n",
       "      <td>Games</td>\n",
       "      <td>operating</td>\n",
       "      <td>HKG</td>\n",
       "      <td>/funding-round/7d53696f2b4f607a2f2a8cbb83d01839</td>\n",
       "      <td>undisclosed</td>\n",
       "      <td>01-07-2014</td>\n",
       "      <td>41250.0</td>\n",
       "    </tr>\n",
       "    <tr>\n",
       "      <th>4</th>\n",
       "      <td>/organization/0ndine-biomedical-inc</td>\n",
       "      <td>Ondine Biomedical Inc.</td>\n",
       "      <td>Biotechnology</td>\n",
       "      <td>operating</td>\n",
       "      <td>CAN</td>\n",
       "      <td>/funding-round/2b9d3ac293d5cdccbecff5c8cb0f327d</td>\n",
       "      <td>seed</td>\n",
       "      <td>11-09-2009</td>\n",
       "      <td>43360.0</td>\n",
       "    </tr>\n",
       "  </tbody>\n",
       "</table>\n",
       "</div>"
      ],
      "text/plain": [
       "                             permalink                    name  \\\n",
       "0                  /organization/-fame                   #fame   \n",
       "1               /organization/-qounter                :Qounter   \n",
       "2                /organization/0-6-com                 0-6.com   \n",
       "3     /organization/01games-technology      01Games Technology   \n",
       "4  /organization/0ndine-biomedical-inc  Ondine Biomedical Inc.   \n",
       "\n",
       "                                       category_list     status country_code  \\\n",
       "0                                              Media  operating          IND   \n",
       "1  Application Platforms|Real Time|Social Network...  operating          USA   \n",
       "2                                        Curated Web  operating          CHN   \n",
       "3                                              Games  operating          HKG   \n",
       "4                                      Biotechnology  operating          CAN   \n",
       "\n",
       "                           funding_round_permalink funding_round_type  \\\n",
       "0  /funding-round/9a01d05418af9f794eebff7ace91f638            venture   \n",
       "1  /funding-round/b44fbb94153f6cdef13083530bb48030               seed   \n",
       "2  /funding-round/5727accaeaa57461bd22a9bdd945382d            venture   \n",
       "3  /funding-round/7d53696f2b4f607a2f2a8cbb83d01839        undisclosed   \n",
       "4  /funding-round/2b9d3ac293d5cdccbecff5c8cb0f327d               seed   \n",
       "\n",
       "    funded_at  raised_amount_usd  \n",
       "0  05-01-2015         10000000.0  \n",
       "1  01-03-2014           700000.0  \n",
       "2  19-03-2008          2000000.0  \n",
       "3  01-07-2014            41250.0  \n",
       "4  11-09-2009            43360.0  "
      ]
     },
     "execution_count": 3,
     "metadata": {},
     "output_type": "execute_result"
    }
   ],
   "source": [
    "master = pd.read_csv(path)\n",
    "\n",
    "\n",
    "#making a copy of the master file to work on\n",
    "df = master.copy()\n",
    "df.head()"
   ]
  },
  {
   "cell_type": "code",
   "execution_count": 4,
   "id": "63683e28",
   "metadata": {
    "scrolled": false
   },
   "outputs": [
    {
     "name": "stdout",
     "output_type": "stream",
     "text": [
      "venture                  47809\n",
      "seed                     21095\n",
      "debt_financing            6506\n",
      "angel                     4400\n",
      "grant                     1939\n",
      "private_equity            1820\n",
      "undisclosed               1345\n",
      "convertible_note          1320\n",
      "equity_crowdfunding       1128\n",
      "post_ipo_equity            598\n",
      "product_crowdfunding       330\n",
      "post_ipo_debt              151\n",
      "non_equity_assistance       60\n",
      "secondary_market            28\n",
      "Name: funding_round_type, dtype: int64\n",
      "----------------------------------------\n",
      "venture                  54.00\n",
      "seed                     23.83\n",
      "debt_financing            7.35\n",
      "angel                     4.97\n",
      "grant                     2.19\n",
      "private_equity            2.06\n",
      "undisclosed               1.52\n",
      "convertible_note          1.49\n",
      "equity_crowdfunding       1.27\n",
      "post_ipo_equity           0.68\n",
      "product_crowdfunding      0.37\n",
      "post_ipo_debt             0.17\n",
      "non_equity_assistance     0.07\n",
      "secondary_market          0.03\n",
      "Name: funding_round_type, dtype: float64\n"
     ]
    }
   ],
   "source": [
    "#top investing types\n",
    "print(df.funding_round_type.value_counts())\n",
    "print('--'*20)\n",
    "print(round(100*df.funding_round_type.value_counts()/len(df.index), 2))"
   ]
  },
  {
   "attachments": {},
   "cell_type": "markdown",
   "id": "df5e5d80",
   "metadata": {},
   "source": [
    "    Types of funding-\n",
    "\n",
    "    venture - a sum of money investors commit for investment in early-stage companies. \n",
    "              The investors who supply the fund with money are designated as limited partners.\n",
    "    \n",
    "    seed - is the first official equity funding stage.\n",
    "    \n",
    "    debt_financing - loan\n",
    "    \n",
    "    angel - one-time/ongoing investment in return for equity\n",
    "    \n",
    "    grant - usually from a non-profit\n",
    "    \n",
    "    private_equity - investment on a private company in return for equity\n",
    "    \n",
    "    convertible_notes- investor would be loaning money to a startup and instead of a return in \n",
    "                       the form of principal plus interest, the investor would receive equity in the company.\n",
    "    \n",
    "    equity_crowdfunding -  Equity crowdfunding is the online offering of private company securities \n",
    "                           to a group of  people for investment\n",
    "    \n",
    "    post_ipo_equity- equity based investment is done after the company has gone public.\n",
    "    \n",
    "    product_crowd_funding - it seems it is another form of crowd funding but based on product.\n",
    "                            We have to look further\n",
    "    \n",
    "    post_ipo_debt - debt based investment is done after the company has gone public.\n",
    "    \n",
    "    non_equity_assistance - funding without getting equity on the company, \n",
    "                            these can be futures contract or any other OTC tools\n",
    "    \n",
    "    secondary_market- buying and selling securities already owned.\n",
    "    "
   ]
  },
  {
   "attachments": {},
   "cell_type": "markdown",
   "id": "4ba3a9e4",
   "metadata": {},
   "source": [
    "    Sparks Fund wants to invest in the funding type as invested by other companies.\n",
    "    THis seems to be pattern for a firm that is trying to invest in startups or are \n",
    "    in early phase of business.\n",
    "    \n",
    "    \n",
    "    Keeping this in mind following are the appropriate investment statergies - \n",
    "    1. venture\n",
    "    2. seed\n",
    "    3. angel\n",
    "    4. private_equity\n",
    "    5. convertible_notes\n",
    "    6. equity_crowdfunding\n",
    "    7. debt_financing\n",
    "    8. non_equity_assistance\n",
    "    \n",
    "    We can further drop non_equity_assistance as it has only `60` investors \n",
    "    which is the least popular funding type."
   ]
  },
  {
   "cell_type": "code",
   "execution_count": 5,
   "id": "11fe5974",
   "metadata": {},
   "outputs": [
    {
     "data": {
      "text/plain": [
       "array(['venture', 'seed', 'undisclosed', 'convertible_note',\n",
       "       'private_equity', 'debt_financing', 'angel', 'grant',\n",
       "       'equity_crowdfunding', 'post_ipo_equity', 'post_ipo_debt',\n",
       "       'product_crowdfunding', 'secondary_market',\n",
       "       'non_equity_assistance'], dtype=object)"
      ]
     },
     "execution_count": 5,
     "metadata": {},
     "output_type": "execute_result"
    }
   ],
   "source": [
    "#lets look at the funding_round_type categories\n",
    "df.funding_round_type.unique()"
   ]
  },
  {
   "cell_type": "code",
   "execution_count": 6,
   "id": "f9f2a6f1",
   "metadata": {},
   "outputs": [],
   "source": [
    "# keeping the necessary funding types in the data frame and removing the rest\n",
    "funding_types = ['venture', 'seed', 'convertible_note',\n",
    "                'private_equity', 'angel', 'equity_crowdfunding',\n",
    "                'debt_financing']\n",
    "df = df[df['funding_round_type'].isin(funding_types)]"
   ]
  },
  {
   "cell_type": "code",
   "execution_count": 7,
   "id": "852f0d15",
   "metadata": {},
   "outputs": [
    {
     "data": {
      "text/plain": [
       "venture                47809\n",
       "seed                   21095\n",
       "debt_financing          6506\n",
       "angel                   4400\n",
       "private_equity          1820\n",
       "convertible_note        1320\n",
       "equity_crowdfunding     1128\n",
       "Name: funding_round_type, dtype: int64"
      ]
     },
     "execution_count": 7,
     "metadata": {},
     "output_type": "execute_result"
    }
   ],
   "source": [
    "#checking the funding round type column\n",
    "df.funding_round_type.value_counts()"
   ]
  },
  {
   "attachments": {},
   "cell_type": "markdown",
   "id": "d34f30fc",
   "metadata": {},
   "source": [
    "We will investigate each type of funding type and match the based on the\n",
    "raised amount as our constraint is `5-15 million USD`\n"
   ]
  },
  {
   "cell_type": "code",
   "execution_count": 8,
   "id": "b9467051",
   "metadata": {},
   "outputs": [
    {
     "data": {
      "image/png": "[encoded data removed]",
      "text/plain": [
       "<Figure size 1000x600 with 1 Axes>"
      ]
     },
     "metadata": {},
     "output_type": "display_data"
    }
   ],
   "source": [
    "#box plots to check the raised amounts stats\n",
    "plt.figure(figsize = (10,6))\n",
    "plt.grid()\n",
    "sns.boxplot(y = df.raised_amount_usd)\n",
    "plt.title(\"Raised_amount_USD\")\n",
    "plt.yscale('log')\n",
    "plt.show()"
   ]
  },
  {
   "cell_type": "code",
   "execution_count": 9,
   "id": "1b233ed3",
   "metadata": {},
   "outputs": [
    {
     "data": {
      "text/html": [
       "<div>\n",
       "<style scoped>\n",
       "    .dataframe tbody tr th:only-of-type {\n",
       "        vertical-align: middle;\n",
       "    }\n",
       "\n",
       "    .dataframe tbody tr th {\n",
       "        vertical-align: top;\n",
       "    }\n",
       "\n",
       "    .dataframe thead th {\n",
       "        text-align: right;\n",
       "    }\n",
       "</style>\n",
       "<table border=\"1\" class=\"dataframe\">\n",
       "  <thead>\n",
       "    <tr style=\"text-align: right;\">\n",
       "      <th></th>\n",
       "      <th>raised_amount_usd</th>\n",
       "    </tr>\n",
       "  </thead>\n",
       "  <tbody>\n",
       "    <tr>\n",
       "      <th>count</th>\n",
       "      <td>8.407800e+04</td>\n",
       "    </tr>\n",
       "    <tr>\n",
       "      <th>mean</th>\n",
       "      <td>9.861962e+06</td>\n",
       "    </tr>\n",
       "    <tr>\n",
       "      <th>std</th>\n",
       "      <td>1.080503e+08</td>\n",
       "    </tr>\n",
       "    <tr>\n",
       "      <th>min</th>\n",
       "      <td>0.000000e+00</td>\n",
       "    </tr>\n",
       "    <tr>\n",
       "      <th>25%</th>\n",
       "      <td>4.000000e+05</td>\n",
       "    </tr>\n",
       "    <tr>\n",
       "      <th>50%</th>\n",
       "      <td>1.900000e+06</td>\n",
       "    </tr>\n",
       "    <tr>\n",
       "      <th>75%</th>\n",
       "      <td>7.250000e+06</td>\n",
       "    </tr>\n",
       "    <tr>\n",
       "      <th>max</th>\n",
       "      <td>2.127194e+10</td>\n",
       "    </tr>\n",
       "  </tbody>\n",
       "</table>\n",
       "</div>"
      ],
      "text/plain": [
       "       raised_amount_usd\n",
       "count       8.407800e+04\n",
       "mean        9.861962e+06\n",
       "std         1.080503e+08\n",
       "min         0.000000e+00\n",
       "25%         4.000000e+05\n",
       "50%         1.900000e+06\n",
       "75%         7.250000e+06\n",
       "max         2.127194e+10"
      ]
     },
     "execution_count": 9,
     "metadata": {},
     "output_type": "execute_result"
    }
   ],
   "source": [
    "#common stats of raised amount\n",
    "df.describe()"
   ]
  },
  {
   "attachments": {},
   "cell_type": "markdown",
   "id": "ae5f6cb6",
   "metadata": {},
   "source": [
    "The mean amount is about `9.8 million USD` and the median amount is `1.9 million USD`"
   ]
  },
  {
   "cell_type": "code",
   "execution_count": 10,
   "id": "b5ac4a4f",
   "metadata": {},
   "outputs": [
    {
     "data": {
      "image/png": "[encoded data removed]",
      "text/plain": [
       "<Figure size 1000x600 with 1 Axes>"
      ]
     },
     "metadata": {},
     "output_type": "display_data"
    }
   ],
   "source": [
    "#checking the summary stats for various investment types\n",
    "plt.figure(figsize = (10,6))\n",
    "plt.grid()\n",
    "sns.boxplot(y = df.raised_amount_usd, x = df.funding_round_type)\n",
    "plt.yscale('log')\n",
    "plt.title('Raised_amount_USD vs funding_type')\n",
    "plt.xticks(rotation = 45)\n",
    "plt.show()"
   ]
  },
  {
   "cell_type": "code",
   "execution_count": 11,
   "id": "cf3cf8d2",
   "metadata": {},
   "outputs": [
    {
     "data": {
      "text/html": [
       "<div>\n",
       "<style scoped>\n",
       "    .dataframe tbody tr th:only-of-type {\n",
       "        vertical-align: middle;\n",
       "    }\n",
       "\n",
       "    .dataframe tbody tr th {\n",
       "        vertical-align: top;\n",
       "    }\n",
       "\n",
       "    .dataframe thead th {\n",
       "        text-align: right;\n",
       "    }\n",
       "</style>\n",
       "<table border=\"1\" class=\"dataframe\">\n",
       "  <thead>\n",
       "    <tr style=\"text-align: right;\">\n",
       "      <th>funding_round_type</th>\n",
       "      <th>angel</th>\n",
       "      <th>convertible_note</th>\n",
       "      <th>debt_financing</th>\n",
       "      <th>equity_crowdfunding</th>\n",
       "      <th>private_equity</th>\n",
       "      <th>seed</th>\n",
       "      <th>venture</th>\n",
       "    </tr>\n",
       "  </thead>\n",
       "  <tbody>\n",
       "    <tr>\n",
       "      <th>raised_amount_usd</th>\n",
       "      <td>971573.891136</td>\n",
       "      <td>1.337187e+06</td>\n",
       "      <td>1.716765e+07</td>\n",
       "      <td>509897.967199</td>\n",
       "      <td>7.393849e+07</td>\n",
       "      <td>747793.682484</td>\n",
       "      <td>1.172422e+07</td>\n",
       "    </tr>\n",
       "  </tbody>\n",
       "</table>\n",
       "</div>"
      ],
      "text/plain": [
       "funding_round_type          angel  convertible_note  debt_financing  \\\n",
       "raised_amount_usd   971573.891136      1.337187e+06    1.716765e+07   \n",
       "\n",
       "funding_round_type  equity_crowdfunding  private_equity           seed  \\\n",
       "raised_amount_usd         509897.967199    7.393849e+07  747793.682484   \n",
       "\n",
       "funding_round_type       venture  \n",
       "raised_amount_usd   1.172422e+07  "
      ]
     },
     "execution_count": 11,
     "metadata": {},
     "output_type": "execute_result"
    }
   ],
   "source": [
    "#checking the summary stats\n",
    "pd.pivot_table(data = df, values = 'raised_amount_usd', columns = 'funding_round_type',\n",
    "              aggfunc = np.mean)"
   ]
  },
  {
   "cell_type": "code",
   "execution_count": 12,
   "id": "f83889bf",
   "metadata": {},
   "outputs": [
    {
     "data": {
      "text/html": [
       "<div>\n",
       "<style scoped>\n",
       "    .dataframe tbody tr th:only-of-type {\n",
       "        vertical-align: middle;\n",
       "    }\n",
       "\n",
       "    .dataframe tbody tr th {\n",
       "        vertical-align: top;\n",
       "    }\n",
       "\n",
       "    .dataframe thead th {\n",
       "        text-align: right;\n",
       "    }\n",
       "</style>\n",
       "<table border=\"1\" class=\"dataframe\">\n",
       "  <thead>\n",
       "    <tr style=\"text-align: right;\">\n",
       "      <th>funding_round_type</th>\n",
       "      <th>angel</th>\n",
       "      <th>convertible_note</th>\n",
       "      <th>debt_financing</th>\n",
       "      <th>equity_crowdfunding</th>\n",
       "      <th>private_equity</th>\n",
       "      <th>seed</th>\n",
       "      <th>venture</th>\n",
       "    </tr>\n",
       "  </thead>\n",
       "  <tbody>\n",
       "    <tr>\n",
       "      <th>raised_amount_usd</th>\n",
       "      <td>414906.0</td>\n",
       "      <td>300000.0</td>\n",
       "      <td>1096653.0</td>\n",
       "      <td>85000.0</td>\n",
       "      <td>20000000.0</td>\n",
       "      <td>300000.0</td>\n",
       "      <td>5000000.0</td>\n",
       "    </tr>\n",
       "  </tbody>\n",
       "</table>\n",
       "</div>"
      ],
      "text/plain": [
       "funding_round_type     angel  convertible_note  debt_financing  \\\n",
       "raised_amount_usd   414906.0          300000.0       1096653.0   \n",
       "\n",
       "funding_round_type  equity_crowdfunding  private_equity      seed    venture  \n",
       "raised_amount_usd               85000.0      20000000.0  300000.0  5000000.0  "
      ]
     },
     "execution_count": 12,
     "metadata": {},
     "output_type": "execute_result"
    }
   ],
   "source": [
    "pd.pivot_table(data = df, values = 'raised_amount_usd', columns = 'funding_round_type',\n",
    "              aggfunc = np.median)"
   ]
  },
  {
   "attachments": {},
   "cell_type": "markdown",
   "id": "11b19c58",
   "metadata": {},
   "source": [
    "We see the average and median funding amount have huge differences. This is because of outliers in \n",
    "the data. So its more appropriate to choose the `median` value to get the basic stat\n",
    "of each funding_type"
   ]
  },
  {
   "cell_type": "code",
   "execution_count": 13,
   "id": "08811704",
   "metadata": {},
   "outputs": [
    {
     "name": "stdout",
     "output_type": "stream",
     "text": [
      "funding_round_type\n",
      "private_equity         20000000.0\n",
      "venture                 5000000.0\n",
      "debt_financing          1096653.0\n",
      "angel                    414906.0\n",
      "convertible_note         300000.0\n",
      "seed                     300000.0\n",
      "equity_crowdfunding       85000.0\n",
      "Name: raised_amount_usd, dtype: float64\n"
     ]
    }
   ],
   "source": [
    "#checking the median values in order\n",
    "print(df.groupby('funding_round_type')['raised_amount_usd'].median().sort_values(ascending = False))"
   ]
  },
  {
   "attachments": {},
   "cell_type": "markdown",
   "id": "f90a63a3",
   "metadata": {},
   "source": [
    "The private_equity type funding has a median funding type of about `20 MM USD`\n",
    "this is beyond the range of Sparks Fund.\n",
    "\n",
    "The most suitable is venture type funding which has a median amount of `5 MM USD`\n",
    "\n",
    "The rest all are less than the amount Sparks Funds are looking to invest."
   ]
  },
  {
   "cell_type": "code",
   "execution_count": 14,
   "id": "f8068e15",
   "metadata": {},
   "outputs": [
    {
     "data": {
      "text/plain": [
       "venture    47809\n",
       "Name: funding_round_type, dtype: int64"
      ]
     },
     "execution_count": 14,
     "metadata": {},
     "output_type": "execute_result"
    }
   ],
   "source": [
    "# reducing the data frame to only contain venture type funds\n",
    "df = df[df['funding_round_type'] == 'venture']\n",
    "\n",
    "#checking \n",
    "df.funding_round_type.value_counts()"
   ]
  },
  {
   "attachments": {},
   "cell_type": "markdown",
   "id": "e5e01862",
   "metadata": {},
   "source": [
    "We have successfully deleted other funding types"
   ]
  },
  {
   "attachments": {},
   "cell_type": "markdown",
   "id": "8ec6fca6",
   "metadata": {},
   "source": [
    "## 2. Country Analysis\n",
    "        \n",
    "       This analysis requires those countries where english is the official language or \n",
    "       common speaking language\n",
    "       "
   ]
  },
  {
   "cell_type": "code",
   "execution_count": 15,
   "id": "14173f2b",
   "metadata": {},
   "outputs": [
    {
     "data": {
      "text/plain": [
       "(47809, 9)"
      ]
     },
     "execution_count": 15,
     "metadata": {},
     "output_type": "execute_result"
    }
   ],
   "source": [
    "#checking the dataframe\n",
    "df.shape"
   ]
  },
  {
   "cell_type": "code",
   "execution_count": 16,
   "id": "a766ca55",
   "metadata": {},
   "outputs": [],
   "source": [
    "country_wise_investments = df.groupby('country_code')['raised_amount_usd'].sum().sort_values(ascending = False)"
   ]
  },
  {
   "cell_type": "code",
   "execution_count": 17,
   "id": "8e408b3a",
   "metadata": {
    "scrolled": true
   },
   "outputs": [
    {
     "data": {
      "text/plain": [
       "country_code\n",
       "USA    4.200680e+11\n",
       "CHN    3.933892e+10\n",
       "GBR    2.007281e+10\n",
       "IND    1.426151e+10\n",
       "CAN    9.482218e+09\n",
       "FRA    7.226851e+09\n",
       "ISR    6.854350e+09\n",
       "DEU    6.306922e+09\n",
       "JPN    3.167647e+09\n",
       "SWE    3.145857e+09\n",
       "Name: raised_amount_usd, dtype: float64"
      ]
     },
     "execution_count": 17,
     "metadata": {},
     "output_type": "execute_result"
    }
   ],
   "source": [
    "#Lets check where the most investments are occuring\n",
    "country_wise_investments[:10]"
   ]
  },
  {
   "attachments": {},
   "cell_type": "markdown",
   "id": "fe80bb68",
   "metadata": {},
   "source": [
    "Out of the top ten companies `USA`, `GBR`, `IND`, `CAN` are the top english speaking countries\n",
    "or countries with official language as english."
   ]
  },
  {
   "cell_type": "code",
   "execution_count": 18,
   "id": "32327c23",
   "metadata": {},
   "outputs": [],
   "source": [
    "top_4 = ['USA', 'GBR', 'IND', 'CAN']"
   ]
  },
  {
   "cell_type": "code",
   "execution_count": 19,
   "id": "04e74399",
   "metadata": {},
   "outputs": [
    {
     "data": {
      "text/plain": [
       "(40049, 9)"
      ]
     },
     "execution_count": 19,
     "metadata": {},
     "output_type": "execute_result"
    }
   ],
   "source": [
    "#reducing the data frame to include only these companies\n",
    "df = df[df['country_code'].isin(top_4)]\n",
    "df.shape\n"
   ]
  },
  {
   "attachments": {},
   "cell_type": "markdown",
   "id": "57ce32c9",
   "metadata": {},
   "source": [
    "The reduction leaves us with `40049` companies out of `47809`"
   ]
  },
  {
   "cell_type": "code",
   "execution_count": 20,
   "id": "237f0064",
   "metadata": {},
   "outputs": [
    {
     "data": {
      "text/html": [
       "<div>\n",
       "<style scoped>\n",
       "    .dataframe tbody tr th:only-of-type {\n",
       "        vertical-align: middle;\n",
       "    }\n",
       "\n",
       "    .dataframe tbody tr th {\n",
       "        vertical-align: top;\n",
       "    }\n",
       "\n",
       "    .dataframe thead th {\n",
       "        text-align: right;\n",
       "    }\n",
       "</style>\n",
       "<table border=\"1\" class=\"dataframe\">\n",
       "  <thead>\n",
       "    <tr style=\"text-align: right;\">\n",
       "      <th>country_code</th>\n",
       "      <th>CAN</th>\n",
       "      <th>GBR</th>\n",
       "      <th>IND</th>\n",
       "      <th>USA</th>\n",
       "    </tr>\n",
       "  </thead>\n",
       "  <tbody>\n",
       "    <tr>\n",
       "      <th>raised_amount_usd</th>\n",
       "      <td>4000000.0</td>\n",
       "      <td>4260000.0</td>\n",
       "      <td>7500000.0</td>\n",
       "      <td>5000000.0</td>\n",
       "    </tr>\n",
       "  </tbody>\n",
       "</table>\n",
       "</div>"
      ],
      "text/plain": [
       "country_code             CAN        GBR        IND        USA\n",
       "raised_amount_usd  4000000.0  4260000.0  7500000.0  5000000.0"
      ]
     },
     "execution_count": 20,
     "metadata": {},
     "output_type": "execute_result"
    }
   ],
   "source": [
    "#checking median investment amount of the countries\n",
    "pd.pivot_table(data = df, values = 'raised_amount_usd', columns = 'country_code',\n",
    "              aggfunc = np.median)"
   ]
  },
  {
   "cell_type": "code",
   "execution_count": 21,
   "id": "4fb61610",
   "metadata": {},
   "outputs": [
    {
     "data": {
      "text/html": [
       "<div>\n",
       "<style scoped>\n",
       "    .dataframe tbody tr th:only-of-type {\n",
       "        vertical-align: middle;\n",
       "    }\n",
       "\n",
       "    .dataframe tbody tr th {\n",
       "        vertical-align: top;\n",
       "    }\n",
       "\n",
       "    .dataframe thead tr th {\n",
       "        text-align: left;\n",
       "    }\n",
       "</style>\n",
       "<table border=\"1\" class=\"dataframe\">\n",
       "  <thead>\n",
       "    <tr>\n",
       "      <th>country_code</th>\n",
       "      <th colspan=\"4\" halign=\"left\">CAN</th>\n",
       "      <th colspan=\"4\" halign=\"left\">GBR</th>\n",
       "      <th colspan=\"4\" halign=\"left\">IND</th>\n",
       "      <th colspan=\"4\" halign=\"left\">USA</th>\n",
       "    </tr>\n",
       "    <tr>\n",
       "      <th>status</th>\n",
       "      <th>acquired</th>\n",
       "      <th>closed</th>\n",
       "      <th>ipo</th>\n",
       "      <th>operating</th>\n",
       "      <th>acquired</th>\n",
       "      <th>closed</th>\n",
       "      <th>ipo</th>\n",
       "      <th>operating</th>\n",
       "      <th>acquired</th>\n",
       "      <th>closed</th>\n",
       "      <th>ipo</th>\n",
       "      <th>operating</th>\n",
       "      <th>acquired</th>\n",
       "      <th>closed</th>\n",
       "      <th>ipo</th>\n",
       "      <th>operating</th>\n",
       "    </tr>\n",
       "  </thead>\n",
       "  <tbody>\n",
       "    <tr>\n",
       "      <th>raised_amount_usd</th>\n",
       "      <td>5711912.0</td>\n",
       "      <td>4880000.0</td>\n",
       "      <td>4124454.0</td>\n",
       "      <td>3800000.0</td>\n",
       "      <td>8272447.0</td>\n",
       "      <td>2991619.0</td>\n",
       "      <td>12550010.0</td>\n",
       "      <td>3952278.0</td>\n",
       "      <td>10000000.0</td>\n",
       "      <td>8750000.0</td>\n",
       "      <td>13000000.0</td>\n",
       "      <td>7000000.0</td>\n",
       "      <td>7600000.0</td>\n",
       "      <td>5000000.0</td>\n",
       "      <td>11100000.0</td>\n",
       "      <td>4250000.0</td>\n",
       "    </tr>\n",
       "  </tbody>\n",
       "</table>\n",
       "</div>"
      ],
      "text/plain": [
       "country_code             CAN                                         GBR  \\\n",
       "status              acquired     closed        ipo  operating   acquired   \n",
       "raised_amount_usd  5711912.0  4880000.0  4124454.0  3800000.0  8272447.0   \n",
       "\n",
       "country_code                                                IND             \\\n",
       "status                closed         ipo  operating    acquired     closed   \n",
       "raised_amount_usd  2991619.0  12550010.0  3952278.0  10000000.0  8750000.0   \n",
       "\n",
       "country_code                                    USA                         \\\n",
       "status                    ipo  operating   acquired     closed         ipo   \n",
       "raised_amount_usd  13000000.0  7000000.0  7600000.0  5000000.0  11100000.0   \n",
       "\n",
       "country_code                  \n",
       "status             operating  \n",
       "raised_amount_usd  4250000.0  "
      ]
     },
     "execution_count": 21,
     "metadata": {},
     "output_type": "execute_result"
    }
   ],
   "source": [
    "#checking investments in various comapanies by country and status of the company\n",
    "pd.pivot_table(data = df, values = 'raised_amount_usd', columns = ['country_code', 'status'],\n",
    "              aggfunc = np.median)"
   ]
  },
  {
   "cell_type": "code",
   "execution_count": 22,
   "id": "f67a966b",
   "metadata": {},
   "outputs": [
    {
     "data": {
      "image/png": "[encoded data removed]",
      "text/plain": [
       "<Figure size 1000x600 with 1 Axes>"
      ]
     },
     "metadata": {},
     "output_type": "display_data"
    }
   ],
   "source": [
    "#checking some plots\n",
    "plt.figure(figsize = (10,6))\n",
    "plt.grid()\n",
    "sns.boxplot(y = df['raised_amount_usd'],  x = df['country_code'])\n",
    "plt.title(\"Raised_amount_USD vs top_4 countries\")\n",
    "plt.yscale('log')\n",
    "plt.show()"
   ]
  },
  {
   "cell_type": "code",
   "execution_count": 23,
   "id": "b3cf07a3",
   "metadata": {
    "scrolled": false
   },
   "outputs": [
    {
     "data": {
      "image/png": "[encoded data removed]",
      "text/plain": [
       "<Figure size 1000x600 with 1 Axes>"
      ]
     },
     "metadata": {},
     "output_type": "display_data"
    }
   ],
   "source": [
    "#checking investments in companies according to status of the company\n",
    "plt.figure(figsize = (10,6))\n",
    "plt.grid()\n",
    "sns.boxplot(y = df['raised_amount_usd'],  x = df['country_code'], hue = df['status'])\n",
    "plt.title(\"Raised_amount_USD vs top_4 countries according to status\")\n",
    "plt.yscale('log')\n",
    "plt.show()"
   ]
  },
  {
   "attachments": {},
   "cell_type": "markdown",
   "id": "a70677e9",
   "metadata": {},
   "source": [
    "It shows `IND` has the highest median investments among all countries with `7.5 MM USD`.\n",
    "This is followed by `USA`, `GBR` and `CAN`\n",
    "\n",
    "We also plotted a graph for the companies with present status. \n",
    "Although we are not needed to know the status but we should be able to check which are operating and those that \n",
    "are closed.\n",
    "\n",
    "We will check on this after checking the sectorwise analysis"
   ]
  },
  {
   "attachments": {},
   "cell_type": "markdown",
   "id": "9487de23",
   "metadata": {},
   "source": [
    "## 3. Sector-wise Analysis\n",
    "\n",
    "       There is a mapping file for mapping the sectors into some categories.\n",
    "       But first lets check the category_list of the dataframe "
   ]
  },
  {
   "cell_type": "code",
   "execution_count": 24,
   "id": "ad3307d9",
   "metadata": {},
   "outputs": [
    {
     "data": {
      "text/plain": [
       "Biotechnology                                                                                      4797\n",
       "Software                                                                                           3370\n",
       "Health Care                                                                                        1239\n",
       "Clean Technology                                                                                   1095\n",
       "Enterprise Software                                                                                1051\n",
       "                                                                                                   ... \n",
       "Security|Software|Wireless                                                                            1\n",
       "Content|Maps|Ticketing|Tourism|Travel|Travel & Tourism                                                1\n",
       "Cloud Computing|Enterprise Software|Infrastructure                                                    1\n",
       "Fitness|Healthcare Services|Pharmaceuticals                                                           1\n",
       "Business Intelligence|Event Management|Hospitality|Hotels|Meeting Software|Procurement|Software       1\n",
       "Name: category_list, Length: 8067, dtype: int64"
      ]
     },
     "execution_count": 24,
     "metadata": {},
     "output_type": "execute_result"
    }
   ],
   "source": [
    "df.category_list.value_counts()"
   ]
  },
  {
   "attachments": {},
   "cell_type": "markdown",
   "id": "fe26c50a",
   "metadata": {},
   "source": [
    "There are some entries where we have multiple categories. Where some have sub_categories.\n",
    "The `first` name must be the `main category` and this must be used to merge with mapping file"
   ]
  },
  {
   "cell_type": "code",
   "execution_count": 25,
   "id": "5c09294d",
   "metadata": {},
   "outputs": [
    {
     "data": {
      "text/plain": [
       "Biotechnology          6068\n",
       "Software               3483\n",
       "Advertising            1892\n",
       "Enterprise Software    1617\n",
       "Health Care            1615\n",
       "                       ... \n",
       "High Tech                 1\n",
       "Rapidly Expanding         1\n",
       "Video Conferencing        1\n",
       "Debt Collecting           1\n",
       "Task Management           1\n",
       "Name: category_list, Length: 569, dtype: int64"
      ]
     },
     "execution_count": 25,
     "metadata": {},
     "output_type": "execute_result"
    }
   ],
   "source": [
    "#getting the first name of the multiple category entries\n",
    "df['category_list'].apply(lambda x : x.split('|')[0]).value_counts()"
   ]
  },
  {
   "attachments": {},
   "cell_type": "markdown",
   "id": "374e57cc",
   "metadata": {},
   "source": [
    "It seems to be working"
   ]
  },
  {
   "cell_type": "code",
   "execution_count": 26,
   "id": "06d32e42",
   "metadata": {},
   "outputs": [],
   "source": [
    "#replacing the category list columns\n",
    "df['category_list'] = df['category_list'].apply(lambda x : x.split('|')[0])"
   ]
  },
  {
   "cell_type": "code",
   "execution_count": 27,
   "id": "8265360c",
   "metadata": {},
   "outputs": [
    {
     "data": {
      "text/plain": [
       "Biotechnology          6068\n",
       "Software               3483\n",
       "Advertising            1892\n",
       "Enterprise Software    1617\n",
       "Health Care            1615\n",
       "                       ... \n",
       "High Tech                 1\n",
       "Rapidly Expanding         1\n",
       "Video Conferencing        1\n",
       "Debt Collecting           1\n",
       "Task Management           1\n",
       "Name: category_list, Length: 569, dtype: int64"
      ]
     },
     "execution_count": 27,
     "metadata": {},
     "output_type": "execute_result"
    }
   ],
   "source": [
    "#checking\n",
    "df['category_list'].value_counts()"
   ]
  },
  {
   "cell_type": "code",
   "execution_count": 28,
   "id": "35aa2a30",
   "metadata": {},
   "outputs": [
    {
     "data": {
      "text/html": [
       "<div>\n",
       "<style scoped>\n",
       "    .dataframe tbody tr th:only-of-type {\n",
       "        vertical-align: middle;\n",
       "    }\n",
       "\n",
       "    .dataframe tbody tr th {\n",
       "        vertical-align: top;\n",
       "    }\n",
       "\n",
       "    .dataframe thead th {\n",
       "        text-align: right;\n",
       "    }\n",
       "</style>\n",
       "<table border=\"1\" class=\"dataframe\">\n",
       "  <thead>\n",
       "    <tr style=\"text-align: right;\">\n",
       "      <th></th>\n",
       "      <th>permalink</th>\n",
       "      <th>name</th>\n",
       "      <th>category_list</th>\n",
       "      <th>status</th>\n",
       "      <th>country_code</th>\n",
       "      <th>funding_round_permalink</th>\n",
       "      <th>funding_round_type</th>\n",
       "      <th>funded_at</th>\n",
       "      <th>raised_amount_usd</th>\n",
       "    </tr>\n",
       "  </thead>\n",
       "  <tbody>\n",
       "    <tr>\n",
       "      <th>0</th>\n",
       "      <td>/organization/-fame</td>\n",
       "      <td>#fame</td>\n",
       "      <td>Media</td>\n",
       "      <td>operating</td>\n",
       "      <td>IND</td>\n",
       "      <td>/funding-round/9a01d05418af9f794eebff7ace91f638</td>\n",
       "      <td>venture</td>\n",
       "      <td>05-01-2015</td>\n",
       "      <td>10000000.0</td>\n",
       "    </tr>\n",
       "    <tr>\n",
       "      <th>5</th>\n",
       "      <td>/organization/0ndine-biomedical-inc</td>\n",
       "      <td>Ondine Biomedical Inc.</td>\n",
       "      <td>Biotechnology</td>\n",
       "      <td>operating</td>\n",
       "      <td>CAN</td>\n",
       "      <td>/funding-round/954b9499724b946ad8c396a57a5f3b72</td>\n",
       "      <td>venture</td>\n",
       "      <td>21-12-2009</td>\n",
       "      <td>719491.0</td>\n",
       "    </tr>\n",
       "    <tr>\n",
       "      <th>7</th>\n",
       "      <td>/organization/0xdata</td>\n",
       "      <td>H2O.ai</td>\n",
       "      <td>Analytics</td>\n",
       "      <td>operating</td>\n",
       "      <td>USA</td>\n",
       "      <td>/funding-round/3bb2ee4a2d89251a10aaa735b1180e44</td>\n",
       "      <td>venture</td>\n",
       "      <td>09-11-2015</td>\n",
       "      <td>20000000.0</td>\n",
       "    </tr>\n",
       "    <tr>\n",
       "      <th>8</th>\n",
       "      <td>/organization/0xdata</td>\n",
       "      <td>H2O.ai</td>\n",
       "      <td>Analytics</td>\n",
       "      <td>operating</td>\n",
       "      <td>USA</td>\n",
       "      <td>/funding-round/ae2a174c06517c2394aed45006322a7e</td>\n",
       "      <td>venture</td>\n",
       "      <td>03-01-2013</td>\n",
       "      <td>1700000.0</td>\n",
       "    </tr>\n",
       "    <tr>\n",
       "      <th>9</th>\n",
       "      <td>/organization/0xdata</td>\n",
       "      <td>H2O.ai</td>\n",
       "      <td>Analytics</td>\n",
       "      <td>operating</td>\n",
       "      <td>USA</td>\n",
       "      <td>/funding-round/e1cfcbe1bdf4c70277c5f29a3482f24e</td>\n",
       "      <td>venture</td>\n",
       "      <td>19-07-2014</td>\n",
       "      <td>8900000.0</td>\n",
       "    </tr>\n",
       "  </tbody>\n",
       "</table>\n",
       "</div>"
      ],
      "text/plain": [
       "                             permalink                    name  category_list  \\\n",
       "0                  /organization/-fame                   #fame          Media   \n",
       "5  /organization/0ndine-biomedical-inc  Ondine Biomedical Inc.  Biotechnology   \n",
       "7                 /organization/0xdata                  H2O.ai      Analytics   \n",
       "8                 /organization/0xdata                  H2O.ai      Analytics   \n",
       "9                 /organization/0xdata                  H2O.ai      Analytics   \n",
       "\n",
       "      status country_code                          funding_round_permalink  \\\n",
       "0  operating          IND  /funding-round/9a01d05418af9f794eebff7ace91f638   \n",
       "5  operating          CAN  /funding-round/954b9499724b946ad8c396a57a5f3b72   \n",
       "7  operating          USA  /funding-round/3bb2ee4a2d89251a10aaa735b1180e44   \n",
       "8  operating          USA  /funding-round/ae2a174c06517c2394aed45006322a7e   \n",
       "9  operating          USA  /funding-round/e1cfcbe1bdf4c70277c5f29a3482f24e   \n",
       "\n",
       "  funding_round_type   funded_at  raised_amount_usd  \n",
       "0            venture  05-01-2015         10000000.0  \n",
       "5            venture  21-12-2009           719491.0  \n",
       "7            venture  09-11-2015         20000000.0  \n",
       "8            venture  03-01-2013          1700000.0  \n",
       "9            venture  19-07-2014          8900000.0  "
      ]
     },
     "execution_count": 28,
     "metadata": {},
     "output_type": "execute_result"
    }
   ],
   "source": [
    "#checking everything else is intact\n",
    "df.head()"
   ]
  },
  {
   "cell_type": "code",
   "execution_count": 29,
   "id": "08e0d551",
   "metadata": {},
   "outputs": [],
   "source": [
    "#lets for the sake of not messing with case errors convert the category_list to lower case\n",
    "df['category_list'] = df['category_list'].apply(lambda x : x.lower())"
   ]
  },
  {
   "cell_type": "code",
   "execution_count": 30,
   "id": "728caf3f",
   "metadata": {},
   "outputs": [
    {
     "data": {
      "text/html": [
       "<div>\n",
       "<style scoped>\n",
       "    .dataframe tbody tr th:only-of-type {\n",
       "        vertical-align: middle;\n",
       "    }\n",
       "\n",
       "    .dataframe tbody tr th {\n",
       "        vertical-align: top;\n",
       "    }\n",
       "\n",
       "    .dataframe thead th {\n",
       "        text-align: right;\n",
       "    }\n",
       "</style>\n",
       "<table border=\"1\" class=\"dataframe\">\n",
       "  <thead>\n",
       "    <tr style=\"text-align: right;\">\n",
       "      <th></th>\n",
       "      <th>permalink</th>\n",
       "      <th>name</th>\n",
       "      <th>category_list</th>\n",
       "      <th>status</th>\n",
       "      <th>country_code</th>\n",
       "      <th>funding_round_permalink</th>\n",
       "      <th>funding_round_type</th>\n",
       "      <th>funded_at</th>\n",
       "      <th>raised_amount_usd</th>\n",
       "    </tr>\n",
       "  </thead>\n",
       "  <tbody>\n",
       "    <tr>\n",
       "      <th>0</th>\n",
       "      <td>/organization/-fame</td>\n",
       "      <td>#fame</td>\n",
       "      <td>media</td>\n",
       "      <td>operating</td>\n",
       "      <td>IND</td>\n",
       "      <td>/funding-round/9a01d05418af9f794eebff7ace91f638</td>\n",
       "      <td>venture</td>\n",
       "      <td>05-01-2015</td>\n",
       "      <td>10000000.0</td>\n",
       "    </tr>\n",
       "    <tr>\n",
       "      <th>5</th>\n",
       "      <td>/organization/0ndine-biomedical-inc</td>\n",
       "      <td>Ondine Biomedical Inc.</td>\n",
       "      <td>biotechnology</td>\n",
       "      <td>operating</td>\n",
       "      <td>CAN</td>\n",
       "      <td>/funding-round/954b9499724b946ad8c396a57a5f3b72</td>\n",
       "      <td>venture</td>\n",
       "      <td>21-12-2009</td>\n",
       "      <td>719491.0</td>\n",
       "    </tr>\n",
       "    <tr>\n",
       "      <th>7</th>\n",
       "      <td>/organization/0xdata</td>\n",
       "      <td>H2O.ai</td>\n",
       "      <td>analytics</td>\n",
       "      <td>operating</td>\n",
       "      <td>USA</td>\n",
       "      <td>/funding-round/3bb2ee4a2d89251a10aaa735b1180e44</td>\n",
       "      <td>venture</td>\n",
       "      <td>09-11-2015</td>\n",
       "      <td>20000000.0</td>\n",
       "    </tr>\n",
       "    <tr>\n",
       "      <th>8</th>\n",
       "      <td>/organization/0xdata</td>\n",
       "      <td>H2O.ai</td>\n",
       "      <td>analytics</td>\n",
       "      <td>operating</td>\n",
       "      <td>USA</td>\n",
       "      <td>/funding-round/ae2a174c06517c2394aed45006322a7e</td>\n",
       "      <td>venture</td>\n",
       "      <td>03-01-2013</td>\n",
       "      <td>1700000.0</td>\n",
       "    </tr>\n",
       "    <tr>\n",
       "      <th>9</th>\n",
       "      <td>/organization/0xdata</td>\n",
       "      <td>H2O.ai</td>\n",
       "      <td>analytics</td>\n",
       "      <td>operating</td>\n",
       "      <td>USA</td>\n",
       "      <td>/funding-round/e1cfcbe1bdf4c70277c5f29a3482f24e</td>\n",
       "      <td>venture</td>\n",
       "      <td>19-07-2014</td>\n",
       "      <td>8900000.0</td>\n",
       "    </tr>\n",
       "  </tbody>\n",
       "</table>\n",
       "</div>"
      ],
      "text/plain": [
       "                             permalink                    name  category_list  \\\n",
       "0                  /organization/-fame                   #fame          media   \n",
       "5  /organization/0ndine-biomedical-inc  Ondine Biomedical Inc.  biotechnology   \n",
       "7                 /organization/0xdata                  H2O.ai      analytics   \n",
       "8                 /organization/0xdata                  H2O.ai      analytics   \n",
       "9                 /organization/0xdata                  H2O.ai      analytics   \n",
       "\n",
       "      status country_code                          funding_round_permalink  \\\n",
       "0  operating          IND  /funding-round/9a01d05418af9f794eebff7ace91f638   \n",
       "5  operating          CAN  /funding-round/954b9499724b946ad8c396a57a5f3b72   \n",
       "7  operating          USA  /funding-round/3bb2ee4a2d89251a10aaa735b1180e44   \n",
       "8  operating          USA  /funding-round/ae2a174c06517c2394aed45006322a7e   \n",
       "9  operating          USA  /funding-round/e1cfcbe1bdf4c70277c5f29a3482f24e   \n",
       "\n",
       "  funding_round_type   funded_at  raised_amount_usd  \n",
       "0            venture  05-01-2015         10000000.0  \n",
       "5            venture  21-12-2009           719491.0  \n",
       "7            venture  09-11-2015         20000000.0  \n",
       "8            venture  03-01-2013          1700000.0  \n",
       "9            venture  19-07-2014          8900000.0  "
      ]
     },
     "execution_count": 30,
     "metadata": {},
     "output_type": "execute_result"
    }
   ],
   "source": [
    "#checking everything else is intact\n",
    "df.head()"
   ]
  },
  {
   "cell_type": "code",
   "execution_count": 31,
   "id": "bf96308c",
   "metadata": {},
   "outputs": [],
   "source": [
    "#now lets check the mapping file.\n",
    "mapping_path = '/Users/manish/Documents/Projects/data_science/investment_strategy/data/raw_data/mapping.csv'\n",
    "\n",
    "mapping  = pd.read_csv(mapping_path)"
   ]
  },
  {
   "cell_type": "code",
   "execution_count": 32,
   "id": "1736c33c",
   "metadata": {},
   "outputs": [
    {
     "name": "stdout",
     "output_type": "stream",
     "text": [
      "<class 'pandas.core.frame.DataFrame'>\n",
      "RangeIndex: 688 entries, 0 to 687\n",
      "Data columns (total 10 columns):\n",
      " #   Column                                   Non-Null Count  Dtype \n",
      "---  ------                                   --------------  ----- \n",
      " 0   category_list                            687 non-null    object\n",
      " 1   Automotive & Sports                      688 non-null    int64 \n",
      " 2   Blanks                                   688 non-null    int64 \n",
      " 3   Cleantech / Semiconductors               688 non-null    int64 \n",
      " 4   Entertainment                            688 non-null    int64 \n",
      " 5   Health                                   688 non-null    int64 \n",
      " 6   Manufacturing                            688 non-null    int64 \n",
      " 7   News, Search and Messaging               688 non-null    int64 \n",
      " 8   Others                                   688 non-null    int64 \n",
      " 9   Social, Finance, Analytics, Advertising  688 non-null    int64 \n",
      "dtypes: int64(9), object(1)\n",
      "memory usage: 53.9+ KB\n"
     ]
    }
   ],
   "source": [
    "#checking for null values\n",
    "mapping.info()"
   ]
  },
  {
   "attachments": {},
   "cell_type": "markdown",
   "id": "5a87a9cb",
   "metadata": {},
   "source": [
    "Mapping file has `10` columns for various categories, where `category_list` columnn has `1 missing value`\n",
    "Lets check that entry"
   ]
  },
  {
   "cell_type": "code",
   "execution_count": 33,
   "id": "2fcc7193",
   "metadata": {
    "scrolled": true
   },
   "outputs": [
    {
     "data": {
      "text/html": [
       "<div>\n",
       "<style scoped>\n",
       "    .dataframe tbody tr th:only-of-type {\n",
       "        vertical-align: middle;\n",
       "    }\n",
       "\n",
       "    .dataframe tbody tr th {\n",
       "        vertical-align: top;\n",
       "    }\n",
       "\n",
       "    .dataframe thead th {\n",
       "        text-align: right;\n",
       "    }\n",
       "</style>\n",
       "<table border=\"1\" class=\"dataframe\">\n",
       "  <thead>\n",
       "    <tr style=\"text-align: right;\">\n",
       "      <th></th>\n",
       "      <th>category_list</th>\n",
       "      <th>Automotive &amp; Sports</th>\n",
       "      <th>Blanks</th>\n",
       "      <th>Cleantech / Semiconductors</th>\n",
       "      <th>Entertainment</th>\n",
       "      <th>Health</th>\n",
       "      <th>Manufacturing</th>\n",
       "      <th>News, Search and Messaging</th>\n",
       "      <th>Others</th>\n",
       "      <th>Social, Finance, Analytics, Advertising</th>\n",
       "    </tr>\n",
       "  </thead>\n",
       "  <tbody>\n",
       "    <tr>\n",
       "      <th>0</th>\n",
       "      <td>NaN</td>\n",
       "      <td>0</td>\n",
       "      <td>1</td>\n",
       "      <td>0</td>\n",
       "      <td>0</td>\n",
       "      <td>0</td>\n",
       "      <td>0</td>\n",
       "      <td>0</td>\n",
       "      <td>0</td>\n",
       "      <td>0</td>\n",
       "    </tr>\n",
       "  </tbody>\n",
       "</table>\n",
       "</div>"
      ],
      "text/plain": [
       "  category_list  Automotive & Sports  Blanks  Cleantech / Semiconductors  \\\n",
       "0           NaN                    0       1                           0   \n",
       "\n",
       "   Entertainment  Health  Manufacturing  News, Search and Messaging  Others  \\\n",
       "0              0       0              0                           0       0   \n",
       "\n",
       "   Social, Finance, Analytics, Advertising  \n",
       "0                                        0  "
      ]
     },
     "execution_count": 33,
     "metadata": {},
     "output_type": "execute_result"
    }
   ],
   "source": [
    "mapping[mapping['category_list'].isnull()]"
   ]
  },
  {
   "cell_type": "code",
   "execution_count": 34,
   "id": "c1a0f51a",
   "metadata": {},
   "outputs": [],
   "source": [
    "#dropping the null column\n",
    "mapping = mapping[~mapping['category_list'].isnull()]"
   ]
  },
  {
   "cell_type": "code",
   "execution_count": 35,
   "id": "e531f64d",
   "metadata": {},
   "outputs": [
    {
     "name": "stdout",
     "output_type": "stream",
     "text": [
      "<class 'pandas.core.frame.DataFrame'>\n",
      "Int64Index: 687 entries, 1 to 687\n",
      "Data columns (total 10 columns):\n",
      " #   Column                                   Non-Null Count  Dtype \n",
      "---  ------                                   --------------  ----- \n",
      " 0   category_list                            687 non-null    object\n",
      " 1   Automotive & Sports                      687 non-null    int64 \n",
      " 2   Blanks                                   687 non-null    int64 \n",
      " 3   Cleantech / Semiconductors               687 non-null    int64 \n",
      " 4   Entertainment                            687 non-null    int64 \n",
      " 5   Health                                   687 non-null    int64 \n",
      " 6   Manufacturing                            687 non-null    int64 \n",
      " 7   News, Search and Messaging               687 non-null    int64 \n",
      " 8   Others                                   687 non-null    int64 \n",
      " 9   Social, Finance, Analytics, Advertising  687 non-null    int64 \n",
      "dtypes: int64(9), object(1)\n",
      "memory usage: 59.0+ KB\n"
     ]
    }
   ],
   "source": [
    "mapping.info()"
   ]
  },
  {
   "attachments": {},
   "cell_type": "markdown",
   "id": "c8e1d948",
   "metadata": {},
   "source": [
    "Now mapping file has 9 column with no null values"
   ]
  },
  {
   "cell_type": "code",
   "execution_count": 36,
   "id": "60911e3d",
   "metadata": {},
   "outputs": [],
   "source": [
    "#converting category_list to lower case\n",
    "mapping.category_list = mapping.category_list.apply(lambda x : x.lower())"
   ]
  },
  {
   "attachments": {},
   "cell_type": "markdown",
   "id": "41b2f34e",
   "metadata": {},
   "source": [
    "### Checking the mapping file with df"
   ]
  },
  {
   "cell_type": "code",
   "execution_count": 37,
   "id": "ca60a87c",
   "metadata": {},
   "outputs": [
    {
     "data": {
      "text/plain": [
       "analytics                          1369\n",
       "finance                             575\n",
       "nanotechnology                      143\n",
       "financial services                  107\n",
       "big data analytics                   93\n",
       "career management                    61\n",
       "cloud management                     43\n",
       "event management                     26\n",
       "finance technology                   23\n",
       "contact management                   21\n",
       "it management                        20\n",
       "document management                  19\n",
       "identity management                  19\n",
       "business analytics                   16\n",
       "investment management                13\n",
       "digital signage                      11\n",
       "risk management                      10\n",
       "energy management                     9\n",
       "project management                    8\n",
       "innovation management                 7\n",
       "supply chain management               6\n",
       "navigation                            6\n",
       "lead management                       5\n",
       "cannabis                              5\n",
       "property management                   5\n",
       "professional services                 5\n",
       "personalization                       5\n",
       "mobile analytics                      5\n",
       "fleet management                      5\n",
       "journalism                            5\n",
       "digital rights management             4\n",
       "knowledge management                  4\n",
       "intellectual asset management         4\n",
       "educational games                     3\n",
       "natural language processing           3\n",
       "waste management                      3\n",
       "adaptive equipment                    2\n",
       "retirement                            2\n",
       "governance                            2\n",
       "alternative medicine                  2\n",
       "professional networking               1\n",
       "greentech                             1\n",
       "financial exchanges                   1\n",
       "personal finance                      1\n",
       "predictive analytics                  1\n",
       "product search                        1\n",
       "rapidly expanding                     1\n",
       "biotechnology and semiconductor       1\n",
       "specialty retail                      1\n",
       "racing                                1\n",
       "natural gas uses                      1\n",
       "task management                       1\n",
       "Name: category_list, dtype: int64"
      ]
     },
     "execution_count": 37,
     "metadata": {},
     "output_type": "execute_result"
    }
   ],
   "source": [
    "#lets check whether each category in df is present in mapping file\n",
    "df[~df['category_list'].isin(mapping.category_list)]['category_list'].value_counts()"
   ]
  },
  {
   "attachments": {},
   "cell_type": "markdown",
   "id": "f8c9f008",
   "metadata": {},
   "source": [
    "It seems those that have management, analytics, finance are mostly not present in mapping file\n",
    "This seems odd as these are valid categories.\n",
    "Lets check the mapping file category list that are not present in df."
   ]
  },
  {
   "cell_type": "code",
   "execution_count": 38,
   "id": "f2cd43a3",
   "metadata": {},
   "outputs": [
    {
     "data": {
      "text/plain": [
       "air pollution control          1\n",
       "postal and courier services    1\n",
       "performance marketing          1\n",
       "perso0l branding               1\n",
       "perso0l data                   1\n",
       "perso0l fi0nce                 1\n",
       "perso0l health                 1\n",
       "perso0lization                 1\n",
       "pervasive computing            1\n",
       "plumbers                       1\n",
       "pre seed                       1\n",
       "realtors                       1\n",
       "predictive a0lytics            1\n",
       "private social networking      1\n",
       "productivity                   1\n",
       "professio0l networking         1\n",
       "professio0l services           1\n",
       "project ma0gement              1\n",
       "promotio0l                     1\n",
       "property ma0gement             1\n",
       "Name: category_list, dtype: int64"
      ]
     },
     "execution_count": 38,
     "metadata": {},
     "output_type": "execute_result"
    }
   ],
   "source": [
    "#checking category list in mapping that are not present in df\n",
    "mapping[~mapping.category_list.isin(df.category_list)].category_list.value_counts()[:20]"
   ]
  },
  {
   "attachments": {},
   "cell_type": "markdown",
   "id": "2028665d",
   "metadata": {},
   "source": [
    "We see a pattern here that `0` are present within strings which seems to be in place of `na`"
   ]
  },
  {
   "cell_type": "code",
   "execution_count": 39,
   "id": "70595e3e",
   "metadata": {},
   "outputs": [],
   "source": [
    "#lets rectify this\n",
    "mapping.category_list = mapping.category_list.apply(lambda x : x.replace('0', 'na'))"
   ]
  },
  {
   "cell_type": "code",
   "execution_count": 40,
   "id": "7829bfcd",
   "metadata": {},
   "outputs": [
    {
     "data": {
      "text/plain": [
       "air pollution control    1\n",
       "aquaculture              1\n",
       "shared services          1\n",
       "senior health            1\n",
       "ride sharing             1\n",
       "                        ..\n",
       "high school students     1\n",
       "hedge funds              1\n",
       "handmade                 1\n",
       "group sms                1\n",
       "women                    1\n",
       "Name: category_list, Length: 128, dtype: int64"
      ]
     },
     "execution_count": 40,
     "metadata": {},
     "output_type": "execute_result"
    }
   ],
   "source": [
    "#checking category list in mapping that are not present in df\n",
    "mapping[~mapping.category_list.isin(df.category_list)].category_list.value_counts()"
   ]
  },
  {
   "cell_type": "code",
   "execution_count": 41,
   "id": "8f77a351",
   "metadata": {},
   "outputs": [
    {
     "data": {
      "text/html": [
       "<div>\n",
       "<style scoped>\n",
       "    .dataframe tbody tr th:only-of-type {\n",
       "        vertical-align: middle;\n",
       "    }\n",
       "\n",
       "    .dataframe tbody tr th {\n",
       "        vertical-align: top;\n",
       "    }\n",
       "\n",
       "    .dataframe thead th {\n",
       "        text-align: right;\n",
       "    }\n",
       "</style>\n",
       "<table border=\"1\" class=\"dataframe\">\n",
       "  <thead>\n",
       "    <tr style=\"text-align: right;\">\n",
       "      <th></th>\n",
       "      <th>permalink</th>\n",
       "      <th>name</th>\n",
       "      <th>category_list</th>\n",
       "      <th>status</th>\n",
       "      <th>country_code</th>\n",
       "      <th>funding_round_permalink</th>\n",
       "      <th>funding_round_type</th>\n",
       "      <th>funded_at</th>\n",
       "      <th>raised_amount_usd</th>\n",
       "    </tr>\n",
       "  </thead>\n",
       "  <tbody>\n",
       "    <tr>\n",
       "      <th>15903</th>\n",
       "      <td>/organization/clean-vehicle-solutions</td>\n",
       "      <td>Clean Vehicle Solutions</td>\n",
       "      <td>natural gas uses</td>\n",
       "      <td>operating</td>\n",
       "      <td>USA</td>\n",
       "      <td>/funding-round/7b991c526219c2edff8789942215d93b</td>\n",
       "      <td>venture</td>\n",
       "      <td>26-02-2010</td>\n",
       "      <td>125000.0</td>\n",
       "    </tr>\n",
       "    <tr>\n",
       "      <th>17993</th>\n",
       "      <td>/organization/consensus-point</td>\n",
       "      <td>Consensus Point</td>\n",
       "      <td>enterprise 2.0</td>\n",
       "      <td>operating</td>\n",
       "      <td>USA</td>\n",
       "      <td>/funding-round/11ad1d209af6e06e87467f3432aa735f</td>\n",
       "      <td>venture</td>\n",
       "      <td>19-04-2011</td>\n",
       "      <td>788374.0</td>\n",
       "    </tr>\n",
       "    <tr>\n",
       "      <th>17995</th>\n",
       "      <td>/organization/consensus-point</td>\n",
       "      <td>Consensus Point</td>\n",
       "      <td>enterprise 2.0</td>\n",
       "      <td>operating</td>\n",
       "      <td>USA</td>\n",
       "      <td>/funding-round/7cdac9335cdc78285e8dcd1932f8729b</td>\n",
       "      <td>venture</td>\n",
       "      <td>18-07-2012</td>\n",
       "      <td>2600000.0</td>\n",
       "    </tr>\n",
       "    <tr>\n",
       "      <th>22354</th>\n",
       "      <td>/organization/dolores-speech-products</td>\n",
       "      <td>Dolores Speech Products</td>\n",
       "      <td>adaptive equipment</td>\n",
       "      <td>operating</td>\n",
       "      <td>USA</td>\n",
       "      <td>/funding-round/ba7393d89b2a5ad0c076e2295794c4ce</td>\n",
       "      <td>venture</td>\n",
       "      <td>07-04-2015</td>\n",
       "      <td>250000.0</td>\n",
       "    </tr>\n",
       "    <tr>\n",
       "      <th>27532</th>\n",
       "      <td>/organization/fia-formula-e</td>\n",
       "      <td>FIA Formula E</td>\n",
       "      <td>racing</td>\n",
       "      <td>closed</td>\n",
       "      <td>GBR</td>\n",
       "      <td>/funding-round/19a09624fcf806a4a64809462a4e391c</td>\n",
       "      <td>venture</td>\n",
       "      <td>15-05-2014</td>\n",
       "      <td>68569234.0</td>\n",
       "    </tr>\n",
       "    <tr>\n",
       "      <th>28076</th>\n",
       "      <td>/organization/five-below</td>\n",
       "      <td>Five Below</td>\n",
       "      <td>specialty retail</td>\n",
       "      <td>ipo</td>\n",
       "      <td>USA</td>\n",
       "      <td>/funding-round/2a50c59492585ea4080fa67de755a442</td>\n",
       "      <td>venture</td>\n",
       "      <td>14-10-2010</td>\n",
       "      <td>194000000.0</td>\n",
       "    </tr>\n",
       "    <tr>\n",
       "      <th>28281</th>\n",
       "      <td>/organization/flexport</td>\n",
       "      <td>Flexport</td>\n",
       "      <td>enterprise 2.0</td>\n",
       "      <td>operating</td>\n",
       "      <td>USA</td>\n",
       "      <td>/funding-round/e890e1058ab6be04e9559cd34ee6382c</td>\n",
       "      <td>venture</td>\n",
       "      <td>06-08-2015</td>\n",
       "      <td>20000000.0</td>\n",
       "    </tr>\n",
       "    <tr>\n",
       "      <th>33669</th>\n",
       "      <td>/organization/healthtell</td>\n",
       "      <td>HealthTell</td>\n",
       "      <td>biotechnology and semiconductor</td>\n",
       "      <td>operating</td>\n",
       "      <td>USA</td>\n",
       "      <td>/funding-round/8edf7332fface9972541807a248690b3</td>\n",
       "      <td>venture</td>\n",
       "      <td>13-06-2014</td>\n",
       "      <td>9486929.0</td>\n",
       "    </tr>\n",
       "    <tr>\n",
       "      <th>40079</th>\n",
       "      <td>/organization/justinmind</td>\n",
       "      <td>Justinmind</td>\n",
       "      <td>rapidly expanding</td>\n",
       "      <td>operating</td>\n",
       "      <td>USA</td>\n",
       "      <td>/funding-round/c6e9adcef86247dccf8418dc3e4b9a0b</td>\n",
       "      <td>venture</td>\n",
       "      <td>17-12-2007</td>\n",
       "      <td>862000.0</td>\n",
       "    </tr>\n",
       "    <tr>\n",
       "      <th>54109</th>\n",
       "      <td>/organization/omega-point-research</td>\n",
       "      <td>Omega Point Research</td>\n",
       "      <td>product search</td>\n",
       "      <td>closed</td>\n",
       "      <td>USA</td>\n",
       "      <td>/funding-round/4870743e3fded9317f5611eb2e848667</td>\n",
       "      <td>venture</td>\n",
       "      <td>14-05-2015</td>\n",
       "      <td>3172815.0</td>\n",
       "    </tr>\n",
       "    <tr>\n",
       "      <th>54631</th>\n",
       "      <td>/organization/onspring-technologies</td>\n",
       "      <td>Onspring Technologies</td>\n",
       "      <td>enterprise 2.0</td>\n",
       "      <td>operating</td>\n",
       "      <td>USA</td>\n",
       "      <td>/funding-round/41915df9cc7f5d0ddb603e4671a4b9fe</td>\n",
       "      <td>venture</td>\n",
       "      <td>01-01-2015</td>\n",
       "      <td>2000000.0</td>\n",
       "    </tr>\n",
       "    <tr>\n",
       "      <th>67761</th>\n",
       "      <td>/organization/sense-labs-inc-</td>\n",
       "      <td>Sense</td>\n",
       "      <td>greentech</td>\n",
       "      <td>operating</td>\n",
       "      <td>USA</td>\n",
       "      <td>/funding-round/1ed09dae5b9feaba2ae7f56dd1b9bfd2</td>\n",
       "      <td>venture</td>\n",
       "      <td>29-12-2014</td>\n",
       "      <td>2499999.0</td>\n",
       "    </tr>\n",
       "    <tr>\n",
       "      <th>68301</th>\n",
       "      <td>/organization/shantiniketan-incorporated</td>\n",
       "      <td>ShantiNiketan Inc.</td>\n",
       "      <td>retirement</td>\n",
       "      <td>closed</td>\n",
       "      <td>USA</td>\n",
       "      <td>/funding-round/96f7fa1fdcc380649723c8effc2a1062</td>\n",
       "      <td>venture</td>\n",
       "      <td>01-08-2008</td>\n",
       "      <td>1100000.0</td>\n",
       "    </tr>\n",
       "    <tr>\n",
       "      <th>68302</th>\n",
       "      <td>/organization/shantiniketan-incorporated</td>\n",
       "      <td>ShantiNiketan Inc.</td>\n",
       "      <td>retirement</td>\n",
       "      <td>closed</td>\n",
       "      <td>USA</td>\n",
       "      <td>/funding-round/c6baca436fa80360921d89a06a0a0e93</td>\n",
       "      <td>venture</td>\n",
       "      <td>01-05-2011</td>\n",
       "      <td>2000000.0</td>\n",
       "    </tr>\n",
       "    <tr>\n",
       "      <th>81761</th>\n",
       "      <td>/organization/velocomp</td>\n",
       "      <td>Velocomp</td>\n",
       "      <td>adaptive equipment</td>\n",
       "      <td>operating</td>\n",
       "      <td>USA</td>\n",
       "      <td>/funding-round/2cdceb89206aad240a78e58329cec171</td>\n",
       "      <td>venture</td>\n",
       "      <td>09-09-2011</td>\n",
       "      <td>1420000.0</td>\n",
       "    </tr>\n",
       "  </tbody>\n",
       "</table>\n",
       "</div>"
      ],
      "text/plain": [
       "                                      permalink                     name  \\\n",
       "15903     /organization/clean-vehicle-solutions  Clean Vehicle Solutions   \n",
       "17993             /organization/consensus-point          Consensus Point   \n",
       "17995             /organization/consensus-point          Consensus Point   \n",
       "22354     /organization/dolores-speech-products  Dolores Speech Products   \n",
       "27532               /organization/fia-formula-e            FIA Formula E   \n",
       "28076                  /organization/five-below               Five Below   \n",
       "28281                    /organization/flexport                 Flexport   \n",
       "33669                  /organization/healthtell               HealthTell   \n",
       "40079                  /organization/justinmind               Justinmind   \n",
       "54109        /organization/omega-point-research     Omega Point Research   \n",
       "54631       /organization/onspring-technologies    Onspring Technologies   \n",
       "67761             /organization/sense-labs-inc-                    Sense   \n",
       "68301  /organization/shantiniketan-incorporated       ShantiNiketan Inc.   \n",
       "68302  /organization/shantiniketan-incorporated       ShantiNiketan Inc.   \n",
       "81761                    /organization/velocomp                 Velocomp   \n",
       "\n",
       "                         category_list     status country_code  \\\n",
       "15903                 natural gas uses  operating          USA   \n",
       "17993                   enterprise 2.0  operating          USA   \n",
       "17995                   enterprise 2.0  operating          USA   \n",
       "22354               adaptive equipment  operating          USA   \n",
       "27532                           racing     closed          GBR   \n",
       "28076                 specialty retail        ipo          USA   \n",
       "28281                   enterprise 2.0  operating          USA   \n",
       "33669  biotechnology and semiconductor  operating          USA   \n",
       "40079                rapidly expanding  operating          USA   \n",
       "54109                   product search     closed          USA   \n",
       "54631                   enterprise 2.0  operating          USA   \n",
       "67761                        greentech  operating          USA   \n",
       "68301                       retirement     closed          USA   \n",
       "68302                       retirement     closed          USA   \n",
       "81761               adaptive equipment  operating          USA   \n",
       "\n",
       "                               funding_round_permalink funding_round_type  \\\n",
       "15903  /funding-round/7b991c526219c2edff8789942215d93b            venture   \n",
       "17993  /funding-round/11ad1d209af6e06e87467f3432aa735f            venture   \n",
       "17995  /funding-round/7cdac9335cdc78285e8dcd1932f8729b            venture   \n",
       "22354  /funding-round/ba7393d89b2a5ad0c076e2295794c4ce            venture   \n",
       "27532  /funding-round/19a09624fcf806a4a64809462a4e391c            venture   \n",
       "28076  /funding-round/2a50c59492585ea4080fa67de755a442            venture   \n",
       "28281  /funding-round/e890e1058ab6be04e9559cd34ee6382c            venture   \n",
       "33669  /funding-round/8edf7332fface9972541807a248690b3            venture   \n",
       "40079  /funding-round/c6e9adcef86247dccf8418dc3e4b9a0b            venture   \n",
       "54109  /funding-round/4870743e3fded9317f5611eb2e848667            venture   \n",
       "54631  /funding-round/41915df9cc7f5d0ddb603e4671a4b9fe            venture   \n",
       "67761  /funding-round/1ed09dae5b9feaba2ae7f56dd1b9bfd2            venture   \n",
       "68301  /funding-round/96f7fa1fdcc380649723c8effc2a1062            venture   \n",
       "68302  /funding-round/c6baca436fa80360921d89a06a0a0e93            venture   \n",
       "81761  /funding-round/2cdceb89206aad240a78e58329cec171            venture   \n",
       "\n",
       "        funded_at  raised_amount_usd  \n",
       "15903  26-02-2010           125000.0  \n",
       "17993  19-04-2011           788374.0  \n",
       "17995  18-07-2012          2600000.0  \n",
       "22354  07-04-2015           250000.0  \n",
       "27532  15-05-2014         68569234.0  \n",
       "28076  14-10-2010        194000000.0  \n",
       "28281  06-08-2015         20000000.0  \n",
       "33669  13-06-2014          9486929.0  \n",
       "40079  17-12-2007           862000.0  \n",
       "54109  14-05-2015          3172815.0  \n",
       "54631  01-01-2015          2000000.0  \n",
       "67761  29-12-2014          2499999.0  \n",
       "68301  01-08-2008          1100000.0  \n",
       "68302  01-05-2011          2000000.0  \n",
       "81761  09-09-2011          1420000.0  "
      ]
     },
     "execution_count": 41,
     "metadata": {},
     "output_type": "execute_result"
    }
   ],
   "source": [
    "#lets check whether each category in df is now present in mapping file\n",
    "df[~df['category_list'].isin(mapping.category_list)]"
   ]
  },
  {
   "cell_type": "code",
   "execution_count": 42,
   "id": "9b29908d",
   "metadata": {},
   "outputs": [],
   "source": [
    "#lets check these index in the original master file\n",
    "index_to_check = df[~df['category_list'].isin(mapping.category_list)].index"
   ]
  },
  {
   "cell_type": "code",
   "execution_count": 43,
   "id": "45348c86",
   "metadata": {},
   "outputs": [
    {
     "data": {
      "text/plain": [
       "15"
      ]
     },
     "execution_count": 43,
     "metadata": {},
     "output_type": "execute_result"
    }
   ],
   "source": [
    "len(index_to_check)"
   ]
  },
  {
   "cell_type": "code",
   "execution_count": 44,
   "id": "fb7e7e17",
   "metadata": {},
   "outputs": [
    {
     "data": {
      "text/html": [
       "<div>\n",
       "<style scoped>\n",
       "    .dataframe tbody tr th:only-of-type {\n",
       "        vertical-align: middle;\n",
       "    }\n",
       "\n",
       "    .dataframe tbody tr th {\n",
       "        vertical-align: top;\n",
       "    }\n",
       "\n",
       "    .dataframe thead tr th {\n",
       "        text-align: left;\n",
       "    }\n",
       "</style>\n",
       "<table border=\"1\" class=\"dataframe\">\n",
       "  <thead>\n",
       "    <tr>\n",
       "      <th>status</th>\n",
       "      <th colspan=\"3\" halign=\"left\">closed</th>\n",
       "      <th>ipo</th>\n",
       "      <th colspan=\"9\" halign=\"left\">operating</th>\n",
       "    </tr>\n",
       "    <tr>\n",
       "      <th>name</th>\n",
       "      <th>FIA Formula E</th>\n",
       "      <th>Omega Point Research</th>\n",
       "      <th>ShantiNiketan Inc.</th>\n",
       "      <th>Five Below</th>\n",
       "      <th>Clean Vehicle Solutions</th>\n",
       "      <th>Consensus Point</th>\n",
       "      <th>Dolores Speech Products</th>\n",
       "      <th>Flexport</th>\n",
       "      <th>HealthTell</th>\n",
       "      <th>Justinmind</th>\n",
       "      <th>Onspring Technologies</th>\n",
       "      <th>Sense</th>\n",
       "      <th>Velocomp</th>\n",
       "    </tr>\n",
       "    <tr>\n",
       "      <th>category_list</th>\n",
       "      <th>Racing</th>\n",
       "      <th>Product Search</th>\n",
       "      <th>Retirement</th>\n",
       "      <th>Specialty Retail</th>\n",
       "      <th>Natural Gas Uses|Service Providers|Services</th>\n",
       "      <th>Enterprise 2.0|Enterprise Software|Market Research</th>\n",
       "      <th>Adaptive Equipment|Innovation Management|Speech Recognition|Technology</th>\n",
       "      <th>Enterprise 2.0|Enterprise Software|Insurance|Logistics|Shipping|Shipping Broker Industry|Software Compliance|Supply Chain Management</th>\n",
       "      <th>Biotechnology and Semiconductor|Diagnostics|Health and Wellness|Life Sciences|Personal Health</th>\n",
       "      <th>Rapidly Expanding|Software|Usability|User Experience Design</th>\n",
       "      <th>Enterprise 2.0|Enterprise Software|Software</th>\n",
       "      <th>GreenTech|Hardware|Home Automation|Internet of Things|Sensors|Software</th>\n",
       "      <th>Adaptive Equipment|Sporting Goods</th>\n",
       "    </tr>\n",
       "  </thead>\n",
       "  <tbody>\n",
       "    <tr>\n",
       "      <th>raised_amount_usd</th>\n",
       "      <td>68569234.0</td>\n",
       "      <td>3172815.0</td>\n",
       "      <td>1550000.0</td>\n",
       "      <td>194000000.0</td>\n",
       "      <td>125000.0</td>\n",
       "      <td>1694187.0</td>\n",
       "      <td>250000.0</td>\n",
       "      <td>20000000.0</td>\n",
       "      <td>9486929.0</td>\n",
       "      <td>862000.0</td>\n",
       "      <td>2000000.0</td>\n",
       "      <td>2499999.0</td>\n",
       "      <td>1420000.0</td>\n",
       "    </tr>\n",
       "  </tbody>\n",
       "</table>\n",
       "</div>"
      ],
      "text/plain": [
       "status                   closed                                          \\\n",
       "name              FIA Formula E Omega Point Research ShantiNiketan Inc.   \n",
       "category_list            Racing       Product Search         Retirement   \n",
       "raised_amount_usd    68569234.0            3172815.0          1550000.0   \n",
       "\n",
       "status                         ipo  \\\n",
       "name                    Five Below   \n",
       "category_list     Specialty Retail   \n",
       "raised_amount_usd      194000000.0   \n",
       "\n",
       "status                                              operating  \\\n",
       "name                                  Clean Vehicle Solutions   \n",
       "category_list     Natural Gas Uses|Service Providers|Services   \n",
       "raised_amount_usd                                    125000.0   \n",
       "\n",
       "status                                                                \\\n",
       "name                                                 Consensus Point   \n",
       "category_list     Enterprise 2.0|Enterprise Software|Market Research   \n",
       "raised_amount_usd                                          1694187.0   \n",
       "\n",
       "status                                                                                    \\\n",
       "name                                                             Dolores Speech Products   \n",
       "category_list     Adaptive Equipment|Innovation Management|Speech Recognition|Technology   \n",
       "raised_amount_usd                                           250000.0                       \n",
       "\n",
       "status                                                                                                                                                  \\\n",
       "name                                                                                                                                          Flexport   \n",
       "category_list     Enterprise 2.0|Enterprise Software|Insurance|Logistics|Shipping|Shipping Broker Industry|Software Compliance|Supply Chain Management   \n",
       "raised_amount_usd                                         20000000.0                                                                                     \n",
       "\n",
       "status                                                                                                           \\\n",
       "name                                                                                                 HealthTell   \n",
       "category_list     Biotechnology and Semiconductor|Diagnostics|Health and Wellness|Life Sciences|Personal Health   \n",
       "raised_amount_usd                                          9486929.0                                              \n",
       "\n",
       "status                                                                         \\\n",
       "name                                                               Justinmind   \n",
       "category_list     Rapidly Expanding|Software|Usability|User Experience Design   \n",
       "raised_amount_usd                                           862000.0            \n",
       "\n",
       "status                                                         \\\n",
       "name                                    Onspring Technologies   \n",
       "category_list     Enterprise 2.0|Enterprise Software|Software   \n",
       "raised_amount_usd                                   2000000.0   \n",
       "\n",
       "status                                                                                    \\\n",
       "name                                                                               Sense   \n",
       "category_list     GreenTech|Hardware|Home Automation|Internet of Things|Sensors|Software   \n",
       "raised_amount_usd                                          2499999.0                       \n",
       "\n",
       "status                                               \n",
       "name                                       Velocomp  \n",
       "category_list     Adaptive Equipment|Sporting Goods  \n",
       "raised_amount_usd                         1420000.0  "
      ]
     },
     "execution_count": 44,
     "metadata": {},
     "output_type": "execute_result"
    }
   ],
   "source": [
    "#checking the data against the status and name\n",
    "pd.pivot_table(data = master.iloc[index_to_check,:],\n",
    "              columns = ['status', 'name', 'category_list'])"
   ]
  },
  {
   "attachments": {},
   "cell_type": "markdown",
   "id": "81788550",
   "metadata": {},
   "source": [
    "We see there are 15 companies which do not have categories in the mapping file we can either impute them \n",
    "or delete them.\n",
    "\n",
    "The raised amount in Velocomp, Sense, Onspring Technologies, Healthtell, Consensus Point, ShantiNiketan Inc. \n",
    "have investments in the SFs range.\n",
    "\n",
    "Lets work on these entries"
   ]
  },
  {
   "cell_type": "code",
   "execution_count": 45,
   "id": "e478dad3",
   "metadata": {},
   "outputs": [],
   "source": [
    "#companies to work on\n",
    "list_companies =['Velocomp', 'Sense', 'Onspring Technologies', 'HealthTell', \n",
    "                 'Consensus Point']"
   ]
  },
  {
   "cell_type": "code",
   "execution_count": 46,
   "id": "0693426a",
   "metadata": {
    "scrolled": true
   },
   "outputs": [
    {
     "data": {
      "text/html": [
       "<div>\n",
       "<style scoped>\n",
       "    .dataframe tbody tr th:only-of-type {\n",
       "        vertical-align: middle;\n",
       "    }\n",
       "\n",
       "    .dataframe tbody tr th {\n",
       "        vertical-align: top;\n",
       "    }\n",
       "\n",
       "    .dataframe thead th {\n",
       "        text-align: right;\n",
       "    }\n",
       "</style>\n",
       "<table border=\"1\" class=\"dataframe\">\n",
       "  <thead>\n",
       "    <tr style=\"text-align: right;\">\n",
       "      <th></th>\n",
       "      <th>permalink</th>\n",
       "      <th>name</th>\n",
       "      <th>category_list</th>\n",
       "      <th>status</th>\n",
       "      <th>country_code</th>\n",
       "      <th>funding_round_permalink</th>\n",
       "      <th>funding_round_type</th>\n",
       "      <th>funded_at</th>\n",
       "      <th>raised_amount_usd</th>\n",
       "    </tr>\n",
       "  </thead>\n",
       "  <tbody>\n",
       "    <tr>\n",
       "      <th>17993</th>\n",
       "      <td>/organization/consensus-point</td>\n",
       "      <td>Consensus Point</td>\n",
       "      <td>enterprise 2.0</td>\n",
       "      <td>operating</td>\n",
       "      <td>USA</td>\n",
       "      <td>/funding-round/11ad1d209af6e06e87467f3432aa735f</td>\n",
       "      <td>venture</td>\n",
       "      <td>19-04-2011</td>\n",
       "      <td>788374.0</td>\n",
       "    </tr>\n",
       "    <tr>\n",
       "      <th>17995</th>\n",
       "      <td>/organization/consensus-point</td>\n",
       "      <td>Consensus Point</td>\n",
       "      <td>enterprise 2.0</td>\n",
       "      <td>operating</td>\n",
       "      <td>USA</td>\n",
       "      <td>/funding-round/7cdac9335cdc78285e8dcd1932f8729b</td>\n",
       "      <td>venture</td>\n",
       "      <td>18-07-2012</td>\n",
       "      <td>2600000.0</td>\n",
       "    </tr>\n",
       "    <tr>\n",
       "      <th>33669</th>\n",
       "      <td>/organization/healthtell</td>\n",
       "      <td>HealthTell</td>\n",
       "      <td>biotechnology and semiconductor</td>\n",
       "      <td>operating</td>\n",
       "      <td>USA</td>\n",
       "      <td>/funding-round/8edf7332fface9972541807a248690b3</td>\n",
       "      <td>venture</td>\n",
       "      <td>13-06-2014</td>\n",
       "      <td>9486929.0</td>\n",
       "    </tr>\n",
       "    <tr>\n",
       "      <th>54631</th>\n",
       "      <td>/organization/onspring-technologies</td>\n",
       "      <td>Onspring Technologies</td>\n",
       "      <td>enterprise 2.0</td>\n",
       "      <td>operating</td>\n",
       "      <td>USA</td>\n",
       "      <td>/funding-round/41915df9cc7f5d0ddb603e4671a4b9fe</td>\n",
       "      <td>venture</td>\n",
       "      <td>01-01-2015</td>\n",
       "      <td>2000000.0</td>\n",
       "    </tr>\n",
       "    <tr>\n",
       "      <th>67761</th>\n",
       "      <td>/organization/sense-labs-inc-</td>\n",
       "      <td>Sense</td>\n",
       "      <td>greentech</td>\n",
       "      <td>operating</td>\n",
       "      <td>USA</td>\n",
       "      <td>/funding-round/1ed09dae5b9feaba2ae7f56dd1b9bfd2</td>\n",
       "      <td>venture</td>\n",
       "      <td>29-12-2014</td>\n",
       "      <td>2499999.0</td>\n",
       "    </tr>\n",
       "    <tr>\n",
       "      <th>81761</th>\n",
       "      <td>/organization/velocomp</td>\n",
       "      <td>Velocomp</td>\n",
       "      <td>adaptive equipment</td>\n",
       "      <td>operating</td>\n",
       "      <td>USA</td>\n",
       "      <td>/funding-round/2cdceb89206aad240a78e58329cec171</td>\n",
       "      <td>venture</td>\n",
       "      <td>09-09-2011</td>\n",
       "      <td>1420000.0</td>\n",
       "    </tr>\n",
       "  </tbody>\n",
       "</table>\n",
       "</div>"
      ],
      "text/plain": [
       "                                 permalink                   name  \\\n",
       "17993        /organization/consensus-point        Consensus Point   \n",
       "17995        /organization/consensus-point        Consensus Point   \n",
       "33669             /organization/healthtell             HealthTell   \n",
       "54631  /organization/onspring-technologies  Onspring Technologies   \n",
       "67761        /organization/sense-labs-inc-                  Sense   \n",
       "81761               /organization/velocomp               Velocomp   \n",
       "\n",
       "                         category_list     status country_code  \\\n",
       "17993                   enterprise 2.0  operating          USA   \n",
       "17995                   enterprise 2.0  operating          USA   \n",
       "33669  biotechnology and semiconductor  operating          USA   \n",
       "54631                   enterprise 2.0  operating          USA   \n",
       "67761                        greentech  operating          USA   \n",
       "81761               adaptive equipment  operating          USA   \n",
       "\n",
       "                               funding_round_permalink funding_round_type  \\\n",
       "17993  /funding-round/11ad1d209af6e06e87467f3432aa735f            venture   \n",
       "17995  /funding-round/7cdac9335cdc78285e8dcd1932f8729b            venture   \n",
       "33669  /funding-round/8edf7332fface9972541807a248690b3            venture   \n",
       "54631  /funding-round/41915df9cc7f5d0ddb603e4671a4b9fe            venture   \n",
       "67761  /funding-round/1ed09dae5b9feaba2ae7f56dd1b9bfd2            venture   \n",
       "81761  /funding-round/2cdceb89206aad240a78e58329cec171            venture   \n",
       "\n",
       "        funded_at  raised_amount_usd  \n",
       "17993  19-04-2011           788374.0  \n",
       "17995  18-07-2012          2600000.0  \n",
       "33669  13-06-2014          9486929.0  \n",
       "54631  01-01-2015          2000000.0  \n",
       "67761  29-12-2014          2499999.0  \n",
       "81761  09-09-2011          1420000.0  "
      ]
     },
     "execution_count": 46,
     "metadata": {},
     "output_type": "execute_result"
    }
   ],
   "source": [
    "df[df.name.isin(list_companies)]"
   ]
  },
  {
   "attachments": {},
   "cell_type": "markdown",
   "id": "aade96a3",
   "metadata": {},
   "source": [
    "THe enterprise 2.0 category is present in the csv file but not in the data frame meaning \n",
    "this means when we converte 0's to na it became enterprise 2.na\n",
    "\n",
    "    We have to convert it to enterprise 2.0\n",
    "    \n",
    "    Also the greentech can be converted to green as it is a software company/clean tech as can be \n",
    "    seen from the master file.\n",
    "    \n",
    "    Adaptive equipment can be change to sporting goods as sporting goods is present in mapping file\n",
    "    \n",
    "    We can convert biotechnology and semiconductors to biotechnology\n",
    "    "
   ]
  },
  {
   "cell_type": "code",
   "execution_count": 47,
   "id": "90bf88c3",
   "metadata": {},
   "outputs": [
    {
     "data": {
      "text/html": [
       "<div>\n",
       "<style scoped>\n",
       "    .dataframe tbody tr th:only-of-type {\n",
       "        vertical-align: middle;\n",
       "    }\n",
       "\n",
       "    .dataframe tbody tr th {\n",
       "        vertical-align: top;\n",
       "    }\n",
       "\n",
       "    .dataframe thead th {\n",
       "        text-align: right;\n",
       "    }\n",
       "</style>\n",
       "<table border=\"1\" class=\"dataframe\">\n",
       "  <thead>\n",
       "    <tr style=\"text-align: right;\">\n",
       "      <th></th>\n",
       "      <th>category_list</th>\n",
       "      <th>Automotive &amp; Sports</th>\n",
       "      <th>Blanks</th>\n",
       "      <th>Cleantech / Semiconductors</th>\n",
       "      <th>Entertainment</th>\n",
       "      <th>Health</th>\n",
       "      <th>Manufacturing</th>\n",
       "      <th>News, Search and Messaging</th>\n",
       "      <th>Others</th>\n",
       "      <th>Social, Finance, Analytics, Advertising</th>\n",
       "    </tr>\n",
       "  </thead>\n",
       "  <tbody>\n",
       "    <tr>\n",
       "      <th>243</th>\n",
       "      <td>enterprise 2.na</td>\n",
       "      <td>0</td>\n",
       "      <td>0</td>\n",
       "      <td>0</td>\n",
       "      <td>0</td>\n",
       "      <td>0</td>\n",
       "      <td>0</td>\n",
       "      <td>0</td>\n",
       "      <td>1</td>\n",
       "      <td>0</td>\n",
       "    </tr>\n",
       "  </tbody>\n",
       "</table>\n",
       "</div>"
      ],
      "text/plain": [
       "       category_list  Automotive & Sports  Blanks  Cleantech / Semiconductors  \\\n",
       "243  enterprise 2.na                    0       0                           0   \n",
       "\n",
       "     Entertainment  Health  Manufacturing  News, Search and Messaging  Others  \\\n",
       "243              0       0              0                           0       1   \n",
       "\n",
       "     Social, Finance, Analytics, Advertising  \n",
       "243                                        0  "
      ]
     },
     "execution_count": 47,
     "metadata": {},
     "output_type": "execute_result"
    }
   ],
   "source": [
    "#checking our first assumption\n",
    "mapping.loc[mapping.category_list == 'enterprise 2.na']"
   ]
  },
  {
   "cell_type": "code",
   "execution_count": 48,
   "id": "72c53c4e",
   "metadata": {
    "scrolled": true
   },
   "outputs": [
    {
     "data": {
      "text/html": [
       "<div>\n",
       "<style scoped>\n",
       "    .dataframe tbody tr th:only-of-type {\n",
       "        vertical-align: middle;\n",
       "    }\n",
       "\n",
       "    .dataframe tbody tr th {\n",
       "        vertical-align: top;\n",
       "    }\n",
       "\n",
       "    .dataframe thead th {\n",
       "        text-align: right;\n",
       "    }\n",
       "</style>\n",
       "<table border=\"1\" class=\"dataframe\">\n",
       "  <thead>\n",
       "    <tr style=\"text-align: right;\">\n",
       "      <th></th>\n",
       "      <th>category_list</th>\n",
       "      <th>Automotive &amp; Sports</th>\n",
       "      <th>Blanks</th>\n",
       "      <th>Cleantech / Semiconductors</th>\n",
       "      <th>Entertainment</th>\n",
       "      <th>Health</th>\n",
       "      <th>Manufacturing</th>\n",
       "      <th>News, Search and Messaging</th>\n",
       "      <th>Others</th>\n",
       "      <th>Social, Finance, Analytics, Advertising</th>\n",
       "    </tr>\n",
       "  </thead>\n",
       "  <tbody>\n",
       "    <tr>\n",
       "      <th>243</th>\n",
       "      <td>enterprise 2.0</td>\n",
       "      <td>0</td>\n",
       "      <td>0</td>\n",
       "      <td>0</td>\n",
       "      <td>0</td>\n",
       "      <td>0</td>\n",
       "      <td>0</td>\n",
       "      <td>0</td>\n",
       "      <td>1</td>\n",
       "      <td>0</td>\n",
       "    </tr>\n",
       "  </tbody>\n",
       "</table>\n",
       "</div>"
      ],
      "text/plain": [
       "      category_list  Automotive & Sports  Blanks  Cleantech / Semiconductors  \\\n",
       "243  enterprise 2.0                    0       0                           0   \n",
       "\n",
       "     Entertainment  Health  Manufacturing  News, Search and Messaging  Others  \\\n",
       "243              0       0              0                           0       1   \n",
       "\n",
       "     Social, Finance, Analytics, Advertising  \n",
       "243                                        0  "
      ]
     },
     "execution_count": 48,
     "metadata": {},
     "output_type": "execute_result"
    }
   ],
   "source": [
    "#replacing it\n",
    "mapping.category_list = mapping.category_list.apply(lambda x : x.replace('enterprise 2.na' ,\n",
    "                                                                         'enterprise 2.0'))\n",
    "mapping.loc[mapping.category_list == 'enterprise 2.0']"
   ]
  },
  {
   "attachments": {},
   "cell_type": "markdown",
   "id": "8d7da7d1",
   "metadata": {},
   "source": [
    "    Now lets convert rest of the categories in df"
   ]
  },
  {
   "cell_type": "code",
   "execution_count": 49,
   "id": "674dad8a",
   "metadata": {},
   "outputs": [
    {
     "data": {
      "text/html": [
       "<div>\n",
       "<style scoped>\n",
       "    .dataframe tbody tr th:only-of-type {\n",
       "        vertical-align: middle;\n",
       "    }\n",
       "\n",
       "    .dataframe tbody tr th {\n",
       "        vertical-align: top;\n",
       "    }\n",
       "\n",
       "    .dataframe thead th {\n",
       "        text-align: right;\n",
       "    }\n",
       "</style>\n",
       "<table border=\"1\" class=\"dataframe\">\n",
       "  <thead>\n",
       "    <tr style=\"text-align: right;\">\n",
       "      <th></th>\n",
       "      <th>permalink</th>\n",
       "      <th>name</th>\n",
       "      <th>category_list</th>\n",
       "      <th>status</th>\n",
       "      <th>country_code</th>\n",
       "      <th>funding_round_permalink</th>\n",
       "      <th>funding_round_type</th>\n",
       "      <th>funded_at</th>\n",
       "      <th>raised_amount_usd</th>\n",
       "    </tr>\n",
       "  </thead>\n",
       "  <tbody>\n",
       "    <tr>\n",
       "      <th>67761</th>\n",
       "      <td>/organization/sense-labs-inc-</td>\n",
       "      <td>Sense</td>\n",
       "      <td>greentech</td>\n",
       "      <td>operating</td>\n",
       "      <td>USA</td>\n",
       "      <td>/funding-round/1ed09dae5b9feaba2ae7f56dd1b9bfd2</td>\n",
       "      <td>venture</td>\n",
       "      <td>29-12-2014</td>\n",
       "      <td>2499999.0</td>\n",
       "    </tr>\n",
       "  </tbody>\n",
       "</table>\n",
       "</div>"
      ],
      "text/plain": [
       "                           permalink   name category_list     status  \\\n",
       "67761  /organization/sense-labs-inc-  Sense     greentech  operating   \n",
       "\n",
       "      country_code                          funding_round_permalink  \\\n",
       "67761          USA  /funding-round/1ed09dae5b9feaba2ae7f56dd1b9bfd2   \n",
       "\n",
       "      funding_round_type   funded_at  raised_amount_usd  \n",
       "67761            venture  29-12-2014          2499999.0  "
      ]
     },
     "execution_count": 49,
     "metadata": {},
     "output_type": "execute_result"
    }
   ],
   "source": [
    "#checking greentech loc\n",
    "df.loc[df.category_list == 'greentech']"
   ]
  },
  {
   "cell_type": "code",
   "execution_count": 50,
   "id": "c20f2f49",
   "metadata": {},
   "outputs": [
    {
     "data": {
      "text/html": [
       "<div>\n",
       "<style scoped>\n",
       "    .dataframe tbody tr th:only-of-type {\n",
       "        vertical-align: middle;\n",
       "    }\n",
       "\n",
       "    .dataframe tbody tr th {\n",
       "        vertical-align: top;\n",
       "    }\n",
       "\n",
       "    .dataframe thead th {\n",
       "        text-align: right;\n",
       "    }\n",
       "</style>\n",
       "<table border=\"1\" class=\"dataframe\">\n",
       "  <thead>\n",
       "    <tr style=\"text-align: right;\">\n",
       "      <th></th>\n",
       "      <th>permalink</th>\n",
       "      <th>name</th>\n",
       "      <th>category_list</th>\n",
       "      <th>status</th>\n",
       "      <th>country_code</th>\n",
       "      <th>funding_round_permalink</th>\n",
       "      <th>funding_round_type</th>\n",
       "      <th>funded_at</th>\n",
       "      <th>raised_amount_usd</th>\n",
       "    </tr>\n",
       "  </thead>\n",
       "  <tbody>\n",
       "    <tr>\n",
       "      <th>67761</th>\n",
       "      <td>/organization/sense-labs-inc-</td>\n",
       "      <td>Sense</td>\n",
       "      <td>green</td>\n",
       "      <td>operating</td>\n",
       "      <td>USA</td>\n",
       "      <td>/funding-round/1ed09dae5b9feaba2ae7f56dd1b9bfd2</td>\n",
       "      <td>venture</td>\n",
       "      <td>29-12-2014</td>\n",
       "      <td>2499999.0</td>\n",
       "    </tr>\n",
       "  </tbody>\n",
       "</table>\n",
       "</div>"
      ],
      "text/plain": [
       "                           permalink   name category_list     status  \\\n",
       "67761  /organization/sense-labs-inc-  Sense         green  operating   \n",
       "\n",
       "      country_code                          funding_round_permalink  \\\n",
       "67761          USA  /funding-round/1ed09dae5b9feaba2ae7f56dd1b9bfd2   \n",
       "\n",
       "      funding_round_type   funded_at  raised_amount_usd  \n",
       "67761            venture  29-12-2014          2499999.0  "
      ]
     },
     "execution_count": 50,
     "metadata": {},
     "output_type": "execute_result"
    }
   ],
   "source": [
    "#replace greentech to green\n",
    "df.category_list = df.category_list.apply(lambda x : x.replace('greentech' ,\n",
    "                                                                         'green'))\n",
    "df.loc[df.category_list == 'green']"
   ]
  },
  {
   "cell_type": "code",
   "execution_count": 51,
   "id": "58f173ef",
   "metadata": {},
   "outputs": [
    {
     "data": {
      "text/html": [
       "<div>\n",
       "<style scoped>\n",
       "    .dataframe tbody tr th:only-of-type {\n",
       "        vertical-align: middle;\n",
       "    }\n",
       "\n",
       "    .dataframe tbody tr th {\n",
       "        vertical-align: top;\n",
       "    }\n",
       "\n",
       "    .dataframe thead th {\n",
       "        text-align: right;\n",
       "    }\n",
       "</style>\n",
       "<table border=\"1\" class=\"dataframe\">\n",
       "  <thead>\n",
       "    <tr style=\"text-align: right;\">\n",
       "      <th></th>\n",
       "      <th>permalink</th>\n",
       "      <th>name</th>\n",
       "      <th>category_list</th>\n",
       "      <th>status</th>\n",
       "      <th>country_code</th>\n",
       "      <th>funding_round_permalink</th>\n",
       "      <th>funding_round_type</th>\n",
       "      <th>funded_at</th>\n",
       "      <th>raised_amount_usd</th>\n",
       "    </tr>\n",
       "  </thead>\n",
       "  <tbody>\n",
       "    <tr>\n",
       "      <th>22354</th>\n",
       "      <td>/organization/dolores-speech-products</td>\n",
       "      <td>Dolores Speech Products</td>\n",
       "      <td>adaptive equipment</td>\n",
       "      <td>operating</td>\n",
       "      <td>USA</td>\n",
       "      <td>/funding-round/ba7393d89b2a5ad0c076e2295794c4ce</td>\n",
       "      <td>venture</td>\n",
       "      <td>07-04-2015</td>\n",
       "      <td>250000.0</td>\n",
       "    </tr>\n",
       "    <tr>\n",
       "      <th>81761</th>\n",
       "      <td>/organization/velocomp</td>\n",
       "      <td>Velocomp</td>\n",
       "      <td>adaptive equipment</td>\n",
       "      <td>operating</td>\n",
       "      <td>USA</td>\n",
       "      <td>/funding-round/2cdceb89206aad240a78e58329cec171</td>\n",
       "      <td>venture</td>\n",
       "      <td>09-09-2011</td>\n",
       "      <td>1420000.0</td>\n",
       "    </tr>\n",
       "  </tbody>\n",
       "</table>\n",
       "</div>"
      ],
      "text/plain": [
       "                                   permalink                     name  \\\n",
       "22354  /organization/dolores-speech-products  Dolores Speech Products   \n",
       "81761                 /organization/velocomp                 Velocomp   \n",
       "\n",
       "            category_list     status country_code  \\\n",
       "22354  adaptive equipment  operating          USA   \n",
       "81761  adaptive equipment  operating          USA   \n",
       "\n",
       "                               funding_round_permalink funding_round_type  \\\n",
       "22354  /funding-round/ba7393d89b2a5ad0c076e2295794c4ce            venture   \n",
       "81761  /funding-round/2cdceb89206aad240a78e58329cec171            venture   \n",
       "\n",
       "        funded_at  raised_amount_usd  \n",
       "22354  07-04-2015           250000.0  \n",
       "81761  09-09-2011          1420000.0  "
      ]
     },
     "execution_count": 51,
     "metadata": {},
     "output_type": "execute_result"
    }
   ],
   "source": [
    "#replacing adaptive equipment by sports good\n",
    "df.loc[df.category_list == 'adaptive equipment']"
   ]
  },
  {
   "cell_type": "code",
   "execution_count": 52,
   "id": "15dea888",
   "metadata": {},
   "outputs": [],
   "source": [
    "#here is an issue as adaptive technology is present in dolores speech products and velocomp\n",
    "#but since we have only chosen velocomp we drop dolores speech\n",
    "df = df.loc[df.name != 'Dolores Speech Products']"
   ]
  },
  {
   "cell_type": "code",
   "execution_count": 53,
   "id": "e51112c4",
   "metadata": {},
   "outputs": [
    {
     "data": {
      "text/html": [
       "<div>\n",
       "<style scoped>\n",
       "    .dataframe tbody tr th:only-of-type {\n",
       "        vertical-align: middle;\n",
       "    }\n",
       "\n",
       "    .dataframe tbody tr th {\n",
       "        vertical-align: top;\n",
       "    }\n",
       "\n",
       "    .dataframe thead th {\n",
       "        text-align: right;\n",
       "    }\n",
       "</style>\n",
       "<table border=\"1\" class=\"dataframe\">\n",
       "  <thead>\n",
       "    <tr style=\"text-align: right;\">\n",
       "      <th></th>\n",
       "      <th>permalink</th>\n",
       "      <th>name</th>\n",
       "      <th>category_list</th>\n",
       "      <th>status</th>\n",
       "      <th>country_code</th>\n",
       "      <th>funding_round_permalink</th>\n",
       "      <th>funding_round_type</th>\n",
       "      <th>funded_at</th>\n",
       "      <th>raised_amount_usd</th>\n",
       "    </tr>\n",
       "  </thead>\n",
       "  <tbody>\n",
       "  </tbody>\n",
       "</table>\n",
       "</div>"
      ],
      "text/plain": [
       "Empty DataFrame\n",
       "Columns: [permalink, name, category_list, status, country_code, funding_round_permalink, funding_round_type, funded_at, raised_amount_usd]\n",
       "Index: []"
      ]
     },
     "execution_count": 53,
     "metadata": {},
     "output_type": "execute_result"
    }
   ],
   "source": [
    "#checking\n",
    "df.loc[df.name == 'Dolores Speech Products']"
   ]
  },
  {
   "cell_type": "code",
   "execution_count": 54,
   "id": "0a29b127",
   "metadata": {},
   "outputs": [
    {
     "data": {
      "text/html": [
       "<div>\n",
       "<style scoped>\n",
       "    .dataframe tbody tr th:only-of-type {\n",
       "        vertical-align: middle;\n",
       "    }\n",
       "\n",
       "    .dataframe tbody tr th {\n",
       "        vertical-align: top;\n",
       "    }\n",
       "\n",
       "    .dataframe thead th {\n",
       "        text-align: right;\n",
       "    }\n",
       "</style>\n",
       "<table border=\"1\" class=\"dataframe\">\n",
       "  <thead>\n",
       "    <tr style=\"text-align: right;\">\n",
       "      <th></th>\n",
       "      <th>permalink</th>\n",
       "      <th>name</th>\n",
       "      <th>category_list</th>\n",
       "      <th>status</th>\n",
       "      <th>country_code</th>\n",
       "      <th>funding_round_permalink</th>\n",
       "      <th>funding_round_type</th>\n",
       "      <th>funded_at</th>\n",
       "      <th>raised_amount_usd</th>\n",
       "    </tr>\n",
       "  </thead>\n",
       "  <tbody>\n",
       "    <tr>\n",
       "      <th>81761</th>\n",
       "      <td>/organization/velocomp</td>\n",
       "      <td>Velocomp</td>\n",
       "      <td>adaptive equipment</td>\n",
       "      <td>operating</td>\n",
       "      <td>USA</td>\n",
       "      <td>/funding-round/2cdceb89206aad240a78e58329cec171</td>\n",
       "      <td>venture</td>\n",
       "      <td>09-09-2011</td>\n",
       "      <td>1420000.0</td>\n",
       "    </tr>\n",
       "  </tbody>\n",
       "</table>\n",
       "</div>"
      ],
      "text/plain": [
       "                    permalink      name       category_list     status  \\\n",
       "81761  /organization/velocomp  Velocomp  adaptive equipment  operating   \n",
       "\n",
       "      country_code                          funding_round_permalink  \\\n",
       "81761          USA  /funding-round/2cdceb89206aad240a78e58329cec171   \n",
       "\n",
       "      funding_round_type   funded_at  raised_amount_usd  \n",
       "81761            venture  09-09-2011          1420000.0  "
      ]
     },
     "execution_count": 54,
     "metadata": {},
     "output_type": "execute_result"
    }
   ],
   "source": [
    "#replacing adaptive equipment by sports good\n",
    "df.loc[df.category_list == 'adaptive equipment']"
   ]
  },
  {
   "cell_type": "code",
   "execution_count": 55,
   "id": "f8e3ff42",
   "metadata": {},
   "outputs": [],
   "source": [
    "df.category_list = df.category_list.apply(lambda x : x.replace('adaptive equipment',\n",
    "                                                               'sporting goods'))"
   ]
  },
  {
   "cell_type": "code",
   "execution_count": 56,
   "id": "6972dd11",
   "metadata": {},
   "outputs": [
    {
     "data": {
      "text/html": [
       "<div>\n",
       "<style scoped>\n",
       "    .dataframe tbody tr th:only-of-type {\n",
       "        vertical-align: middle;\n",
       "    }\n",
       "\n",
       "    .dataframe tbody tr th {\n",
       "        vertical-align: top;\n",
       "    }\n",
       "\n",
       "    .dataframe thead th {\n",
       "        text-align: right;\n",
       "    }\n",
       "</style>\n",
       "<table border=\"1\" class=\"dataframe\">\n",
       "  <thead>\n",
       "    <tr style=\"text-align: right;\">\n",
       "      <th></th>\n",
       "      <th>permalink</th>\n",
       "      <th>name</th>\n",
       "      <th>category_list</th>\n",
       "      <th>status</th>\n",
       "      <th>country_code</th>\n",
       "      <th>funding_round_permalink</th>\n",
       "      <th>funding_round_type</th>\n",
       "      <th>funded_at</th>\n",
       "      <th>raised_amount_usd</th>\n",
       "    </tr>\n",
       "  </thead>\n",
       "  <tbody>\n",
       "    <tr>\n",
       "      <th>29002</th>\n",
       "      <td>/organization/fortified-bicycle</td>\n",
       "      <td>FORTIFIED Bicycle</td>\n",
       "      <td>sporting goods</td>\n",
       "      <td>operating</td>\n",
       "      <td>USA</td>\n",
       "      <td>/funding-round/30eb5c60879976960b777c0fe0b161c5</td>\n",
       "      <td>venture</td>\n",
       "      <td>19-07-2014</td>\n",
       "      <td>800000.0</td>\n",
       "    </tr>\n",
       "    <tr>\n",
       "      <th>59757</th>\n",
       "      <td>/organization/pow</td>\n",
       "      <td>POW</td>\n",
       "      <td>sporting goods</td>\n",
       "      <td>operating</td>\n",
       "      <td>USA</td>\n",
       "      <td>/funding-round/78ae99902ddceea4cee7480f42770abb</td>\n",
       "      <td>venture</td>\n",
       "      <td>24-09-2014</td>\n",
       "      <td>2500000.0</td>\n",
       "    </tr>\n",
       "    <tr>\n",
       "      <th>81761</th>\n",
       "      <td>/organization/velocomp</td>\n",
       "      <td>Velocomp</td>\n",
       "      <td>sporting goods</td>\n",
       "      <td>operating</td>\n",
       "      <td>USA</td>\n",
       "      <td>/funding-round/2cdceb89206aad240a78e58329cec171</td>\n",
       "      <td>venture</td>\n",
       "      <td>09-09-2011</td>\n",
       "      <td>1420000.0</td>\n",
       "    </tr>\n",
       "  </tbody>\n",
       "</table>\n",
       "</div>"
      ],
      "text/plain": [
       "                             permalink               name   category_list  \\\n",
       "29002  /organization/fortified-bicycle  FORTIFIED Bicycle  sporting goods   \n",
       "59757                /organization/pow                POW  sporting goods   \n",
       "81761           /organization/velocomp           Velocomp  sporting goods   \n",
       "\n",
       "          status country_code  \\\n",
       "29002  operating          USA   \n",
       "59757  operating          USA   \n",
       "81761  operating          USA   \n",
       "\n",
       "                               funding_round_permalink funding_round_type  \\\n",
       "29002  /funding-round/30eb5c60879976960b777c0fe0b161c5            venture   \n",
       "59757  /funding-round/78ae99902ddceea4cee7480f42770abb            venture   \n",
       "81761  /funding-round/2cdceb89206aad240a78e58329cec171            venture   \n",
       "\n",
       "        funded_at  raised_amount_usd  \n",
       "29002  19-07-2014           800000.0  \n",
       "59757  24-09-2014          2500000.0  \n",
       "81761  09-09-2011          1420000.0  "
      ]
     },
     "execution_count": 56,
     "metadata": {},
     "output_type": "execute_result"
    }
   ],
   "source": [
    "#checking\n",
    "df.loc[df.category_list == 'sporting goods']"
   ]
  },
  {
   "cell_type": "code",
   "execution_count": 57,
   "id": "10a8e63f",
   "metadata": {},
   "outputs": [
    {
     "data": {
      "text/html": [
       "<div>\n",
       "<style scoped>\n",
       "    .dataframe tbody tr th:only-of-type {\n",
       "        vertical-align: middle;\n",
       "    }\n",
       "\n",
       "    .dataframe tbody tr th {\n",
       "        vertical-align: top;\n",
       "    }\n",
       "\n",
       "    .dataframe thead th {\n",
       "        text-align: right;\n",
       "    }\n",
       "</style>\n",
       "<table border=\"1\" class=\"dataframe\">\n",
       "  <thead>\n",
       "    <tr style=\"text-align: right;\">\n",
       "      <th></th>\n",
       "      <th>permalink</th>\n",
       "      <th>name</th>\n",
       "      <th>category_list</th>\n",
       "      <th>status</th>\n",
       "      <th>country_code</th>\n",
       "      <th>funding_round_permalink</th>\n",
       "      <th>funding_round_type</th>\n",
       "      <th>funded_at</th>\n",
       "      <th>raised_amount_usd</th>\n",
       "    </tr>\n",
       "  </thead>\n",
       "  <tbody>\n",
       "    <tr>\n",
       "      <th>33669</th>\n",
       "      <td>/organization/healthtell</td>\n",
       "      <td>HealthTell</td>\n",
       "      <td>biotechnology and semiconductor</td>\n",
       "      <td>operating</td>\n",
       "      <td>USA</td>\n",
       "      <td>/funding-round/8edf7332fface9972541807a248690b3</td>\n",
       "      <td>venture</td>\n",
       "      <td>13-06-2014</td>\n",
       "      <td>9486929.0</td>\n",
       "    </tr>\n",
       "  </tbody>\n",
       "</table>\n",
       "</div>"
      ],
      "text/plain": [
       "                      permalink        name                    category_list  \\\n",
       "33669  /organization/healthtell  HealthTell  biotechnology and semiconductor   \n",
       "\n",
       "          status country_code  \\\n",
       "33669  operating          USA   \n",
       "\n",
       "                               funding_round_permalink funding_round_type  \\\n",
       "33669  /funding-round/8edf7332fface9972541807a248690b3            venture   \n",
       "\n",
       "        funded_at  raised_amount_usd  \n",
       "33669  13-06-2014          9486929.0  "
      ]
     },
     "execution_count": 57,
     "metadata": {},
     "output_type": "execute_result"
    }
   ],
   "source": [
    "#replacing biotechnolgy and semiconductors\n",
    "df.loc[df.category_list == 'biotechnology and semiconductor']"
   ]
  },
  {
   "cell_type": "code",
   "execution_count": 58,
   "id": "55b57bf3",
   "metadata": {},
   "outputs": [
    {
     "data": {
      "text/html": [
       "<div>\n",
       "<style scoped>\n",
       "    .dataframe tbody tr th:only-of-type {\n",
       "        vertical-align: middle;\n",
       "    }\n",
       "\n",
       "    .dataframe tbody tr th {\n",
       "        vertical-align: top;\n",
       "    }\n",
       "\n",
       "    .dataframe thead th {\n",
       "        text-align: right;\n",
       "    }\n",
       "</style>\n",
       "<table border=\"1\" class=\"dataframe\">\n",
       "  <thead>\n",
       "    <tr style=\"text-align: right;\">\n",
       "      <th></th>\n",
       "      <th>permalink</th>\n",
       "      <th>name</th>\n",
       "      <th>category_list</th>\n",
       "      <th>status</th>\n",
       "      <th>country_code</th>\n",
       "      <th>funding_round_permalink</th>\n",
       "      <th>funding_round_type</th>\n",
       "      <th>funded_at</th>\n",
       "      <th>raised_amount_usd</th>\n",
       "    </tr>\n",
       "  </thead>\n",
       "  <tbody>\n",
       "    <tr>\n",
       "      <th>33669</th>\n",
       "      <td>/organization/healthtell</td>\n",
       "      <td>HealthTell</td>\n",
       "      <td>biotechnology</td>\n",
       "      <td>operating</td>\n",
       "      <td>USA</td>\n",
       "      <td>/funding-round/8edf7332fface9972541807a248690b3</td>\n",
       "      <td>venture</td>\n",
       "      <td>13-06-2014</td>\n",
       "      <td>9486929.0</td>\n",
       "    </tr>\n",
       "  </tbody>\n",
       "</table>\n",
       "</div>"
      ],
      "text/plain": [
       "                      permalink        name  category_list     status  \\\n",
       "33669  /organization/healthtell  HealthTell  biotechnology  operating   \n",
       "\n",
       "      country_code                          funding_round_permalink  \\\n",
       "33669          USA  /funding-round/8edf7332fface9972541807a248690b3   \n",
       "\n",
       "      funding_round_type   funded_at  raised_amount_usd  \n",
       "33669            venture  13-06-2014          9486929.0  "
      ]
     },
     "execution_count": 58,
     "metadata": {},
     "output_type": "execute_result"
    }
   ],
   "source": [
    "df.category_list = df.category_list.apply(lambda x : x.replace('biotechnology and semiconductor',\n",
    "                                                               'biotechnology'))\n",
    "\n",
    "df.loc[df.name == 'HealthTell']"
   ]
  },
  {
   "attachments": {},
   "cell_type": "markdown",
   "id": "4ff0dfa1",
   "metadata": {},
   "source": [
    "    Now lets check the df file again\n",
    "    "
   ]
  },
  {
   "cell_type": "code",
   "execution_count": 59,
   "id": "7c4038fb",
   "metadata": {},
   "outputs": [
    {
     "data": {
      "text/html": [
       "<div>\n",
       "<style scoped>\n",
       "    .dataframe tbody tr th:only-of-type {\n",
       "        vertical-align: middle;\n",
       "    }\n",
       "\n",
       "    .dataframe tbody tr th {\n",
       "        vertical-align: top;\n",
       "    }\n",
       "\n",
       "    .dataframe thead th {\n",
       "        text-align: right;\n",
       "    }\n",
       "</style>\n",
       "<table border=\"1\" class=\"dataframe\">\n",
       "  <thead>\n",
       "    <tr style=\"text-align: right;\">\n",
       "      <th></th>\n",
       "      <th>permalink</th>\n",
       "      <th>name</th>\n",
       "      <th>category_list</th>\n",
       "      <th>status</th>\n",
       "      <th>country_code</th>\n",
       "      <th>funding_round_permalink</th>\n",
       "      <th>funding_round_type</th>\n",
       "      <th>funded_at</th>\n",
       "      <th>raised_amount_usd</th>\n",
       "    </tr>\n",
       "  </thead>\n",
       "  <tbody>\n",
       "    <tr>\n",
       "      <th>15903</th>\n",
       "      <td>/organization/clean-vehicle-solutions</td>\n",
       "      <td>Clean Vehicle Solutions</td>\n",
       "      <td>natural gas uses</td>\n",
       "      <td>operating</td>\n",
       "      <td>USA</td>\n",
       "      <td>/funding-round/7b991c526219c2edff8789942215d93b</td>\n",
       "      <td>venture</td>\n",
       "      <td>26-02-2010</td>\n",
       "      <td>125000.0</td>\n",
       "    </tr>\n",
       "    <tr>\n",
       "      <th>27532</th>\n",
       "      <td>/organization/fia-formula-e</td>\n",
       "      <td>FIA Formula E</td>\n",
       "      <td>racing</td>\n",
       "      <td>closed</td>\n",
       "      <td>GBR</td>\n",
       "      <td>/funding-round/19a09624fcf806a4a64809462a4e391c</td>\n",
       "      <td>venture</td>\n",
       "      <td>15-05-2014</td>\n",
       "      <td>68569234.0</td>\n",
       "    </tr>\n",
       "    <tr>\n",
       "      <th>28076</th>\n",
       "      <td>/organization/five-below</td>\n",
       "      <td>Five Below</td>\n",
       "      <td>specialty retail</td>\n",
       "      <td>ipo</td>\n",
       "      <td>USA</td>\n",
       "      <td>/funding-round/2a50c59492585ea4080fa67de755a442</td>\n",
       "      <td>venture</td>\n",
       "      <td>14-10-2010</td>\n",
       "      <td>194000000.0</td>\n",
       "    </tr>\n",
       "    <tr>\n",
       "      <th>40079</th>\n",
       "      <td>/organization/justinmind</td>\n",
       "      <td>Justinmind</td>\n",
       "      <td>rapidly expanding</td>\n",
       "      <td>operating</td>\n",
       "      <td>USA</td>\n",
       "      <td>/funding-round/c6e9adcef86247dccf8418dc3e4b9a0b</td>\n",
       "      <td>venture</td>\n",
       "      <td>17-12-2007</td>\n",
       "      <td>862000.0</td>\n",
       "    </tr>\n",
       "    <tr>\n",
       "      <th>54109</th>\n",
       "      <td>/organization/omega-point-research</td>\n",
       "      <td>Omega Point Research</td>\n",
       "      <td>product search</td>\n",
       "      <td>closed</td>\n",
       "      <td>USA</td>\n",
       "      <td>/funding-round/4870743e3fded9317f5611eb2e848667</td>\n",
       "      <td>venture</td>\n",
       "      <td>14-05-2015</td>\n",
       "      <td>3172815.0</td>\n",
       "    </tr>\n",
       "    <tr>\n",
       "      <th>68301</th>\n",
       "      <td>/organization/shantiniketan-incorporated</td>\n",
       "      <td>ShantiNiketan Inc.</td>\n",
       "      <td>retirement</td>\n",
       "      <td>closed</td>\n",
       "      <td>USA</td>\n",
       "      <td>/funding-round/96f7fa1fdcc380649723c8effc2a1062</td>\n",
       "      <td>venture</td>\n",
       "      <td>01-08-2008</td>\n",
       "      <td>1100000.0</td>\n",
       "    </tr>\n",
       "    <tr>\n",
       "      <th>68302</th>\n",
       "      <td>/organization/shantiniketan-incorporated</td>\n",
       "      <td>ShantiNiketan Inc.</td>\n",
       "      <td>retirement</td>\n",
       "      <td>closed</td>\n",
       "      <td>USA</td>\n",
       "      <td>/funding-round/c6baca436fa80360921d89a06a0a0e93</td>\n",
       "      <td>venture</td>\n",
       "      <td>01-05-2011</td>\n",
       "      <td>2000000.0</td>\n",
       "    </tr>\n",
       "  </tbody>\n",
       "</table>\n",
       "</div>"
      ],
      "text/plain": [
       "                                      permalink                     name  \\\n",
       "15903     /organization/clean-vehicle-solutions  Clean Vehicle Solutions   \n",
       "27532               /organization/fia-formula-e            FIA Formula E   \n",
       "28076                  /organization/five-below               Five Below   \n",
       "40079                  /organization/justinmind               Justinmind   \n",
       "54109        /organization/omega-point-research     Omega Point Research   \n",
       "68301  /organization/shantiniketan-incorporated       ShantiNiketan Inc.   \n",
       "68302  /organization/shantiniketan-incorporated       ShantiNiketan Inc.   \n",
       "\n",
       "           category_list     status country_code  \\\n",
       "15903   natural gas uses  operating          USA   \n",
       "27532             racing     closed          GBR   \n",
       "28076   specialty retail        ipo          USA   \n",
       "40079  rapidly expanding  operating          USA   \n",
       "54109     product search     closed          USA   \n",
       "68301         retirement     closed          USA   \n",
       "68302         retirement     closed          USA   \n",
       "\n",
       "                               funding_round_permalink funding_round_type  \\\n",
       "15903  /funding-round/7b991c526219c2edff8789942215d93b            venture   \n",
       "27532  /funding-round/19a09624fcf806a4a64809462a4e391c            venture   \n",
       "28076  /funding-round/2a50c59492585ea4080fa67de755a442            venture   \n",
       "40079  /funding-round/c6e9adcef86247dccf8418dc3e4b9a0b            venture   \n",
       "54109  /funding-round/4870743e3fded9317f5611eb2e848667            venture   \n",
       "68301  /funding-round/96f7fa1fdcc380649723c8effc2a1062            venture   \n",
       "68302  /funding-round/c6baca436fa80360921d89a06a0a0e93            venture   \n",
       "\n",
       "        funded_at  raised_amount_usd  \n",
       "15903  26-02-2010           125000.0  \n",
       "27532  15-05-2014         68569234.0  \n",
       "28076  14-10-2010        194000000.0  \n",
       "40079  17-12-2007           862000.0  \n",
       "54109  14-05-2015          3172815.0  \n",
       "68301  01-08-2008          1100000.0  \n",
       "68302  01-05-2011          2000000.0  "
      ]
     },
     "execution_count": 59,
     "metadata": {},
     "output_type": "execute_result"
    }
   ],
   "source": [
    "#lets check whether each category in df is now present in mapping file\n",
    "df[~df['category_list'].isin(mapping.category_list)]"
   ]
  },
  {
   "cell_type": "code",
   "execution_count": 60,
   "id": "cc5a680a",
   "metadata": {},
   "outputs": [
    {
     "data": {
      "text/plain": [
       "(7, 9)"
      ]
     },
     "execution_count": 60,
     "metadata": {},
     "output_type": "execute_result"
    }
   ],
   "source": [
    "df[~df['category_list'].isin(mapping.category_list)].shape"
   ]
  },
  {
   "cell_type": "code",
   "execution_count": 61,
   "id": "159f11b4",
   "metadata": {},
   "outputs": [
    {
     "data": {
      "text/plain": [
       "(40048, 9)"
      ]
     },
     "execution_count": 61,
     "metadata": {},
     "output_type": "execute_result"
    }
   ],
   "source": [
    "df.shape"
   ]
  },
  {
   "cell_type": "code",
   "execution_count": 62,
   "id": "17a14f96",
   "metadata": {},
   "outputs": [
    {
     "data": {
      "text/plain": [
       "(40041, 9)"
      ]
     },
     "execution_count": 62,
     "metadata": {},
     "output_type": "execute_result"
    }
   ],
   "source": [
    "#dropping these columns\n",
    "df = df[df['category_list'].isin(mapping.category_list)]\n",
    "df.shape"
   ]
  },
  {
   "cell_type": "code",
   "execution_count": 63,
   "id": "f076d844",
   "metadata": {
    "scrolled": true
   },
   "outputs": [
    {
     "data": {
      "text/html": [
       "<div>\n",
       "<style scoped>\n",
       "    .dataframe tbody tr th:only-of-type {\n",
       "        vertical-align: middle;\n",
       "    }\n",
       "\n",
       "    .dataframe tbody tr th {\n",
       "        vertical-align: top;\n",
       "    }\n",
       "\n",
       "    .dataframe thead th {\n",
       "        text-align: right;\n",
       "    }\n",
       "</style>\n",
       "<table border=\"1\" class=\"dataframe\">\n",
       "  <thead>\n",
       "    <tr style=\"text-align: right;\">\n",
       "      <th></th>\n",
       "      <th>permalink</th>\n",
       "      <th>name</th>\n",
       "      <th>category_list</th>\n",
       "      <th>status</th>\n",
       "      <th>country_code</th>\n",
       "      <th>funding_round_permalink</th>\n",
       "      <th>funding_round_type</th>\n",
       "      <th>funded_at</th>\n",
       "      <th>raised_amount_usd</th>\n",
       "    </tr>\n",
       "  </thead>\n",
       "  <tbody>\n",
       "  </tbody>\n",
       "</table>\n",
       "</div>"
      ],
      "text/plain": [
       "Empty DataFrame\n",
       "Columns: [permalink, name, category_list, status, country_code, funding_round_permalink, funding_round_type, funded_at, raised_amount_usd]\n",
       "Index: []"
      ]
     },
     "execution_count": 63,
     "metadata": {},
     "output_type": "execute_result"
    }
   ],
   "source": [
    "#lets check again\n",
    "df[~df['category_list'].isin(mapping.category_list)]"
   ]
  },
  {
   "cell_type": "code",
   "execution_count": 64,
   "id": "34cc48d1",
   "metadata": {},
   "outputs": [
    {
     "data": {
      "text/plain": [
       "(687, 10)"
      ]
     },
     "execution_count": 64,
     "metadata": {},
     "output_type": "execute_result"
    }
   ],
   "source": [
    "#also dropping those categories in mapping file which are not in the df file \n",
    "mapping.shape"
   ]
  },
  {
   "cell_type": "code",
   "execution_count": 65,
   "id": "07d3b5d5",
   "metadata": {},
   "outputs": [
    {
     "data": {
      "text/plain": [
       "(126, 10)"
      ]
     },
     "execution_count": 65,
     "metadata": {},
     "output_type": "execute_result"
    }
   ],
   "source": [
    "mapping[~mapping.category_list.isin(df.category_list)].shape"
   ]
  },
  {
   "cell_type": "code",
   "execution_count": 66,
   "id": "fe7b9c52",
   "metadata": {},
   "outputs": [
    {
     "name": "stdout",
     "output_type": "stream",
     "text": [
      "(561, 10)\n"
     ]
    },
    {
     "data": {
      "text/plain": [
       "(0, 10)"
      ]
     },
     "execution_count": 66,
     "metadata": {},
     "output_type": "execute_result"
    }
   ],
   "source": [
    "mapping = mapping[mapping.category_list.isin(df.category_list)]\n",
    "\n",
    "print(mapping.shape)\n",
    "mapping[~mapping.category_list.isin(df.category_list)].shape"
   ]
  },
  {
   "attachments": {},
   "cell_type": "markdown",
   "id": "0c6d8f47",
   "metadata": {},
   "source": [
    "    so we have succesfully cleaned all the columns and now we can do the merge"
   ]
  },
  {
   "attachments": {},
   "cell_type": "markdown",
   "id": "4116fb82",
   "metadata": {},
   "source": [
    "### Merging the mapping and df files on category_list"
   ]
  },
  {
   "cell_type": "code",
   "execution_count": 67,
   "id": "4d13fd5e",
   "metadata": {},
   "outputs": [
    {
     "name": "stdout",
     "output_type": "stream",
     "text": [
      "<class 'pandas.core.frame.DataFrame'>\n",
      "Int64Index: 40041 entries, 0 to 40040\n",
      "Data columns (total 18 columns):\n",
      " #   Column                                   Non-Null Count  Dtype  \n",
      "---  ------                                   --------------  -----  \n",
      " 0   permalink                                40041 non-null  object \n",
      " 1   name                                     40041 non-null  object \n",
      " 2   category_list                            40041 non-null  object \n",
      " 3   status                                   40041 non-null  object \n",
      " 4   country_code                             40041 non-null  object \n",
      " 5   funding_round_permalink                  40041 non-null  object \n",
      " 6   funding_round_type                       40041 non-null  object \n",
      " 7   funded_at                                40041 non-null  object \n",
      " 8   raised_amount_usd                        40041 non-null  float64\n",
      " 9   Automotive & Sports                      40041 non-null  int64  \n",
      " 10  Blanks                                   40041 non-null  int64  \n",
      " 11  Cleantech / Semiconductors               40041 non-null  int64  \n",
      " 12  Entertainment                            40041 non-null  int64  \n",
      " 13  Health                                   40041 non-null  int64  \n",
      " 14  Manufacturing                            40041 non-null  int64  \n",
      " 15  News, Search and Messaging               40041 non-null  int64  \n",
      " 16  Others                                   40041 non-null  int64  \n",
      " 17  Social, Finance, Analytics, Advertising  40041 non-null  int64  \n",
      "dtypes: float64(1), int64(9), object(8)\n",
      "memory usage: 5.8+ MB\n"
     ]
    }
   ],
   "source": [
    "df = pd.merge(df, mapping, on = 'category_list')\n",
    "df.info()"
   ]
  },
  {
   "cell_type": "code",
   "execution_count": 68,
   "id": "403e262e",
   "metadata": {},
   "outputs": [
    {
     "data": {
      "text/html": [
       "<div>\n",
       "<style scoped>\n",
       "    .dataframe tbody tr th:only-of-type {\n",
       "        vertical-align: middle;\n",
       "    }\n",
       "\n",
       "    .dataframe tbody tr th {\n",
       "        vertical-align: top;\n",
       "    }\n",
       "\n",
       "    .dataframe thead th {\n",
       "        text-align: right;\n",
       "    }\n",
       "</style>\n",
       "<table border=\"1\" class=\"dataframe\">\n",
       "  <thead>\n",
       "    <tr style=\"text-align: right;\">\n",
       "      <th></th>\n",
       "      <th>permalink</th>\n",
       "      <th>name</th>\n",
       "      <th>category_list</th>\n",
       "      <th>status</th>\n",
       "      <th>country_code</th>\n",
       "      <th>funding_round_permalink</th>\n",
       "      <th>funding_round_type</th>\n",
       "      <th>funded_at</th>\n",
       "      <th>raised_amount_usd</th>\n",
       "      <th>Automotive &amp; Sports</th>\n",
       "      <th>Blanks</th>\n",
       "      <th>Cleantech / Semiconductors</th>\n",
       "      <th>Entertainment</th>\n",
       "      <th>Health</th>\n",
       "      <th>Manufacturing</th>\n",
       "      <th>News, Search and Messaging</th>\n",
       "      <th>Others</th>\n",
       "      <th>Social, Finance, Analytics, Advertising</th>\n",
       "    </tr>\n",
       "  </thead>\n",
       "  <tbody>\n",
       "    <tr>\n",
       "      <th>0</th>\n",
       "      <td>/organization/-fame</td>\n",
       "      <td>#fame</td>\n",
       "      <td>media</td>\n",
       "      <td>operating</td>\n",
       "      <td>IND</td>\n",
       "      <td>/funding-round/9a01d05418af9f794eebff7ace91f638</td>\n",
       "      <td>venture</td>\n",
       "      <td>05-01-2015</td>\n",
       "      <td>10000000.0</td>\n",
       "      <td>0</td>\n",
       "      <td>0</td>\n",
       "      <td>0</td>\n",
       "      <td>1</td>\n",
       "      <td>0</td>\n",
       "      <td>0</td>\n",
       "      <td>0</td>\n",
       "      <td>0</td>\n",
       "      <td>0</td>\n",
       "    </tr>\n",
       "    <tr>\n",
       "      <th>1</th>\n",
       "      <td>/organization/90min</td>\n",
       "      <td>90min</td>\n",
       "      <td>media</td>\n",
       "      <td>operating</td>\n",
       "      <td>GBR</td>\n",
       "      <td>/funding-round/21a2cbf6f2fb2a1c2a61e04bf930dfe6</td>\n",
       "      <td>venture</td>\n",
       "      <td>06-10-2015</td>\n",
       "      <td>15000000.0</td>\n",
       "      <td>0</td>\n",
       "      <td>0</td>\n",
       "      <td>0</td>\n",
       "      <td>1</td>\n",
       "      <td>0</td>\n",
       "      <td>0</td>\n",
       "      <td>0</td>\n",
       "      <td>0</td>\n",
       "      <td>0</td>\n",
       "    </tr>\n",
       "    <tr>\n",
       "      <th>2</th>\n",
       "      <td>/organization/90min</td>\n",
       "      <td>90min</td>\n",
       "      <td>media</td>\n",
       "      <td>operating</td>\n",
       "      <td>GBR</td>\n",
       "      <td>/funding-round/bd626ed022f5c66574b1afe234f3c90d</td>\n",
       "      <td>venture</td>\n",
       "      <td>07-05-2013</td>\n",
       "      <td>5800000.0</td>\n",
       "      <td>0</td>\n",
       "      <td>0</td>\n",
       "      <td>0</td>\n",
       "      <td>1</td>\n",
       "      <td>0</td>\n",
       "      <td>0</td>\n",
       "      <td>0</td>\n",
       "      <td>0</td>\n",
       "      <td>0</td>\n",
       "    </tr>\n",
       "    <tr>\n",
       "      <th>3</th>\n",
       "      <td>/organization/90min</td>\n",
       "      <td>90min</td>\n",
       "      <td>media</td>\n",
       "      <td>operating</td>\n",
       "      <td>GBR</td>\n",
       "      <td>/funding-round/fd4b15e8c97ee2ffc0acccdbe1a98810</td>\n",
       "      <td>venture</td>\n",
       "      <td>26-03-2014</td>\n",
       "      <td>18000000.0</td>\n",
       "      <td>0</td>\n",
       "      <td>0</td>\n",
       "      <td>0</td>\n",
       "      <td>1</td>\n",
       "      <td>0</td>\n",
       "      <td>0</td>\n",
       "      <td>0</td>\n",
       "      <td>0</td>\n",
       "      <td>0</td>\n",
       "    </tr>\n",
       "    <tr>\n",
       "      <th>4</th>\n",
       "      <td>/organization/all-def-digital</td>\n",
       "      <td>All Def Digital</td>\n",
       "      <td>media</td>\n",
       "      <td>operating</td>\n",
       "      <td>USA</td>\n",
       "      <td>/funding-round/452a2342fe720285c3b92e9bd927d9ba</td>\n",
       "      <td>venture</td>\n",
       "      <td>06-08-2014</td>\n",
       "      <td>5000000.0</td>\n",
       "      <td>0</td>\n",
       "      <td>0</td>\n",
       "      <td>0</td>\n",
       "      <td>1</td>\n",
       "      <td>0</td>\n",
       "      <td>0</td>\n",
       "      <td>0</td>\n",
       "      <td>0</td>\n",
       "      <td>0</td>\n",
       "    </tr>\n",
       "  </tbody>\n",
       "</table>\n",
       "</div>"
      ],
      "text/plain": [
       "                       permalink             name category_list     status  \\\n",
       "0            /organization/-fame            #fame         media  operating   \n",
       "1            /organization/90min            90min         media  operating   \n",
       "2            /organization/90min            90min         media  operating   \n",
       "3            /organization/90min            90min         media  operating   \n",
       "4  /organization/all-def-digital  All Def Digital         media  operating   \n",
       "\n",
       "  country_code                          funding_round_permalink  \\\n",
       "0          IND  /funding-round/9a01d05418af9f794eebff7ace91f638   \n",
       "1          GBR  /funding-round/21a2cbf6f2fb2a1c2a61e04bf930dfe6   \n",
       "2          GBR  /funding-round/bd626ed022f5c66574b1afe234f3c90d   \n",
       "3          GBR  /funding-round/fd4b15e8c97ee2ffc0acccdbe1a98810   \n",
       "4          USA  /funding-round/452a2342fe720285c3b92e9bd927d9ba   \n",
       "\n",
       "  funding_round_type   funded_at  raised_amount_usd  Automotive & Sports  \\\n",
       "0            venture  05-01-2015         10000000.0                    0   \n",
       "1            venture  06-10-2015         15000000.0                    0   \n",
       "2            venture  07-05-2013          5800000.0                    0   \n",
       "3            venture  26-03-2014         18000000.0                    0   \n",
       "4            venture  06-08-2014          5000000.0                    0   \n",
       "\n",
       "   Blanks  Cleantech / Semiconductors  Entertainment  Health  Manufacturing  \\\n",
       "0       0                           0              1       0              0   \n",
       "1       0                           0              1       0              0   \n",
       "2       0                           0              1       0              0   \n",
       "3       0                           0              1       0              0   \n",
       "4       0                           0              1       0              0   \n",
       "\n",
       "   News, Search and Messaging  Others  Social, Finance, Analytics, Advertising  \n",
       "0                           0       0                                        0  \n",
       "1                           0       0                                        0  \n",
       "2                           0       0                                        0  \n",
       "3                           0       0                                        0  \n",
       "4                           0       0                                        0  "
      ]
     },
     "execution_count": 68,
     "metadata": {},
     "output_type": "execute_result"
    }
   ],
   "source": [
    "df.head()"
   ]
  },
  {
   "attachments": {},
   "cell_type": "markdown",
   "id": "78a9546d",
   "metadata": {},
   "source": [
    "    The merging resulted in a wide format for the sectors\n",
    "    \n",
    "    We can use pd.melt function to convert them into long format  \n",
    "    Now for that we need the sectors from the mapping file as value_vars\n",
    "    and rest of the columns as id_vars\n",
    "    \n",
    "    Keep the values column obtained thus, where values are 1\n",
    "    Convert the variable column to sector\n",
    "    check the shape of the dataframe again"
   ]
  },
  {
   "cell_type": "code",
   "execution_count": 69,
   "id": "24294227",
   "metadata": {},
   "outputs": [
    {
     "name": "stdout",
     "output_type": "stream",
     "text": [
      "['Automotive & Sports', 'Blanks', 'Cleantech / Semiconductors', 'Entertainment', 'Health', 'Manufacturing', 'News, Search and Messaging', 'Others', 'Social, Finance, Analytics, Advertising']\n",
      "----------------------------------------\n",
      "['permalink', 'name', 'category_list', 'status', 'country_code', 'funding_round_permalink', 'funding_round_type', 'funded_at', 'raised_amount_usd']\n"
     ]
    }
   ],
   "source": [
    "#setting value vars and id_vars\n",
    "value_vars = list(mapping.drop(columns = ['category_list'], axis =1).columns)\n",
    "id_vars = list(df.drop(columns = value_vars, axis = 1).columns)\n",
    "print(value_vars)\n",
    "print('--'*20)\n",
    "print(id_vars)"
   ]
  },
  {
   "cell_type": "code",
   "execution_count": 70,
   "id": "4c9c289b",
   "metadata": {},
   "outputs": [],
   "source": [
    "long_df = pd.melt(frame = df, id_vars = id_vars, value_vars = value_vars)"
   ]
  },
  {
   "cell_type": "code",
   "execution_count": 71,
   "id": "e9d07468",
   "metadata": {},
   "outputs": [
    {
     "data": {
      "text/html": [
       "<div>\n",
       "<style scoped>\n",
       "    .dataframe tbody tr th:only-of-type {\n",
       "        vertical-align: middle;\n",
       "    }\n",
       "\n",
       "    .dataframe tbody tr th {\n",
       "        vertical-align: top;\n",
       "    }\n",
       "\n",
       "    .dataframe thead th {\n",
       "        text-align: right;\n",
       "    }\n",
       "</style>\n",
       "<table border=\"1\" class=\"dataframe\">\n",
       "  <thead>\n",
       "    <tr style=\"text-align: right;\">\n",
       "      <th></th>\n",
       "      <th>permalink</th>\n",
       "      <th>name</th>\n",
       "      <th>category_list</th>\n",
       "      <th>status</th>\n",
       "      <th>country_code</th>\n",
       "      <th>funding_round_permalink</th>\n",
       "      <th>funding_round_type</th>\n",
       "      <th>funded_at</th>\n",
       "      <th>raised_amount_usd</th>\n",
       "      <th>variable</th>\n",
       "      <th>value</th>\n",
       "    </tr>\n",
       "  </thead>\n",
       "  <tbody>\n",
       "    <tr>\n",
       "      <th>0</th>\n",
       "      <td>/organization/-fame</td>\n",
       "      <td>#fame</td>\n",
       "      <td>media</td>\n",
       "      <td>operating</td>\n",
       "      <td>IND</td>\n",
       "      <td>/funding-round/9a01d05418af9f794eebff7ace91f638</td>\n",
       "      <td>venture</td>\n",
       "      <td>05-01-2015</td>\n",
       "      <td>10000000.0</td>\n",
       "      <td>Automotive &amp; Sports</td>\n",
       "      <td>0</td>\n",
       "    </tr>\n",
       "    <tr>\n",
       "      <th>1</th>\n",
       "      <td>/organization/90min</td>\n",
       "      <td>90min</td>\n",
       "      <td>media</td>\n",
       "      <td>operating</td>\n",
       "      <td>GBR</td>\n",
       "      <td>/funding-round/21a2cbf6f2fb2a1c2a61e04bf930dfe6</td>\n",
       "      <td>venture</td>\n",
       "      <td>06-10-2015</td>\n",
       "      <td>15000000.0</td>\n",
       "      <td>Automotive &amp; Sports</td>\n",
       "      <td>0</td>\n",
       "    </tr>\n",
       "    <tr>\n",
       "      <th>2</th>\n",
       "      <td>/organization/90min</td>\n",
       "      <td>90min</td>\n",
       "      <td>media</td>\n",
       "      <td>operating</td>\n",
       "      <td>GBR</td>\n",
       "      <td>/funding-round/bd626ed022f5c66574b1afe234f3c90d</td>\n",
       "      <td>venture</td>\n",
       "      <td>07-05-2013</td>\n",
       "      <td>5800000.0</td>\n",
       "      <td>Automotive &amp; Sports</td>\n",
       "      <td>0</td>\n",
       "    </tr>\n",
       "    <tr>\n",
       "      <th>3</th>\n",
       "      <td>/organization/90min</td>\n",
       "      <td>90min</td>\n",
       "      <td>media</td>\n",
       "      <td>operating</td>\n",
       "      <td>GBR</td>\n",
       "      <td>/funding-round/fd4b15e8c97ee2ffc0acccdbe1a98810</td>\n",
       "      <td>venture</td>\n",
       "      <td>26-03-2014</td>\n",
       "      <td>18000000.0</td>\n",
       "      <td>Automotive &amp; Sports</td>\n",
       "      <td>0</td>\n",
       "    </tr>\n",
       "    <tr>\n",
       "      <th>4</th>\n",
       "      <td>/organization/all-def-digital</td>\n",
       "      <td>All Def Digital</td>\n",
       "      <td>media</td>\n",
       "      <td>operating</td>\n",
       "      <td>USA</td>\n",
       "      <td>/funding-round/452a2342fe720285c3b92e9bd927d9ba</td>\n",
       "      <td>venture</td>\n",
       "      <td>06-08-2014</td>\n",
       "      <td>5000000.0</td>\n",
       "      <td>Automotive &amp; Sports</td>\n",
       "      <td>0</td>\n",
       "    </tr>\n",
       "  </tbody>\n",
       "</table>\n",
       "</div>"
      ],
      "text/plain": [
       "                       permalink             name category_list     status  \\\n",
       "0            /organization/-fame            #fame         media  operating   \n",
       "1            /organization/90min            90min         media  operating   \n",
       "2            /organization/90min            90min         media  operating   \n",
       "3            /organization/90min            90min         media  operating   \n",
       "4  /organization/all-def-digital  All Def Digital         media  operating   \n",
       "\n",
       "  country_code                          funding_round_permalink  \\\n",
       "0          IND  /funding-round/9a01d05418af9f794eebff7ace91f638   \n",
       "1          GBR  /funding-round/21a2cbf6f2fb2a1c2a61e04bf930dfe6   \n",
       "2          GBR  /funding-round/bd626ed022f5c66574b1afe234f3c90d   \n",
       "3          GBR  /funding-round/fd4b15e8c97ee2ffc0acccdbe1a98810   \n",
       "4          USA  /funding-round/452a2342fe720285c3b92e9bd927d9ba   \n",
       "\n",
       "  funding_round_type   funded_at  raised_amount_usd             variable  \\\n",
       "0            venture  05-01-2015         10000000.0  Automotive & Sports   \n",
       "1            venture  06-10-2015         15000000.0  Automotive & Sports   \n",
       "2            venture  07-05-2013          5800000.0  Automotive & Sports   \n",
       "3            venture  26-03-2014         18000000.0  Automotive & Sports   \n",
       "4            venture  06-08-2014          5000000.0  Automotive & Sports   \n",
       "\n",
       "   value  \n",
       "0      0  \n",
       "1      0  \n",
       "2      0  \n",
       "3      0  \n",
       "4      0  "
      ]
     },
     "execution_count": 71,
     "metadata": {},
     "output_type": "execute_result"
    }
   ],
   "source": [
    "long_df.head()"
   ]
  },
  {
   "cell_type": "code",
   "execution_count": 72,
   "id": "e89b87d5",
   "metadata": {},
   "outputs": [
    {
     "data": {
      "text/plain": [
       "(360369, 11)"
      ]
     },
     "execution_count": 72,
     "metadata": {},
     "output_type": "execute_result"
    }
   ],
   "source": [
    "long_df.shape"
   ]
  },
  {
   "cell_type": "code",
   "execution_count": 73,
   "id": "6d0b3420",
   "metadata": {},
   "outputs": [
    {
     "data": {
      "text/plain": [
       "(40041, 10)"
      ]
     },
     "execution_count": 73,
     "metadata": {},
     "output_type": "execute_result"
    }
   ],
   "source": [
    "#dropping where values are 0 and dropping the value column\n",
    "long_df = long_df[long_df.value == 1]\n",
    "long_df = long_df.drop(columns = ['value'], axis =1)\n",
    "long_df.shape"
   ]
  },
  {
   "cell_type": "code",
   "execution_count": 74,
   "id": "a872f74d",
   "metadata": {},
   "outputs": [],
   "source": [
    "#renaming the variable column to sector\n",
    "long_df = long_df.rename(columns = {'variable' : 'sector'})"
   ]
  },
  {
   "attachments": {},
   "cell_type": "markdown",
   "id": "0dda24ce",
   "metadata": {},
   "source": [
    "    We have succesfully managed to convert to long format as the shape is same as our original df.\n",
    "    We also have set a new column called sector where we can do our final analysis.\n",
    "    \n",
    "    Now our only job left is to find the companies where the range of investment is in the range of \n",
    "    5 - 15 MM USD"
   ]
  },
  {
   "cell_type": "code",
   "execution_count": 75,
   "id": "d978907b",
   "metadata": {},
   "outputs": [
    {
     "data": {
      "text/html": [
       "<div>\n",
       "<style scoped>\n",
       "    .dataframe tbody tr th:only-of-type {\n",
       "        vertical-align: middle;\n",
       "    }\n",
       "\n",
       "    .dataframe tbody tr th {\n",
       "        vertical-align: top;\n",
       "    }\n",
       "\n",
       "    .dataframe thead th {\n",
       "        text-align: right;\n",
       "    }\n",
       "</style>\n",
       "<table border=\"1\" class=\"dataframe\">\n",
       "  <thead>\n",
       "    <tr style=\"text-align: right;\">\n",
       "      <th></th>\n",
       "      <th>permalink</th>\n",
       "      <th>name</th>\n",
       "      <th>category_list</th>\n",
       "      <th>status</th>\n",
       "      <th>country_code</th>\n",
       "      <th>funding_round_permalink</th>\n",
       "      <th>funding_round_type</th>\n",
       "      <th>funded_at</th>\n",
       "      <th>raised_amount_usd</th>\n",
       "      <th>sector</th>\n",
       "    </tr>\n",
       "  </thead>\n",
       "  <tbody>\n",
       "    <tr>\n",
       "      <th>26612</th>\n",
       "      <td>/organization/3d-robotics</td>\n",
       "      <td>3D Robotics</td>\n",
       "      <td>drones</td>\n",
       "      <td>operating</td>\n",
       "      <td>USA</td>\n",
       "      <td>/funding-round/2785595770e91ab8fd4854ef125ec563</td>\n",
       "      <td>venture</td>\n",
       "      <td>05-11-2012</td>\n",
       "      <td>5000000.0</td>\n",
       "      <td>Automotive &amp; Sports</td>\n",
       "    </tr>\n",
       "    <tr>\n",
       "      <th>26613</th>\n",
       "      <td>/organization/3d-robotics</td>\n",
       "      <td>3D Robotics</td>\n",
       "      <td>drones</td>\n",
       "      <td>operating</td>\n",
       "      <td>USA</td>\n",
       "      <td>/funding-round/7ca0d4dc119b6d65eebfb352c3544542</td>\n",
       "      <td>venture</td>\n",
       "      <td>23-04-2015</td>\n",
       "      <td>14000000.0</td>\n",
       "      <td>Automotive &amp; Sports</td>\n",
       "    </tr>\n",
       "    <tr>\n",
       "      <th>26616</th>\n",
       "      <td>/organization/cape-productions</td>\n",
       "      <td>Cape Productions</td>\n",
       "      <td>drones</td>\n",
       "      <td>operating</td>\n",
       "      <td>USA</td>\n",
       "      <td>/funding-round/156e4fbce54aca39a8be9a1a2fa1fb77</td>\n",
       "      <td>venture</td>\n",
       "      <td>13-10-2015</td>\n",
       "      <td>10000000.0</td>\n",
       "      <td>Automotive &amp; Sports</td>\n",
       "    </tr>\n",
       "    <tr>\n",
       "      <th>26617</th>\n",
       "      <td>/organization/dronedeploy</td>\n",
       "      <td>DroneDeploy</td>\n",
       "      <td>drones</td>\n",
       "      <td>operating</td>\n",
       "      <td>USA</td>\n",
       "      <td>/funding-round/bdf644f3fa66533c048719bf0d000893</td>\n",
       "      <td>venture</td>\n",
       "      <td>31-03-2015</td>\n",
       "      <td>9000000.0</td>\n",
       "      <td>Automotive &amp; Sports</td>\n",
       "    </tr>\n",
       "    <tr>\n",
       "      <th>26620</th>\n",
       "      <td>/organization/ehang</td>\n",
       "      <td>Ehang</td>\n",
       "      <td>drones</td>\n",
       "      <td>operating</td>\n",
       "      <td>USA</td>\n",
       "      <td>/funding-round/cf1321bcd5745aade7e99eedaaa26ded</td>\n",
       "      <td>venture</td>\n",
       "      <td>30-12-2014</td>\n",
       "      <td>10000000.0</td>\n",
       "      <td>Automotive &amp; Sports</td>\n",
       "    </tr>\n",
       "  </tbody>\n",
       "</table>\n",
       "</div>"
      ],
      "text/plain": [
       "                            permalink              name category_list  \\\n",
       "26612       /organization/3d-robotics       3D Robotics        drones   \n",
       "26613       /organization/3d-robotics       3D Robotics        drones   \n",
       "26616  /organization/cape-productions  Cape Productions        drones   \n",
       "26617       /organization/dronedeploy       DroneDeploy        drones   \n",
       "26620             /organization/ehang             Ehang        drones   \n",
       "\n",
       "          status country_code  \\\n",
       "26612  operating          USA   \n",
       "26613  operating          USA   \n",
       "26616  operating          USA   \n",
       "26617  operating          USA   \n",
       "26620  operating          USA   \n",
       "\n",
       "                               funding_round_permalink funding_round_type  \\\n",
       "26612  /funding-round/2785595770e91ab8fd4854ef125ec563            venture   \n",
       "26613  /funding-round/7ca0d4dc119b6d65eebfb352c3544542            venture   \n",
       "26616  /funding-round/156e4fbce54aca39a8be9a1a2fa1fb77            venture   \n",
       "26617  /funding-round/bdf644f3fa66533c048719bf0d000893            venture   \n",
       "26620  /funding-round/cf1321bcd5745aade7e99eedaaa26ded            venture   \n",
       "\n",
       "        funded_at  raised_amount_usd               sector  \n",
       "26612  05-11-2012          5000000.0  Automotive & Sports  \n",
       "26613  23-04-2015         14000000.0  Automotive & Sports  \n",
       "26616  13-10-2015         10000000.0  Automotive & Sports  \n",
       "26617  31-03-2015          9000000.0  Automotive & Sports  \n",
       "26620  30-12-2014         10000000.0  Automotive & Sports  "
      ]
     },
     "execution_count": 75,
     "metadata": {},
     "output_type": "execute_result"
    }
   ],
   "source": [
    "#changing the final df\n",
    "df = long_df[(long_df.raised_amount_usd >= 5000000) & (long_df.raised_amount_usd <= 15000000)]\n",
    "df.head()"
   ]
  },
  {
   "attachments": {},
   "cell_type": "markdown",
   "id": "1a7013dc",
   "metadata": {},
   "source": [
    "### Some final statistical analysis\n"
   ]
  },
  {
   "cell_type": "code",
   "execution_count": 76,
   "id": "5c83c07e",
   "metadata": {},
   "outputs": [],
   "source": [
    "sector_wise_df = df.groupby(['country_code', 'sector']).raised_amount_usd.agg(['sum', 'mean', \n",
    "                                                                              'median', 'count'])"
   ]
  },
  {
   "cell_type": "code",
   "execution_count": 82,
   "id": "0adb581e",
   "metadata": {},
   "outputs": [
    {
     "name": "stdout",
     "output_type": "stream",
     "text": [
      "                                                               sum  \\\n",
      "country_code sector                                                  \n",
      "CAN          Automotive & Sports                      1.500000e+07   \n",
      "             Cleantech / Semiconductors               1.015888e+09   \n",
      "             Entertainment                            1.600221e+08   \n",
      "             Health                                   1.683451e+08   \n",
      "             Manufacturing                            2.376331e+08   \n",
      "             News, Search and Messaging               4.201211e+08   \n",
      "             Others                                   9.261380e+08   \n",
      "             Social, Finance, Analytics, Advertising  6.561431e+08   \n",
      "GBR          Automotive & Sports                      1.670516e+08   \n",
      "             Cleantech / Semiconductors               1.163990e+09   \n",
      "             Entertainment                            4.827847e+08   \n",
      "             Health                                   2.145375e+08   \n",
      "             Manufacturing                            3.619403e+08   \n",
      "             News, Search and Messaging               6.157462e+08   \n",
      "             Others                                   1.283624e+09   \n",
      "             Social, Finance, Analytics, Advertising  1.089404e+09   \n",
      "IND          Automotive & Sports                      1.369000e+08   \n",
      "             Cleantech / Semiconductors               1.653800e+08   \n",
      "             Entertainment                            2.808300e+08   \n",
      "             Health                                   1.677400e+08   \n",
      "             Manufacturing                            2.009000e+08   \n",
      "             News, Search and Messaging               4.338345e+08   \n",
      "             Others                                   1.013410e+09   \n",
      "             Social, Finance, Analytics, Advertising  5.505496e+08   \n",
      "USA          Automotive & Sports                      1.454104e+09   \n",
      "             Cleantech / Semiconductors               2.164292e+10   \n",
      "             Entertainment                            5.099198e+09   \n",
      "             Health                                   8.211859e+09   \n",
      "             Manufacturing                            7.258553e+09   \n",
      "             News, Search and Messaging               1.397157e+10   \n",
      "             Others                                   2.632101e+10   \n",
      "             Social, Finance, Analytics, Advertising  2.380738e+10   \n",
      "\n",
      "                                                              mean  \\\n",
      "country_code sector                                                  \n",
      "CAN          Automotive & Sports                      7.500000e+06   \n",
      "             Cleantech / Semiconductors               9.070425e+06   \n",
      "             Entertainment                            6.957481e+06   \n",
      "             Health                                   8.016432e+06   \n",
      "             Manufacturing                            7.665583e+06   \n",
      "             News, Search and Messaging               9.133068e+06   \n",
      "             Others                                   8.496679e+06   \n",
      "             Social, Finance, Analytics, Advertising  8.412091e+06   \n",
      "GBR          Automotive & Sports                      1.044072e+07   \n",
      "             Cleantech / Semiconductors               8.953770e+06   \n",
      "             Entertainment                            8.621155e+06   \n",
      "             Health                                   8.939063e+06   \n",
      "             Manufacturing                            8.617627e+06   \n",
      "             News, Search and Messaging               8.434880e+06   \n",
      "             Others                                   8.732138e+06   \n",
      "             Social, Finance, Analytics, Advertising  8.191008e+06   \n",
      "IND          Automotive & Sports                      1.053077e+07   \n",
      "             Cleantech / Semiconductors               8.269000e+06   \n",
      "             Entertainment                            8.510000e+06   \n",
      "             Health                                   8.828421e+06   \n",
      "             Manufacturing                            9.566667e+06   \n",
      "             News, Search and Messaging               8.342972e+06   \n",
      "             Others                                   9.212814e+06   \n",
      "             Social, Finance, Analytics, Advertising  9.175826e+06   \n",
      "USA          Automotive & Sports                      8.707212e+06   \n",
      "             Cleantech / Semiconductors               9.205835e+06   \n",
      "             Entertainment                            8.628085e+06   \n",
      "             Health                                   9.033949e+06   \n",
      "             Manufacturing                            9.084547e+06   \n",
      "             News, Search and Messaging               8.826006e+06   \n",
      "             Others                                   8.922375e+06   \n",
      "             Social, Finance, Analytics, Advertising  8.772062e+06   \n",
      "\n",
      "                                                          median  count  \n",
      "country_code sector                                                      \n",
      "CAN          Automotive & Sports                       7500000.0      2  \n",
      "             Cleantech / Semiconductors                8600000.0    112  \n",
      "             Entertainment                             5960000.0     23  \n",
      "             Health                                    7057847.0     21  \n",
      "             Manufacturing                             7000000.0     31  \n",
      "             News, Search and Messaging                8685000.0     46  \n",
      "             Others                                    8000000.0    109  \n",
      "             Social, Finance, Analytics, Advertising   7500000.0     78  \n",
      "GBR          Automotive & Sports                      10945000.0     16  \n",
      "             Cleantech / Semiconductors                8342136.5    130  \n",
      "             Entertainment                             8502954.0     56  \n",
      "             Health                                    7846072.5     24  \n",
      "             Manufacturing                             7965208.0     42  \n",
      "             News, Search and Messaging                7520000.0     73  \n",
      "             Others                                    8000000.0    147  \n",
      "             Social, Finance, Analytics, Advertising   7719600.0    133  \n",
      "IND          Automotive & Sports                      11000000.0     13  \n",
      "             Cleantech / Semiconductors                8000000.0     20  \n",
      "             Entertainment                             8000000.0     33  \n",
      "             Health                                    9000000.0     19  \n",
      "             Manufacturing                            10000000.0     21  \n",
      "             News, Search and Messaging                8000000.0     52  \n",
      "             Others                                    9000000.0    110  \n",
      "             Social, Finance, Analytics, Advertising   8178025.0     60  \n",
      "USA          Automotive & Sports                       8181488.0    167  \n",
      "             Cleantech / Semiconductors                9000000.0   2351  \n",
      "             Entertainment                             8000000.0    591  \n",
      "             Health                                    8600000.0    909  \n",
      "             Manufacturing                             8800000.0    799  \n",
      "             News, Search and Messaging                8000000.0   1583  \n",
      "             Others                                    8250000.0   2950  \n",
      "             Social, Finance, Analytics, Advertising   8000000.0   2714  \n"
     ]
    }
   ],
   "source": [
    "sector_wise_df"
   ]
  },
  {
   "cell_type": "code",
   "execution_count": 78,
   "id": "958d8258",
   "metadata": {
    "scrolled": false
   },
   "outputs": [],
   "source": [
    "#sector_wise_df.to_csv('final_report.csv', index = True)"
   ]
  },
  {
   "cell_type": "code",
   "execution_count": 79,
   "id": "ea84416a",
   "metadata": {
    "scrolled": false
   },
   "outputs": [
    {
     "data": {
      "text/plain": [
       "Text(0.5, 1.0, 'Total Invested Amount (USD)')"
      ]
     },
     "execution_count": 79,
     "metadata": {},
     "output_type": "execute_result"
    },
    {
     "data": {
      "image/png": "[encoded data removed]",
      "text/plain": [
       "<Figure size 1000x800 with 1 Axes>"
      ]
     },
     "metadata": {},
     "output_type": "display_data"
    }
   ],
   "source": [
    "plt.figure(figsize = (10,8))\n",
    "sns.barplot(x='sector', y='raised_amount_usd', hue='country_code', data=df, estimator=np.sum)\n",
    "plt.yscale('log')\n",
    "plt.xticks(rotation = 90)\n",
    "plt.grid()\n",
    "plt.title('Total Invested Amount (USD)')"
   ]
  },
  {
   "cell_type": "code",
   "execution_count": 80,
   "id": "97b8c8ee",
   "metadata": {},
   "outputs": [
    {
     "data": {
      "text/plain": [
       "Text(0.5, 1.0, 'Number of Investments')"
      ]
     },
     "execution_count": 80,
     "metadata": {},
     "output_type": "execute_result"
    },
    {
     "data": {
      "image/png": "[encoded data removed]",
      "text/plain": [
       "<Figure size 1000x800 with 1 Axes>"
      ]
     },
     "metadata": {},
     "output_type": "display_data"
    }
   ],
   "source": [
    "plt.figure(figsize = (10,8))\n",
    "sns.countplot(x='sector', hue='country_code', data=df)\n",
    "plt.xticks(rotation = 90)\n",
    "plt.yscale('log')\n",
    "plt.grid()\n",
    "plt.title('Number of Investments')"
   ]
  },
  {
   "cell_type": "code",
   "execution_count": 81,
   "id": "be41a007",
   "metadata": {},
   "outputs": [
    {
     "data": {
      "image/png": "[encoded data removed]",
      "text/plain": [
       "<Figure size 1000x800 with 1 Axes>"
      ]
     },
     "metadata": {},
     "output_type": "display_data"
    }
   ],
   "source": [
    "plt.figure(figsize = (10,8))\n",
    "sns.barplot(x='sector', y='raised_amount_usd', hue='country_code', data=df, estimator=np.median)\n",
    "plt.xticks(rotation = 90)\n",
    "plt.grid()\n",
    "plt.title('Median investment')\n",
    "plt.show()"
   ]
  },
  {
   "attachments": {},
   "cell_type": "markdown",
   "id": "f1389b6e",
   "metadata": {},
   "source": [
    "    1. In CAN highest amount is invested in cleantech/semiconductores followed by others.\n",
    "       With median investment of 9.07 MM USD and 8.5 MM USD respectively.\n",
    "       Total companies are 112 and 109 respectively\n",
    "       \n",
    "    2. In GBR highest amount invested is in others followed by cleantech/semiconductors.\n",
    "       Median investment is about 8.73 and 8.95 MM USD respectively.\n",
    "       Total companies are 147 and 130 respectively.\n",
    "    \n",
    "    3. In IND most investments are in others category followed by Social, Finance, Analytics, Advertising.\n",
    "       Median investment of 9.21 and 9.18 MM USD respectively.\n",
    "       Total companies are 110 and 60 respectively.\n",
    "    \n",
    "    4. USA is the leading hub for companies and investments. \n",
    "       With Others leading followed by Social, Finance, Analytics, Advertising.\n",
    "       Median investment are 8.92 and 8.77 MM USD respectively.\n",
    "       Total companies count is also very high with 2950 and 2714 respectively\n",
    "    \n",
    "#### Note. All these investments are of English speaking countries with venture type funding between 5 to 15 MM USD of investments each.\n",
    "    \n",
    "    \n",
    "  \n",
    "       "
   ]
  }
 ],
 "metadata": {
  "kernelspec": {
   "display_name": "Python 3 (ipykernel)",
   "language": "python",
   "name": "python3"
  },
  "language_info": {
   "codemirror_mode": {
    "name": "ipython",
    "version": 3
   },
   "file_extension": ".py",
   "mimetype": "text/x-python",
   "name": "python",
   "nbconvert_exporter": "python",
   "pygments_lexer": "ipython3",
   "version": "3.11.3"
  }
 },
 "nbformat": 4,
 "nbformat_minor": 5
}
