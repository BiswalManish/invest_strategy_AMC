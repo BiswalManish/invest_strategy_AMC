{
 "cells": [
  {
   "attachments": {},
   "cell_type": "markdown",
   "id": "984e640f",
   "metadata": {},
   "source": [
    "# Part 2: Data cleaning\n",
    "\n",
    "    > We have cleaned the files now we have to treat the missing values we found in rest of the columns.\n",
    "    > This time we will import from the cleaned csv files"
   ]
  },
  {
   "cell_type": "code",
   "execution_count": 1,
   "id": "45e41476",
   "metadata": {},
   "outputs": [],
   "source": [
    "import numpy as np\n",
    "import pandas as pd\n",
    "\n",
    "import warnings\n",
    "warnings.filterwarnings('ignore')"
   ]
  },
  {
   "cell_type": "code",
   "execution_count": 2,
   "id": "1a1781ff",
   "metadata": {},
   "outputs": [],
   "source": [
    "#creating paths\n",
    "\n",
    "rounds_path = '/Users/manish/Documents/Projects/data_science/investment_strategy/data/clean_data/rounds2_clean.csv' \n",
    "companies_path = '/Users/manish/Documents/Projects/data_science/investment_strategy/data/clean_data/companies_clean.csv'\n"
   ]
  },
  {
   "cell_type": "code",
   "execution_count": 3,
   "id": "0f636488",
   "metadata": {},
   "outputs": [],
   "source": [
    "#creating dataframes\n",
    "rounds = pd.read_csv(rounds_path)\n",
    "companies = pd.read_csv(companies_path)\n"
   ]
  },
  {
   "cell_type": "code",
   "execution_count": 4,
   "id": "57afbcaa",
   "metadata": {},
   "outputs": [
    {
     "name": "stdout",
     "output_type": "stream",
     "text": [
      "rounds 66368\n",
      "companies 66368\n"
     ]
    }
   ],
   "source": [
    "#verifying the permalink columns unique entries in both the columns\n",
    "\n",
    "print('rounds', len(rounds.company_permalink.unique()))\n",
    "print('companies', len(companies.permalink.unique()))"
   ]
  },
  {
   "attachments": {},
   "cell_type": "markdown",
   "id": "cd120304",
   "metadata": {},
   "source": [
    "    > It seems to be working correctly.\n",
    "    > Now our job is missing value treatments "
   ]
  },
  {
   "attachments": {},
   "cell_type": "markdown",
   "id": "f91eaf60",
   "metadata": {},
   "source": [
    "# Missing value treatment"
   ]
  },
  {
   "cell_type": "code",
   "execution_count": 5,
   "id": "098af681",
   "metadata": {},
   "outputs": [
    {
     "name": "stdout",
     "output_type": "stream",
     "text": [
      "company_permalink              0\n",
      "funding_round_permalink        0\n",
      "funding_round_type             0\n",
      "funding_round_code         83809\n",
      "funded_at                      0\n",
      "raised_amount_usd          19990\n",
      "dtype: int64\n",
      "----------------------------------------\n",
      "permalink            0\n",
      "name                 1\n",
      "homepage_url      5058\n",
      "category_list     3148\n",
      "status               0\n",
      "country_code      6958\n",
      "state_code        8547\n",
      "region            8030\n",
      "city              8028\n",
      "founded_at       15221\n",
      "dtype: int64\n"
     ]
    }
   ],
   "source": [
    "#checking missing values in bothe dataframes\n",
    "\n",
    "print(rounds.isnull().sum())\n",
    "print('--'*20)\n",
    "print(companies.isnull().sum())"
   ]
  },
  {
   "attachments": {},
   "cell_type": "markdown",
   "id": "5b8a7369",
   "metadata": {},
   "source": [
    "    > lets create a master data frame for ease of analysis\n",
    "    > we can use pd.merge to merge on company_permalink column\n",
    "    > after merging we can drop any one of the permalink column as they are redundant"
   ]
  },
  {
   "cell_type": "code",
   "execution_count": 6,
   "id": "7d3b29be",
   "metadata": {},
   "outputs": [
    {
     "data": {
      "text/html": [
       "<div>\n",
       "<style scoped>\n",
       "    .dataframe tbody tr th:only-of-type {\n",
       "        vertical-align: middle;\n",
       "    }\n",
       "\n",
       "    .dataframe tbody tr th {\n",
       "        vertical-align: top;\n",
       "    }\n",
       "\n",
       "    .dataframe thead th {\n",
       "        text-align: right;\n",
       "    }\n",
       "</style>\n",
       "<table border=\"1\" class=\"dataframe\">\n",
       "  <thead>\n",
       "    <tr style=\"text-align: right;\">\n",
       "      <th></th>\n",
       "      <th>permalink</th>\n",
       "      <th>name</th>\n",
       "      <th>homepage_url</th>\n",
       "      <th>category_list</th>\n",
       "      <th>status</th>\n",
       "      <th>country_code</th>\n",
       "      <th>state_code</th>\n",
       "      <th>region</th>\n",
       "      <th>city</th>\n",
       "      <th>founded_at</th>\n",
       "      <th>funding_round_permalink</th>\n",
       "      <th>funding_round_type</th>\n",
       "      <th>funding_round_code</th>\n",
       "      <th>funded_at</th>\n",
       "      <th>raised_amount_usd</th>\n",
       "    </tr>\n",
       "  </thead>\n",
       "  <tbody>\n",
       "    <tr>\n",
       "      <th>0</th>\n",
       "      <td>/organization/-fame</td>\n",
       "      <td>#fame</td>\n",
       "      <td>http://livfame.com</td>\n",
       "      <td>Media</td>\n",
       "      <td>operating</td>\n",
       "      <td>IND</td>\n",
       "      <td>16</td>\n",
       "      <td>Mumbai</td>\n",
       "      <td>Mumbai</td>\n",
       "      <td>NaN</td>\n",
       "      <td>/funding-round/9a01d05418af9f794eebff7ace91f638</td>\n",
       "      <td>venture</td>\n",
       "      <td>B</td>\n",
       "      <td>05-01-2015</td>\n",
       "      <td>10000000.0</td>\n",
       "    </tr>\n",
       "    <tr>\n",
       "      <th>1</th>\n",
       "      <td>/organization/-qounter</td>\n",
       "      <td>:Qounter</td>\n",
       "      <td>http://www.qounter.com</td>\n",
       "      <td>Application Platforms|Real Time|Social Network...</td>\n",
       "      <td>operating</td>\n",
       "      <td>USA</td>\n",
       "      <td>DE</td>\n",
       "      <td>DE - Other</td>\n",
       "      <td>Delaware City</td>\n",
       "      <td>04-09-2014</td>\n",
       "      <td>/funding-round/22dacff496eb7acb2b901dec1dfe5633</td>\n",
       "      <td>venture</td>\n",
       "      <td>A</td>\n",
       "      <td>14-10-2014</td>\n",
       "      <td>NaN</td>\n",
       "    </tr>\n",
       "    <tr>\n",
       "      <th>2</th>\n",
       "      <td>/organization/-qounter</td>\n",
       "      <td>:Qounter</td>\n",
       "      <td>http://www.qounter.com</td>\n",
       "      <td>Application Platforms|Real Time|Social Network...</td>\n",
       "      <td>operating</td>\n",
       "      <td>USA</td>\n",
       "      <td>DE</td>\n",
       "      <td>DE - Other</td>\n",
       "      <td>Delaware City</td>\n",
       "      <td>04-09-2014</td>\n",
       "      <td>/funding-round/b44fbb94153f6cdef13083530bb48030</td>\n",
       "      <td>seed</td>\n",
       "      <td>NaN</td>\n",
       "      <td>01-03-2014</td>\n",
       "      <td>700000.0</td>\n",
       "    </tr>\n",
       "    <tr>\n",
       "      <th>3</th>\n",
       "      <td>/organization/-the-one-of-them-inc-</td>\n",
       "      <td>(THE) ONE of THEM,Inc.</td>\n",
       "      <td>http://oneofthem.jp</td>\n",
       "      <td>Apps|Games|Mobile</td>\n",
       "      <td>operating</td>\n",
       "      <td>NaN</td>\n",
       "      <td>NaN</td>\n",
       "      <td>NaN</td>\n",
       "      <td>NaN</td>\n",
       "      <td>NaN</td>\n",
       "      <td>/funding-round/650b8f704416801069bb178a1418776b</td>\n",
       "      <td>venture</td>\n",
       "      <td>B</td>\n",
       "      <td>30-01-2014</td>\n",
       "      <td>3406878.0</td>\n",
       "    </tr>\n",
       "    <tr>\n",
       "      <th>4</th>\n",
       "      <td>/organization/0-6-com</td>\n",
       "      <td>0-6.com</td>\n",
       "      <td>http://www.0-6.com</td>\n",
       "      <td>Curated Web</td>\n",
       "      <td>operating</td>\n",
       "      <td>CHN</td>\n",
       "      <td>22</td>\n",
       "      <td>Beijing</td>\n",
       "      <td>Beijing</td>\n",
       "      <td>01-01-2007</td>\n",
       "      <td>/funding-round/5727accaeaa57461bd22a9bdd945382d</td>\n",
       "      <td>venture</td>\n",
       "      <td>A</td>\n",
       "      <td>19-03-2008</td>\n",
       "      <td>2000000.0</td>\n",
       "    </tr>\n",
       "  </tbody>\n",
       "</table>\n",
       "</div>"
      ],
      "text/plain": [
       "                             permalink                    name  \\\n",
       "0                  /organization/-fame                   #fame   \n",
       "1               /organization/-qounter                :Qounter   \n",
       "2               /organization/-qounter                :Qounter   \n",
       "3  /organization/-the-one-of-them-inc-  (THE) ONE of THEM,Inc.   \n",
       "4                /organization/0-6-com                 0-6.com   \n",
       "\n",
       "             homepage_url                                      category_list  \\\n",
       "0      http://livfame.com                                              Media   \n",
       "1  http://www.qounter.com  Application Platforms|Real Time|Social Network...   \n",
       "2  http://www.qounter.com  Application Platforms|Real Time|Social Network...   \n",
       "3     http://oneofthem.jp                                  Apps|Games|Mobile   \n",
       "4      http://www.0-6.com                                        Curated Web   \n",
       "\n",
       "      status country_code state_code      region           city  founded_at  \\\n",
       "0  operating          IND         16      Mumbai         Mumbai         NaN   \n",
       "1  operating          USA         DE  DE - Other  Delaware City  04-09-2014   \n",
       "2  operating          USA         DE  DE - Other  Delaware City  04-09-2014   \n",
       "3  operating          NaN        NaN         NaN            NaN         NaN   \n",
       "4  operating          CHN         22     Beijing        Beijing  01-01-2007   \n",
       "\n",
       "                           funding_round_permalink funding_round_type  \\\n",
       "0  /funding-round/9a01d05418af9f794eebff7ace91f638            venture   \n",
       "1  /funding-round/22dacff496eb7acb2b901dec1dfe5633            venture   \n",
       "2  /funding-round/b44fbb94153f6cdef13083530bb48030               seed   \n",
       "3  /funding-round/650b8f704416801069bb178a1418776b            venture   \n",
       "4  /funding-round/5727accaeaa57461bd22a9bdd945382d            venture   \n",
       "\n",
       "  funding_round_code   funded_at  raised_amount_usd  \n",
       "0                  B  05-01-2015         10000000.0  \n",
       "1                  A  14-10-2014                NaN  \n",
       "2                NaN  01-03-2014           700000.0  \n",
       "3                  B  30-01-2014          3406878.0  \n",
       "4                  A  19-03-2008          2000000.0  "
      ]
     },
     "execution_count": 6,
     "metadata": {},
     "output_type": "execute_result"
    }
   ],
   "source": [
    "#merging the two files\n",
    "master = pd.merge(companies, rounds, how = 'inner',\n",
    "                  left_on = 'permalink', right_on = 'company_permalink')\n",
    "master = master.drop(columns = ['company_permalink'])\n",
    "master.head()"
   ]
  },
  {
   "cell_type": "code",
   "execution_count": 7,
   "id": "c6187dda",
   "metadata": {},
   "outputs": [
    {
     "name": "stdout",
     "output_type": "stream",
     "text": [
      "<class 'pandas.core.frame.DataFrame'>\n",
      "Int64Index: 114949 entries, 0 to 114948\n",
      "Data columns (total 15 columns):\n",
      " #   Column                   Non-Null Count   Dtype  \n",
      "---  ------                   --------------   -----  \n",
      " 0   permalink                114949 non-null  object \n",
      " 1   name                     114948 non-null  object \n",
      " 2   homepage_url             108815 non-null  object \n",
      " 3   category_list            111539 non-null  object \n",
      " 4   status                   114949 non-null  object \n",
      " 5   country_code             106271 non-null  object \n",
      " 6   state_code               104003 non-null  object \n",
      " 7   region                   104782 non-null  object \n",
      " 8   city                     104785 non-null  object \n",
      " 9   founded_at               94428 non-null   object \n",
      " 10  funding_round_permalink  114949 non-null  object \n",
      " 11  funding_round_type       114949 non-null  object \n",
      " 12  funding_round_code       31140 non-null   object \n",
      " 13  funded_at                114949 non-null  object \n",
      " 14  raised_amount_usd        94959 non-null   float64\n",
      "dtypes: float64(1), object(14)\n",
      "memory usage: 14.0+ MB\n"
     ]
    }
   ],
   "source": [
    "master.info()"
   ]
  },
  {
   "attachments": {},
   "cell_type": "markdown",
   "id": "b79ee0db",
   "metadata": {},
   "source": [
    "    > there we go we have succesfully merged the dataframes\n",
    "    > Also the company_permalink column has been dropped"
   ]
  },
  {
   "cell_type": "code",
   "execution_count": 8,
   "id": "caa960bd",
   "metadata": {},
   "outputs": [
    {
     "name": "stdout",
     "output_type": "stream",
     "text": [
      "permalink                      0\n",
      "name                           1\n",
      "homepage_url                6134\n",
      "category_list               3410\n",
      "status                         0\n",
      "country_code                8678\n",
      "state_code                 10946\n",
      "region                     10167\n",
      "city                       10164\n",
      "founded_at                 20521\n",
      "funding_round_permalink        0\n",
      "funding_round_type             0\n",
      "funding_round_code         83809\n",
      "funded_at                      0\n",
      "raised_amount_usd          19990\n",
      "dtype: int64\n"
     ]
    }
   ],
   "source": [
    "#missing entries in master df\n",
    "print(master.isnull().sum())"
   ]
  },
  {
   "cell_type": "code",
   "execution_count": 9,
   "id": "5e10e067",
   "metadata": {
    "scrolled": true
   },
   "outputs": [
    {
     "name": "stdout",
     "output_type": "stream",
     "text": [
      "permalink                   0.000000\n",
      "name                        0.000870\n",
      "homepage_url                5.336280\n",
      "category_list               2.966533\n",
      "status                      0.000000\n",
      "country_code                7.549435\n",
      "state_code                  9.522484\n",
      "region                      8.844792\n",
      "city                        8.842182\n",
      "founded_at                 17.852265\n",
      "funding_round_permalink     0.000000\n",
      "funding_round_type          0.000000\n",
      "funding_round_code         72.909725\n",
      "funded_at                   0.000000\n",
      "raised_amount_usd          17.390321\n",
      "dtype: float64\n"
     ]
    }
   ],
   "source": [
    "#percent of missing in each columns\n",
    "print(100*master.isnull().sum()/len(master.index))"
   ]
  },
  {
   "attachments": {},
   "cell_type": "markdown",
   "id": "4d7e1323",
   "metadata": {},
   "source": [
    "Clearly, the column ```funding_round_code``` is useless (with about 73% missing values). Also, for the business objectives given, the columns ```homepage_url```, ```founded_at```, ```state_code```, ```region``` and ```city``` need not be used."
   ]
  },
  {
   "cell_type": "code",
   "execution_count": 10,
   "id": "e67aa637",
   "metadata": {},
   "outputs": [
    {
     "data": {
      "text/html": [
       "<div>\n",
       "<style scoped>\n",
       "    .dataframe tbody tr th:only-of-type {\n",
       "        vertical-align: middle;\n",
       "    }\n",
       "\n",
       "    .dataframe tbody tr th {\n",
       "        vertical-align: top;\n",
       "    }\n",
       "\n",
       "    .dataframe thead th {\n",
       "        text-align: right;\n",
       "    }\n",
       "</style>\n",
       "<table border=\"1\" class=\"dataframe\">\n",
       "  <thead>\n",
       "    <tr style=\"text-align: right;\">\n",
       "      <th></th>\n",
       "      <th>permalink</th>\n",
       "      <th>name</th>\n",
       "      <th>category_list</th>\n",
       "      <th>status</th>\n",
       "      <th>country_code</th>\n",
       "      <th>funding_round_permalink</th>\n",
       "      <th>funding_round_type</th>\n",
       "      <th>funded_at</th>\n",
       "      <th>raised_amount_usd</th>\n",
       "    </tr>\n",
       "  </thead>\n",
       "  <tbody>\n",
       "    <tr>\n",
       "      <th>0</th>\n",
       "      <td>/organization/-fame</td>\n",
       "      <td>#fame</td>\n",
       "      <td>Media</td>\n",
       "      <td>operating</td>\n",
       "      <td>IND</td>\n",
       "      <td>/funding-round/9a01d05418af9f794eebff7ace91f638</td>\n",
       "      <td>venture</td>\n",
       "      <td>05-01-2015</td>\n",
       "      <td>10000000.0</td>\n",
       "    </tr>\n",
       "    <tr>\n",
       "      <th>1</th>\n",
       "      <td>/organization/-qounter</td>\n",
       "      <td>:Qounter</td>\n",
       "      <td>Application Platforms|Real Time|Social Network...</td>\n",
       "      <td>operating</td>\n",
       "      <td>USA</td>\n",
       "      <td>/funding-round/22dacff496eb7acb2b901dec1dfe5633</td>\n",
       "      <td>venture</td>\n",
       "      <td>14-10-2014</td>\n",
       "      <td>NaN</td>\n",
       "    </tr>\n",
       "    <tr>\n",
       "      <th>2</th>\n",
       "      <td>/organization/-qounter</td>\n",
       "      <td>:Qounter</td>\n",
       "      <td>Application Platforms|Real Time|Social Network...</td>\n",
       "      <td>operating</td>\n",
       "      <td>USA</td>\n",
       "      <td>/funding-round/b44fbb94153f6cdef13083530bb48030</td>\n",
       "      <td>seed</td>\n",
       "      <td>01-03-2014</td>\n",
       "      <td>700000.0</td>\n",
       "    </tr>\n",
       "    <tr>\n",
       "      <th>3</th>\n",
       "      <td>/organization/-the-one-of-them-inc-</td>\n",
       "      <td>(THE) ONE of THEM,Inc.</td>\n",
       "      <td>Apps|Games|Mobile</td>\n",
       "      <td>operating</td>\n",
       "      <td>NaN</td>\n",
       "      <td>/funding-round/650b8f704416801069bb178a1418776b</td>\n",
       "      <td>venture</td>\n",
       "      <td>30-01-2014</td>\n",
       "      <td>3406878.0</td>\n",
       "    </tr>\n",
       "    <tr>\n",
       "      <th>4</th>\n",
       "      <td>/organization/0-6-com</td>\n",
       "      <td>0-6.com</td>\n",
       "      <td>Curated Web</td>\n",
       "      <td>operating</td>\n",
       "      <td>CHN</td>\n",
       "      <td>/funding-round/5727accaeaa57461bd22a9bdd945382d</td>\n",
       "      <td>venture</td>\n",
       "      <td>19-03-2008</td>\n",
       "      <td>2000000.0</td>\n",
       "    </tr>\n",
       "  </tbody>\n",
       "</table>\n",
       "</div>"
      ],
      "text/plain": [
       "                             permalink                    name  \\\n",
       "0                  /organization/-fame                   #fame   \n",
       "1               /organization/-qounter                :Qounter   \n",
       "2               /organization/-qounter                :Qounter   \n",
       "3  /organization/-the-one-of-them-inc-  (THE) ONE of THEM,Inc.   \n",
       "4                /organization/0-6-com                 0-6.com   \n",
       "\n",
       "                                       category_list     status country_code  \\\n",
       "0                                              Media  operating          IND   \n",
       "1  Application Platforms|Real Time|Social Network...  operating          USA   \n",
       "2  Application Platforms|Real Time|Social Network...  operating          USA   \n",
       "3                                  Apps|Games|Mobile  operating          NaN   \n",
       "4                                        Curated Web  operating          CHN   \n",
       "\n",
       "                           funding_round_permalink funding_round_type  \\\n",
       "0  /funding-round/9a01d05418af9f794eebff7ace91f638            venture   \n",
       "1  /funding-round/22dacff496eb7acb2b901dec1dfe5633            venture   \n",
       "2  /funding-round/b44fbb94153f6cdef13083530bb48030               seed   \n",
       "3  /funding-round/650b8f704416801069bb178a1418776b            venture   \n",
       "4  /funding-round/5727accaeaa57461bd22a9bdd945382d            venture   \n",
       "\n",
       "    funded_at  raised_amount_usd  \n",
       "0  05-01-2015         10000000.0  \n",
       "1  14-10-2014                NaN  \n",
       "2  01-03-2014           700000.0  \n",
       "3  30-01-2014          3406878.0  \n",
       "4  19-03-2008          2000000.0  "
      ]
     },
     "execution_count": 10,
     "metadata": {},
     "output_type": "execute_result"
    }
   ],
   "source": [
    "#dropping the unnecessary columns\n",
    "master = master.drop(columns = ['funding_round_code', 'homepage_url',\n",
    "                                'founded_at', 'state_code', 'region', \n",
    "                                'city'])\n",
    "master.head()"
   ]
  },
  {
   "cell_type": "code",
   "execution_count": 11,
   "id": "5f728175",
   "metadata": {},
   "outputs": [
    {
     "name": "stdout",
     "output_type": "stream",
     "text": [
      "permalink                   0.00\n",
      "name                        0.00\n",
      "category_list               2.97\n",
      "status                      0.00\n",
      "country_code                7.55\n",
      "funding_round_permalink     0.00\n",
      "funding_round_type          0.00\n",
      "funded_at                   0.00\n",
      "raised_amount_usd          17.39\n",
      "dtype: float64\n"
     ]
    }
   ],
   "source": [
    "#percent of missing in each columns\n",
    "print(round(100*master.isnull().sum()/len(master.index),2))"
   ]
  },
  {
   "attachments": {},
   "cell_type": "markdown",
   "id": "2ec0f19f",
   "metadata": {},
   "source": [
    "Missing columns include ```category_list```, ```country_code``` and ```raised_amount_usd```. \n",
    "\n",
    "We can not simply delete these columns as ```category_list``` will be used for merging with the mapping file.\n",
    "\n",
    "```country_code``` and ```raised_amount_usd``` are useful from business perspective.\n",
    "\n",
    "We have to carefully tread through the ```raised_amount_usd``` column as it has about ```17%``` missing values\n",
    "\n"
   ]
  },
  {
   "cell_type": "code",
   "execution_count": 12,
   "id": "c672619e",
   "metadata": {},
   "outputs": [
    {
     "data": {
      "text/plain": [
       "count    9.495900e+04\n",
       "mean     1.042687e+07\n",
       "std      1.148212e+08\n",
       "min      0.000000e+00\n",
       "25%      3.225000e+05\n",
       "50%      1.680511e+06\n",
       "75%      7.000000e+06\n",
       "max      2.127194e+10\n",
       "Name: raised_amount_usd, dtype: float64"
      ]
     },
     "execution_count": 12,
     "metadata": {},
     "output_type": "execute_result"
    }
   ],
   "source": [
    "#some stats of the raised amount column\n",
    "master.raised_amount_usd.describe()"
   ]
  },
  {
   "attachments": {},
   "cell_type": "markdown",
   "id": "d50357be",
   "metadata": {},
   "source": [
    "The `mean` amount of funding is `10 million USD`.\n",
    "The `median` is about `1.7 million USD`.\n",
    "The highest amount invested is about `21.7 billion USD`\n",
    "The data is highly skewed and has very large outliers. This clearly inflate the mean.\n",
    "\n",
    "This suggests we have no other option but to delete the missing values in `raised_amount_usd`\n",
    "as we can not impute them with mean or median"
   ]
  },
  {
   "cell_type": "code",
   "execution_count": 13,
   "id": "93b8a218",
   "metadata": {},
   "outputs": [],
   "source": [
    "#dropping the missing values \n",
    "master = master[~np.isnan(master.raised_amount_usd)]"
   ]
  },
  {
   "cell_type": "code",
   "execution_count": 14,
   "id": "1b2da7c1",
   "metadata": {},
   "outputs": [
    {
     "name": "stdout",
     "output_type": "stream",
     "text": [
      "permalink                     0\n",
      "name                          1\n",
      "category_list              1044\n",
      "status                        0\n",
      "country_code               5851\n",
      "funding_round_permalink       0\n",
      "funding_round_type            0\n",
      "funded_at                     0\n",
      "raised_amount_usd             0\n",
      "dtype: int64\n",
      "----------------------------------------\n",
      "permalink                  0.00\n",
      "name                       0.00\n",
      "category_list              1.10\n",
      "status                     0.00\n",
      "country_code               6.16\n",
      "funding_round_permalink    0.00\n",
      "funding_round_type         0.00\n",
      "funded_at                  0.00\n",
      "raised_amount_usd          0.00\n",
      "dtype: float64\n"
     ]
    }
   ],
   "source": [
    "print(master.isnull().sum())\n",
    "print('--'*20)\n",
    "print(round(100*master.isnull().sum()/len(master.index),2))"
   ]
  },
  {
   "cell_type": "code",
   "execution_count": 15,
   "id": "130370dc",
   "metadata": {},
   "outputs": [
    {
     "name": "stdout",
     "output_type": "stream",
     "text": [
      "<class 'pandas.core.frame.DataFrame'>\n",
      "Int64Index: 94959 entries, 0 to 114948\n",
      "Data columns (total 9 columns):\n",
      " #   Column                   Non-Null Count  Dtype  \n",
      "---  ------                   --------------  -----  \n",
      " 0   permalink                94959 non-null  object \n",
      " 1   name                     94958 non-null  object \n",
      " 2   category_list            93915 non-null  object \n",
      " 3   status                   94959 non-null  object \n",
      " 4   country_code             89108 non-null  object \n",
      " 5   funding_round_permalink  94959 non-null  object \n",
      " 6   funding_round_type       94959 non-null  object \n",
      " 7   funded_at                94959 non-null  object \n",
      " 8   raised_amount_usd        94959 non-null  float64\n",
      "dtypes: float64(1), object(8)\n",
      "memory usage: 7.2+ MB\n"
     ]
    }
   ],
   "source": [
    "master.info()"
   ]
  },
  {
   "attachments": {},
   "cell_type": "markdown",
   "id": "0f85e8ac",
   "metadata": {},
   "source": [
    "We can see the only `country_code` and `category_list` have missing values left \n",
    "along with one entry in the `name` column. \n",
    "\n",
    "Lets check the country_code"
   ]
  },
  {
   "cell_type": "code",
   "execution_count": 16,
   "id": "8b6eb20e",
   "metadata": {},
   "outputs": [
    {
     "data": {
      "text/plain": [
       "USA    69.63\n",
       "GBR     5.63\n",
       "CAN     2.94\n",
       "CHN     2.16\n",
       "IND     1.85\n",
       "       ...  \n",
       "HND     0.00\n",
       "GGY     0.00\n",
       "TGO     0.00\n",
       "MNE     0.00\n",
       "SEN     0.00\n",
       "Name: country_code, Length: 134, dtype: float64"
      ]
     },
     "execution_count": 16,
     "metadata": {},
     "output_type": "execute_result"
    }
   ],
   "source": [
    "round(100*master.country_code.value_counts()/master.country_code.count(), 2)"
   ]
  },
  {
   "attachments": {},
   "cell_type": "markdown",
   "id": "138f7120",
   "metadata": {},
   "source": [
    "It looks like `USA` is the country with most companies around ``69.63%`` \n",
    "of the non null values.Followed by `GBR`, `CAN`, `CHN` and `IND` with \n",
    "`5.63%`, `2.94%`, `2.16%` and `1.85%` of the total countries.\n",
    "\n",
    "Either we can delete the missing values or impute them with USA. \n",
    "But since the % missing values in country_code is `~6%` we can del them as we have \n",
    "enough data to carry on the analysis\n",
    "\n",
    "Also since the missing category_list is about `0.65%` we can drop those entries as well."
   ]
  },
  {
   "cell_type": "code",
   "execution_count": 17,
   "id": "1c76a35c",
   "metadata": {
    "scrolled": true
   },
   "outputs": [
    {
     "name": "stdout",
     "output_type": "stream",
     "text": [
      "<class 'pandas.core.frame.DataFrame'>\n",
      "Int64Index: 89108 entries, 0 to 114947\n",
      "Data columns (total 9 columns):\n",
      " #   Column                   Non-Null Count  Dtype  \n",
      "---  ------                   --------------  -----  \n",
      " 0   permalink                89108 non-null  object \n",
      " 1   name                     89107 non-null  object \n",
      " 2   category_list            88529 non-null  object \n",
      " 3   status                   89108 non-null  object \n",
      " 4   country_code             89108 non-null  object \n",
      " 5   funding_round_permalink  89108 non-null  object \n",
      " 6   funding_round_type       89108 non-null  object \n",
      " 7   funded_at                89108 non-null  object \n",
      " 8   raised_amount_usd        89108 non-null  float64\n",
      "dtypes: float64(1), object(8)\n",
      "memory usage: 6.8+ MB\n"
     ]
    }
   ],
   "source": [
    "#deleting the entries with missing country_code\n",
    "master = master[~pd.isnull(master.country_code)]\n",
    "master.info()"
   ]
  },
  {
   "cell_type": "code",
   "execution_count": 18,
   "id": "aa3a0642",
   "metadata": {},
   "outputs": [
    {
     "name": "stdout",
     "output_type": "stream",
     "text": [
      "permalink                  0.00\n",
      "name                       0.00\n",
      "category_list              0.65\n",
      "status                     0.00\n",
      "country_code               0.00\n",
      "funding_round_permalink    0.00\n",
      "funding_round_type         0.00\n",
      "funded_at                  0.00\n",
      "raised_amount_usd          0.00\n",
      "dtype: float64\n"
     ]
    }
   ],
   "source": [
    "#printing the misising value after deleting the missing country_code entries\n",
    "print(round(100*master.isnull().sum()/len(master.index),2))"
   ]
  },
  {
   "cell_type": "code",
   "execution_count": 19,
   "id": "14c38cf3",
   "metadata": {},
   "outputs": [
    {
     "name": "stdout",
     "output_type": "stream",
     "text": [
      "<class 'pandas.core.frame.DataFrame'>\n",
      "Int64Index: 88529 entries, 0 to 114947\n",
      "Data columns (total 9 columns):\n",
      " #   Column                   Non-Null Count  Dtype  \n",
      "---  ------                   --------------  -----  \n",
      " 0   permalink                88529 non-null  object \n",
      " 1   name                     88528 non-null  object \n",
      " 2   category_list            88529 non-null  object \n",
      " 3   status                   88529 non-null  object \n",
      " 4   country_code             88529 non-null  object \n",
      " 5   funding_round_permalink  88529 non-null  object \n",
      " 6   funding_round_type       88529 non-null  object \n",
      " 7   funded_at                88529 non-null  object \n",
      " 8   raised_amount_usd        88529 non-null  float64\n",
      "dtypes: float64(1), object(8)\n",
      "memory usage: 6.8+ MB\n"
     ]
    }
   ],
   "source": [
    "#deleting rows with missing category_list\n",
    "master = master[~pd.isnull(master.category_list)]\n",
    "master.info()"
   ]
  },
  {
   "cell_type": "code",
   "execution_count": 20,
   "id": "c124bafe",
   "metadata": {},
   "outputs": [
    {
     "name": "stdout",
     "output_type": "stream",
     "text": [
      "permalink                  0.0\n",
      "name                       0.0\n",
      "category_list              0.0\n",
      "status                     0.0\n",
      "country_code               0.0\n",
      "funding_round_permalink    0.0\n",
      "funding_round_type         0.0\n",
      "funded_at                  0.0\n",
      "raised_amount_usd          0.0\n",
      "dtype: float64\n"
     ]
    }
   ],
   "source": [
    "#printing the misising value after deleting the missing category_list entries\n",
    "print(round(100*master.isnull().sum()/len(master.index),2))"
   ]
  },
  {
   "cell_type": "code",
   "execution_count": 21,
   "id": "34559dba",
   "metadata": {},
   "outputs": [
    {
     "data": {
      "text/html": [
       "<div>\n",
       "<style scoped>\n",
       "    .dataframe tbody tr th:only-of-type {\n",
       "        vertical-align: middle;\n",
       "    }\n",
       "\n",
       "    .dataframe tbody tr th {\n",
       "        vertical-align: top;\n",
       "    }\n",
       "\n",
       "    .dataframe thead th {\n",
       "        text-align: right;\n",
       "    }\n",
       "</style>\n",
       "<table border=\"1\" class=\"dataframe\">\n",
       "  <thead>\n",
       "    <tr style=\"text-align: right;\">\n",
       "      <th></th>\n",
       "      <th>permalink</th>\n",
       "      <th>name</th>\n",
       "      <th>category_list</th>\n",
       "      <th>status</th>\n",
       "      <th>country_code</th>\n",
       "      <th>funding_round_permalink</th>\n",
       "      <th>funding_round_type</th>\n",
       "      <th>funded_at</th>\n",
       "      <th>raised_amount_usd</th>\n",
       "    </tr>\n",
       "  </thead>\n",
       "  <tbody>\n",
       "    <tr>\n",
       "      <th>98692</th>\n",
       "      <td>/organization/tell-it-in</td>\n",
       "      <td>NaN</td>\n",
       "      <td>Startups</td>\n",
       "      <td>closed</td>\n",
       "      <td>USA</td>\n",
       "      <td>/funding-round/9c987e616755a78c51a4aa67c27a2a93</td>\n",
       "      <td>seed</td>\n",
       "      <td>01-03-2012</td>\n",
       "      <td>25000.0</td>\n",
       "    </tr>\n",
       "  </tbody>\n",
       "</table>\n",
       "</div>"
      ],
      "text/plain": [
       "                      permalink name category_list  status country_code  \\\n",
       "98692  /organization/tell-it-in  NaN      Startups  closed          USA   \n",
       "\n",
       "                               funding_round_permalink funding_round_type  \\\n",
       "98692  /funding-round/9c987e616755a78c51a4aa67c27a2a93               seed   \n",
       "\n",
       "        funded_at  raised_amount_usd  \n",
       "98692  01-03-2012            25000.0  "
      ]
     },
     "execution_count": 21,
     "metadata": {},
     "output_type": "execute_result"
    }
   ],
   "source": [
    "#we can see only one entry without name. \n",
    "#lets have a look\n",
    "master.loc[master.name.isnull(),:]"
   ]
  },
  {
   "cell_type": "code",
   "execution_count": 22,
   "id": "071f8b2a",
   "metadata": {},
   "outputs": [],
   "source": [
    "#changing the name at the above loc to Tell_it_in\n",
    "master.loc[98692,'name'] = 'Tell_it_in'"
   ]
  },
  {
   "cell_type": "code",
   "execution_count": 23,
   "id": "dda1edaf",
   "metadata": {},
   "outputs": [
    {
     "data": {
      "text/html": [
       "<div>\n",
       "<style scoped>\n",
       "    .dataframe tbody tr th:only-of-type {\n",
       "        vertical-align: middle;\n",
       "    }\n",
       "\n",
       "    .dataframe tbody tr th {\n",
       "        vertical-align: top;\n",
       "    }\n",
       "\n",
       "    .dataframe thead th {\n",
       "        text-align: right;\n",
       "    }\n",
       "</style>\n",
       "<table border=\"1\" class=\"dataframe\">\n",
       "  <thead>\n",
       "    <tr style=\"text-align: right;\">\n",
       "      <th></th>\n",
       "      <th>permalink</th>\n",
       "      <th>name</th>\n",
       "      <th>category_list</th>\n",
       "      <th>status</th>\n",
       "      <th>country_code</th>\n",
       "      <th>funding_round_permalink</th>\n",
       "      <th>funding_round_type</th>\n",
       "      <th>funded_at</th>\n",
       "      <th>raised_amount_usd</th>\n",
       "    </tr>\n",
       "  </thead>\n",
       "  <tbody>\n",
       "  </tbody>\n",
       "</table>\n",
       "</div>"
      ],
      "text/plain": [
       "Empty DataFrame\n",
       "Columns: [permalink, name, category_list, status, country_code, funding_round_permalink, funding_round_type, funded_at, raised_amount_usd]\n",
       "Index: []"
      ]
     },
     "execution_count": 23,
     "metadata": {},
     "output_type": "execute_result"
    }
   ],
   "source": [
    "#checking if it worked\n",
    "master.loc[master.name.isnull(),:]"
   ]
  },
  {
   "cell_type": "code",
   "execution_count": 24,
   "id": "bc30dae9",
   "metadata": {},
   "outputs": [
    {
     "data": {
      "text/plain": [
       "'Tell_it_in'"
      ]
     },
     "execution_count": 24,
     "metadata": {},
     "output_type": "execute_result"
    }
   ],
   "source": [
    "#checking the name at the changed location\n",
    "master.loc[98692,'name']"
   ]
  },
  {
   "cell_type": "code",
   "execution_count": 25,
   "id": "9fe6d9d9",
   "metadata": {},
   "outputs": [
    {
     "name": "stdout",
     "output_type": "stream",
     "text": [
      "permalink                  0\n",
      "name                       0\n",
      "category_list              0\n",
      "status                     0\n",
      "country_code               0\n",
      "funding_round_permalink    0\n",
      "funding_round_type         0\n",
      "funded_at                  0\n",
      "raised_amount_usd          0\n",
      "dtype: int64\n"
     ]
    }
   ],
   "source": [
    "#checking for missing values\n",
    "print(master.isnull().sum())"
   ]
  },
  {
   "cell_type": "code",
   "execution_count": 26,
   "id": "832cbc10",
   "metadata": {
    "scrolled": true
   },
   "outputs": [
    {
     "name": "stdout",
     "output_type": "stream",
     "text": [
      "<class 'pandas.core.frame.DataFrame'>\n",
      "Int64Index: 88529 entries, 0 to 114947\n",
      "Data columns (total 9 columns):\n",
      " #   Column                   Non-Null Count  Dtype  \n",
      "---  ------                   --------------  -----  \n",
      " 0   permalink                88529 non-null  object \n",
      " 1   name                     88529 non-null  object \n",
      " 2   category_list            88529 non-null  object \n",
      " 3   status                   88529 non-null  object \n",
      " 4   country_code             88529 non-null  object \n",
      " 5   funding_round_permalink  88529 non-null  object \n",
      " 6   funding_round_type       88529 non-null  object \n",
      " 7   funded_at                88529 non-null  object \n",
      " 8   raised_amount_usd        88529 non-null  float64\n",
      "dtypes: float64(1), object(8)\n",
      "memory usage: 8.8+ MB\n"
     ]
    }
   ],
   "source": [
    "#checking the cleaned data\n",
    "master.info()"
   ]
  },
  {
   "attachments": {},
   "cell_type": "markdown",
   "id": "49f3e881",
   "metadata": {},
   "source": [
    "We have treated all the missing values.\n",
    "Now we have `88529` out of `114948` entries left after clean-up.\n",
    "We have about `78%` of our initial data. Which is low but as the data has `~89K` \n",
    "entries, we can do some solid analysis to them.\n",
    "\n",
    "Now we can put the cleaned master data to a csv file "
   ]
  },
  {
   "cell_type": "code",
   "execution_count": 27,
   "id": "ed3c4f99",
   "metadata": {},
   "outputs": [],
   "source": [
    "#creating clean master csv file\n",
    "#master.to_csv(\"master_clean.csv\", index = False)"
   ]
  },
  {
   "attachments": {},
   "cell_type": "markdown",
   "id": "f4e255f6",
   "metadata": {},
   "source": [
    "### Lets move to the Analysis notebook"
   ]
  }
 ],
 "metadata": {
  "kernelspec": {
   "display_name": "Python 3 (ipykernel)",
   "language": "python",
   "name": "python3"
  },
  "language_info": {
   "codemirror_mode": {
    "name": "ipython",
    "version": 3
   },
   "file_extension": ".py",
   "mimetype": "text/x-python",
   "name": "python",
   "nbconvert_exporter": "python",
   "pygments_lexer": "ipython3",
   "version": "3.11.3"
  }
 },
 "nbformat": 4,
 "nbformat_minor": 5
}
